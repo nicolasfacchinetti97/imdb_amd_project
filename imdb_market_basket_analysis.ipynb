{
  "nbformat": 4,
  "nbformat_minor": 5,
  "metadata": {
    "kernelspec": {
      "display_name": "Python 3.7.7 64-bit ('tf-gpu': conda)",
      "language": "python",
      "name": "python37764bittfgpuconda69e5dcd644e74d2bbdb17a00c65db70c"
    },
    "language_info": {
      "codemirror_mode": {
        "name": "ipython",
        "version": 3
      },
      "file_extension": ".py",
      "mimetype": "text/x-python",
      "name": "python",
      "nbconvert_exporter": "python",
      "pygments_lexer": "ipython3",
      "version": "3.7.7"
    },
    "colab": {
      "name": "imdb_market_basket_analysis.ipynb",
      "provenance": []
    }
  },
  "cells": [
    {
      "cell_type": "markdown",
      "metadata": {
        "id": "protecting-prague"
      },
      "source": [
        "# Project 2: Market-basket analysis - IMDB dataset"
      ],
      "id": "protecting-prague"
    },
    {
      "cell_type": "markdown",
      "metadata": {
        "id": "tough-romance"
      },
      "source": [
        "Project for the course of Algorithms for Massive Dataset <br> Nicolas Facchinetti 961648 <br> Antonio Belotti xxxxxx"
      ],
      "id": "tough-romance"
    },
    {
      "cell_type": "markdown",
      "metadata": {
        "id": "arabic-forwarding"
      },
      "source": [
        "# Download the dataset from Kaggle"
      ],
      "id": "arabic-forwarding"
    },
    {
      "cell_type": "markdown",
      "metadata": {
        "id": "cardiac-significance"
      },
      "source": [
        "First install the Python module of Kaggle to download the dataset from its datacenter"
      ],
      "id": "cardiac-significance"
    },
    {
      "cell_type": "code",
      "metadata": {
        "id": "third-confidence",
        "outputId": "89906f17-2140-41a1-98c5-b805de06a8c7",
        "colab": {
          "base_uri": "https://localhost:8080/"
        }
      },
      "source": [
        "!pip install kaggle"
      ],
      "id": "third-confidence",
      "execution_count": 9,
      "outputs": [
        {
          "output_type": "stream",
          "text": [
            "Requirement already satisfied: kaggle in /usr/local/lib/python3.7/dist-packages (1.5.12)\n",
            "Requirement already satisfied: python-slugify in /usr/local/lib/python3.7/dist-packages (from kaggle) (5.0.2)\n",
            "Requirement already satisfied: urllib3 in /usr/local/lib/python3.7/dist-packages (from kaggle) (1.24.3)\n",
            "Requirement already satisfied: six>=1.10 in /usr/local/lib/python3.7/dist-packages (from kaggle) (1.15.0)\n",
            "Requirement already satisfied: certifi in /usr/local/lib/python3.7/dist-packages (from kaggle) (2021.5.30)\n",
            "Requirement already satisfied: python-dateutil in /usr/local/lib/python3.7/dist-packages (from kaggle) (2.8.1)\n",
            "Requirement already satisfied: requests in /usr/local/lib/python3.7/dist-packages (from kaggle) (2.23.0)\n",
            "Requirement already satisfied: tqdm in /usr/local/lib/python3.7/dist-packages (from kaggle) (4.41.1)\n",
            "Requirement already satisfied: text-unidecode>=1.3 in /usr/local/lib/python3.7/dist-packages (from python-slugify->kaggle) (1.3)\n",
            "Requirement already satisfied: idna<3,>=2.5 in /usr/local/lib/python3.7/dist-packages (from requests->kaggle) (2.10)\n",
            "Requirement already satisfied: chardet<4,>=3.0.2 in /usr/local/lib/python3.7/dist-packages (from requests->kaggle) (3.0.4)\n"
          ],
          "name": "stdout"
        }
      ]
    },
    {
      "cell_type": "markdown",
      "metadata": {
        "id": "attractive-recall"
      },
      "source": [
        "Then load kaggle.json, a file containing your API credentials to be able to use the services offered by Kaggle"
      ],
      "id": "attractive-recall"
    },
    {
      "cell_type": "code",
      "metadata": {
        "id": "narrow-future",
        "outputId": "3cffd788-1e3d-40bb-b3d5-aa0450cbf16e",
        "colab": {
          "resources": {
            "http://localhost:8080/nbextensions/google.colab/files.js": {
              "data": "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",
              "ok": true,
              "headers": [
                [
                  "content-type",
                  "application/javascript"
                ]
              ],
              "status": 200,
              "status_text": ""
            }
          },
          "base_uri": "https://localhost:8080/",
          "height": 73
        }
      },
      "source": [
        "from google.colab import files\n",
        "\n",
        "uploaded = files.upload()\n",
        "  \n",
        "# Move kaggle.json into the folder where the API expects to find it.\n",
        "!mkdir -p ~/.kaggle/ && mv kaggle.json ~/.kaggle/ && chmod 600 ~/.kaggle/kaggle.json"
      ],
      "id": "narrow-future",
      "execution_count": 10,
      "outputs": [
        {
          "output_type": "display_data",
          "data": {
            "text/html": [
              "\n",
              "     <input type=\"file\" id=\"files-4b2e1489-02da-490c-b88d-36b14eb3dd4d\" name=\"files[]\" multiple disabled\n",
              "        style=\"border:none\" />\n",
              "     <output id=\"result-4b2e1489-02da-490c-b88d-36b14eb3dd4d\">\n",
              "      Upload widget is only available when the cell has been executed in the\n",
              "      current browser session. Please rerun this cell to enable.\n",
              "      </output>\n",
              "      <script src=\"/nbextensions/google.colab/files.js\"></script> "
            ],
            "text/plain": [
              "<IPython.core.display.HTML object>"
            ]
          },
          "metadata": {
            "tags": []
          }
        },
        {
          "output_type": "stream",
          "text": [
            "Saving kaggle.json to kaggle.json\n"
          ],
          "name": "stdout"
        }
      ]
    },
    {
      "cell_type": "markdown",
      "metadata": {
        "id": "entitled-stanley"
      },
      "source": [
        "Now we can download the dataset"
      ],
      "id": "entitled-stanley"
    },
    {
      "cell_type": "code",
      "metadata": {
        "id": "built-indianapolis",
        "outputId": "2cdd88e5-c9ca-4aa8-b800-2f4aa5508333",
        "colab": {
          "base_uri": "https://localhost:8080/"
        }
      },
      "source": [
        "!kaggle datasets download 'ashirwadsangwan/imdb-dataset'"
      ],
      "id": "built-indianapolis",
      "execution_count": 11,
      "outputs": [
        {
          "output_type": "stream",
          "text": [
            "imdb-dataset.zip: Skipping, found more recently modified local copy (use --force to force download)\n"
          ],
          "name": "stdout"
        }
      ]
    },
    {
      "cell_type": "markdown",
      "metadata": {
        "id": "naked-dinner"
      },
      "source": [
        "We now must unzip the compressed archive to use it. Once done we can also remove it."
      ],
      "id": "naked-dinner"
    },
    {
      "cell_type": "code",
      "metadata": {
        "id": "every-homework",
        "outputId": "8fd1d262-d87a-4160-9d00-16bad468591c",
        "colab": {
          "base_uri": "https://localhost:8080/"
        }
      },
      "source": [
        "!unzip imdb-dataset.zip && rm imdb-dataset.zip"
      ],
      "id": "every-homework",
      "execution_count": 12,
      "outputs": [
        {
          "output_type": "stream",
          "text": [
            "Archive:  imdb-dataset.zip\n",
            "  inflating: name.basics.tsv.gz      \n",
            "  inflating: name.basics.tsv/name.basics.tsv  \n",
            "  inflating: title.akas.tsv.gz       \n",
            "  inflating: title.akas.tsv/title.akas.tsv  \n",
            "  inflating: title.basics.tsv.gz     \n",
            "  inflating: title.basics.tsv/title.basics.tsv  \n",
            "  inflating: title.principals.tsv.gz  \n",
            "  inflating: title.principals.tsv/title.principals.tsv  \n",
            "  inflating: title.ratings.tsv.gz    \n",
            "  inflating: title.ratings.tsv/title.ratings.tsv  \n"
          ],
          "name": "stdout"
        }
      ]
    },
    {
      "cell_type": "markdown",
      "metadata": {
        "id": "QDn6fZxXA6Fs"
      },
      "source": [
        "Lets try to load some data in a Pandas Dataframe"
      ],
      "id": "QDn6fZxXA6Fs"
    },
    {
      "cell_type": "code",
      "metadata": {
        "id": "wANk5QmHCCJs",
        "outputId": "75731c8e-320c-4fe9-88b6-dec5b7724849",
        "colab": {
          "base_uri": "https://localhost:8080/"
        }
      },
      "source": [
        "!cd name.basics.tsv && ls"
      ],
      "id": "wANk5QmHCCJs",
      "execution_count": 28,
      "outputs": [
        {
          "output_type": "stream",
          "text": [
            "name.basics.tsv\n"
          ],
          "name": "stdout"
        }
      ]
    },
    {
      "cell_type": "code",
      "metadata": {
        "id": "featured-tackle",
        "outputId": "02254948-78fc-4582-e051-234743a12f80",
        "colab": {
          "base_uri": "https://localhost:8080/",
          "height": 963
        }
      },
      "source": [
        "import pandas as pd \n",
        "\n",
        "# load and skip the bad lines only for testing the dataset\n",
        "rca_df = pd.read_csv(\"name.basics.tsv.gz\", compression='gzip', error_bad_lines=False)\n",
        "rca_df.head()"
      ],
      "id": "featured-tackle",
      "execution_count": 24,
      "outputs": [
        {
          "output_type": "stream",
          "text": [
            "b'Skipping line 297357: expected 6 fields, saw 7\\n'\n",
            "b'Skipping line 483132: expected 6 fields, saw 7\\n'\n",
            "b'Skipping line 585006: expected 6 fields, saw 7\\nSkipping line 625459: expected 6 fields, saw 8\\n'\n",
            "b'Skipping line 765173: expected 6 fields, saw 9\\n'\n",
            "b'Skipping line 856380: expected 6 fields, saw 7\\n'\n",
            "b'Skipping line 2081388: expected 6 fields, saw 7\\nSkipping line 2084405: expected 6 fields, saw 7\\n'\n",
            "b'Skipping line 2276284: expected 6 fields, saw 8\\n'\n",
            "b'Skipping line 2415383: expected 6 fields, saw 10\\n'\n",
            "b'Skipping line 2528729: expected 6 fields, saw 7\\nSkipping line 2603985: expected 6 fields, saw 7\\n'\n",
            "b'Skipping line 2653917: expected 6 fields, saw 7\\nSkipping line 2668019: expected 6 fields, saw 7\\nSkipping line 2704944: expected 6 fields, saw 7\\nSkipping line 2725330: expected 6 fields, saw 7\\nSkipping line 2750343: expected 6 fields, saw 7\\n'\n",
            "b'Skipping line 2867876: expected 6 fields, saw 7\\n'\n",
            "b'Skipping line 3037435: expected 6 fields, saw 7\\nSkipping line 3102104: expected 6 fields, saw 7\\n'\n",
            "b'Skipping line 3396852: expected 6 fields, saw 7\\n'\n",
            "b'Skipping line 3566598: expected 6 fields, saw 7\\nSkipping line 3586368: expected 6 fields, saw 7\\n'\n",
            "b'Skipping line 3710949: expected 6 fields, saw 7\\nSkipping line 3730954: expected 6 fields, saw 7\\nSkipping line 3761517: expected 6 fields, saw 7\\n'\n",
            "b'Skipping line 3928995: expected 6 fields, saw 7\\n'\n",
            "b'Skipping line 4147565: expected 6 fields, saw 7\\n'\n",
            "b'Skipping line 4222866: expected 6 fields, saw 7\\n'\n",
            "b'Skipping line 4377249: expected 6 fields, saw 7\\nSkipping line 4403627: expected 6 fields, saw 7\\n'\n",
            "b'Skipping line 4852963: expected 6 fields, saw 7\\nSkipping line 4896714: expected 6 fields, saw 8\\nSkipping line 4962532: expected 6 fields, saw 7\\n'\n",
            "b'Skipping line 4984928: expected 6 fields, saw 7\\n'\n",
            "b'Skipping line 5183601: expected 6 fields, saw 7\\n'\n",
            "b'Skipping line 5259072: expected 6 fields, saw 7\\n'\n",
            "b'Skipping line 5739005: expected 6 fields, saw 7\\n'\n",
            "b'Skipping line 5877709: expected 6 fields, saw 7\\n'\n",
            "b'Skipping line 5992910: expected 6 fields, saw 9\\n'\n",
            "b'Skipping line 6036783: expected 6 fields, saw 7\\nSkipping line 6126453: expected 6 fields, saw 7\\n'\n",
            "b'Skipping line 6213604: expected 6 fields, saw 7\\nSkipping line 6255595: expected 6 fields, saw 7\\n'\n",
            "b'Skipping line 6338896: expected 6 fields, saw 7\\nSkipping line 6344356: expected 6 fields, saw 7\\n'\n",
            "b'Skipping line 6472074: expected 6 fields, saw 7\\nSkipping line 6540764: expected 6 fields, saw 7\\n'\n",
            "b'Skipping line 6592150: expected 6 fields, saw 8\\nSkipping line 6592153: expected 6 fields, saw 7\\nSkipping line 6595768: expected 6 fields, saw 7\\nSkipping line 6656569: expected 6 fields, saw 7\\n'\n",
            "b'Skipping line 6872442: expected 6 fields, saw 7\\n'\n",
            "b'Skipping line 7628287: expected 6 fields, saw 7\\nSkipping line 7634821: expected 6 fields, saw 7\\nSkipping line 7639151: expected 6 fields, saw 8\\n'\n",
            "b'Skipping line 8455622: expected 6 fields, saw 7\\n'\n",
            "b'Skipping line 8693875: expected 6 fields, saw 7\\n'\n",
            "b'Skipping line 8870330: expected 6 fields, saw 7\\n'\n",
            "b'Skipping line 8947529: expected 6 fields, saw 7\\n'\n"
          ],
          "name": "stderr"
        },
        {
          "output_type": "execute_result",
          "data": {
            "text/html": [
              "<div>\n",
              "<style scoped>\n",
              "    .dataframe tbody tr th:only-of-type {\n",
              "        vertical-align: middle;\n",
              "    }\n",
              "\n",
              "    .dataframe tbody tr th {\n",
              "        vertical-align: top;\n",
              "    }\n",
              "\n",
              "    .dataframe thead th {\n",
              "        text-align: right;\n",
              "    }\n",
              "</style>\n",
              "<table border=\"1\" class=\"dataframe\">\n",
              "  <thead>\n",
              "    <tr style=\"text-align: right;\">\n",
              "      <th></th>\n",
              "      <th></th>\n",
              "      <th></th>\n",
              "      <th></th>\n",
              "      <th></th>\n",
              "      <th>nconst\\tprimaryName\\tbirthYear\\tdeathYear\\tprimaryProfession\\tknownForTitles</th>\n",
              "    </tr>\n",
              "  </thead>\n",
              "  <tbody>\n",
              "    <tr>\n",
              "      <th>nm0000001\\tFred Astaire\\t1899\\t1987\\tsoundtrack</th>\n",
              "      <th>actor</th>\n",
              "      <th>miscellaneous\\ttt0050419</th>\n",
              "      <th>tt0053137</th>\n",
              "      <th>tt0043044</th>\n",
              "      <td>tt0072308</td>\n",
              "    </tr>\n",
              "    <tr>\n",
              "      <th>nm0000002\\tLauren Bacall\\t1924\\t2014\\tactress</th>\n",
              "      <th>soundtrack\\ttt0117057</th>\n",
              "      <th>tt0037382</th>\n",
              "      <th>tt0071877</th>\n",
              "      <th>tt0038355</th>\n",
              "      <td>NaN</td>\n",
              "    </tr>\n",
              "    <tr>\n",
              "      <th>nm0000003\\tBrigitte Bardot\\t1934\\t\\N\\tactress</th>\n",
              "      <th>soundtrack</th>\n",
              "      <th>producer\\ttt0049189</th>\n",
              "      <th>tt0059956</th>\n",
              "      <th>tt0054452</th>\n",
              "      <td>tt0057345</td>\n",
              "    </tr>\n",
              "    <tr>\n",
              "      <th>nm0000004\\tJohn Belushi\\t1949\\t1982\\tactor</th>\n",
              "      <th>writer</th>\n",
              "      <th>soundtrack\\ttt0078723</th>\n",
              "      <th>tt0080455</th>\n",
              "      <th>tt0072562</th>\n",
              "      <td>tt0077975</td>\n",
              "    </tr>\n",
              "    <tr>\n",
              "      <th>nm0000005\\tIngmar Bergman\\t1918\\t2007\\twriter</th>\n",
              "      <th>director</th>\n",
              "      <th>actor\\ttt0050986</th>\n",
              "      <th>tt0083922</th>\n",
              "      <th>tt0069467</th>\n",
              "      <td>tt0050976</td>\n",
              "    </tr>\n",
              "  </tbody>\n",
              "</table>\n",
              "</div>"
            ],
            "text/plain": [
              "                                                                                                                   nconst\\tprimaryName\\tbirthYear\\tdeathYear\\tprimaryProfession\\tknownForTitles\n",
              "nm0000001\\tFred Astaire\\t1899\\t1987\\tsoundtrack actor                 miscellaneous\\ttt0050419 tt0053137 tt0043044                                          tt0072308                          \n",
              "nm0000002\\tLauren Bacall\\t1924\\t2014\\tactress   soundtrack\\ttt0117057 tt0037382                tt0071877 tt0038355                                                NaN                          \n",
              "nm0000003\\tBrigitte Bardot\\t1934\\t\\N\\tactress   soundtrack            producer\\ttt0049189      tt0059956 tt0054452                                          tt0057345                          \n",
              "nm0000004\\tJohn Belushi\\t1949\\t1982\\tactor      writer                soundtrack\\ttt0078723    tt0080455 tt0072562                                          tt0077975                          \n",
              "nm0000005\\tIngmar Bergman\\t1918\\t2007\\twriter   director              actor\\ttt0050986         tt0083922 tt0069467                                          tt0050976                          "
            ]
          },
          "metadata": {
            "tags": []
          },
          "execution_count": 24
        }
      ]
    },
    {
      "cell_type": "code",
      "metadata": {
        "id": "5UB37EMEEIZT",
        "outputId": "2c88f95e-b346-46ad-9ec5-4223fbc48051",
        "colab": {
          "base_uri": "https://localhost:8080/",
          "height": 1000
        }
      },
      "source": [
        "rca_df2 = pd.read_csv(\"name.basics.tsv/name.basics.tsv\", error_bad_lines=False)\n",
        "rca_df2.head()"
      ],
      "id": "5UB37EMEEIZT",
      "execution_count": 29,
      "outputs": [
        {
          "output_type": "stream",
          "text": [
            "b'Skipping line 297359: expected 6 fields, saw 7\\nSkipping line 315476: expected 6 fields, saw 7\\n'\n",
            "b'Skipping line 483135: expected 6 fields, saw 7\\n'\n",
            "b'Skipping line 585009: expected 6 fields, saw 7\\nSkipping line 625462: expected 6 fields, saw 8\\n'\n",
            "b'Skipping line 765176: expected 6 fields, saw 9\\n'\n",
            "b'Skipping line 856384: expected 6 fields, saw 7\\n'\n",
            "b'Skipping line 1311080: expected 6 fields, saw 8\\n'\n",
            "b'Skipping line 2076918: expected 6 fields, saw 7\\nSkipping line 2079935: expected 6 fields, saw 7\\n'\n",
            "b'Skipping line 2271816: expected 6 fields, saw 8\\n'\n",
            "b'Skipping line 2410917: expected 6 fields, saw 10\\n'\n",
            "b'Skipping line 2524267: expected 6 fields, saw 7\\nSkipping line 2599529: expected 6 fields, saw 7\\n'\n",
            "b'Skipping line 2649461: expected 6 fields, saw 7\\nSkipping line 2663563: expected 6 fields, saw 7\\nSkipping line 2700490: expected 6 fields, saw 7\\nSkipping line 2720877: expected 6 fields, saw 7\\nSkipping line 2745891: expected 6 fields, saw 7\\n'\n",
            "b'Skipping line 2863427: expected 6 fields, saw 7\\n'\n",
            "b'Skipping line 3032991: expected 6 fields, saw 7\\nSkipping line 3097662: expected 6 fields, saw 7\\n'\n",
            "b'Skipping line 3392416: expected 6 fields, saw 7\\n'\n",
            "b'Skipping line 3562166: expected 6 fields, saw 7\\nSkipping line 3581936: expected 6 fields, saw 7\\n'\n",
            "b'Skipping line 3706517: expected 6 fields, saw 7\\nSkipping line 3757085: expected 6 fields, saw 7\\n'\n",
            "b'Skipping line 3924566: expected 6 fields, saw 7\\n'\n",
            "b'Skipping line 4143138: expected 6 fields, saw 7\\n'\n",
            "b'Skipping line 4218439: expected 6 fields, saw 7\\nSkipping line 4319724: expected 6 fields, saw 7\\n'\n",
            "b'Skipping line 4372827: expected 6 fields, saw 7\\nSkipping line 4399206: expected 6 fields, saw 7\\n'\n",
            "b'Skipping line 4848557: expected 6 fields, saw 7\\n'\n",
            "b'Skipping line 4892310: expected 6 fields, saw 8\\nSkipping line 4958130: expected 6 fields, saw 7\\nSkipping line 4980527: expected 6 fields, saw 7\\n'\n",
            "b'Skipping line 5179203: expected 6 fields, saw 7\\n'\n",
            "b'Skipping line 5254676: expected 6 fields, saw 7\\n'\n",
            "b'Skipping line 5734615: expected 6 fields, saw 7\\n'\n",
            "b'Skipping line 5873323: expected 6 fields, saw 7\\n'\n",
            "b'Skipping line 5988525: expected 6 fields, saw 9\\n'\n",
            "b'Skipping line 6032401: expected 6 fields, saw 7\\nSkipping line 6122072: expected 6 fields, saw 7\\n'\n",
            "b'Skipping line 6209228: expected 6 fields, saw 7\\nSkipping line 6251221: expected 6 fields, saw 7\\n'\n",
            "b'Skipping line 6334528: expected 6 fields, saw 7\\nSkipping line 6339989: expected 6 fields, saw 7\\nSkipping line 6380140: expected 6 fields, saw 7\\n'\n",
            "b'Skipping line 6467711: expected 6 fields, saw 7\\nSkipping line 6536405: expected 6 fields, saw 7\\n'\n",
            "b'Skipping line 6587795: expected 6 fields, saw 8\\nSkipping line 6587798: expected 6 fields, saw 7\\nSkipping line 6591413: expected 6 fields, saw 7\\nSkipping line 6652219: expected 6 fields, saw 7\\n'\n",
            "b'Skipping line 6868109: expected 6 fields, saw 7\\n'\n",
            "b'Skipping line 7538754: expected 6 fields, saw 7\\n'\n",
            "b'Skipping line 7624008: expected 6 fields, saw 7\\nSkipping line 7630542: expected 6 fields, saw 7\\nSkipping line 7634872: expected 6 fields, saw 8\\n'\n",
            "b'Skipping line 8305572: expected 6 fields, saw 7\\n'\n",
            "b'Skipping line 8451400: expected 6 fields, saw 7\\n'\n",
            "b'Skipping line 8689670: expected 6 fields, saw 7\\n'\n",
            "b'Skipping line 8866137: expected 6 fields, saw 7\\n'\n",
            "b'Skipping line 8943343: expected 6 fields, saw 7\\n'\n",
            "b'Skipping line 9091423: expected 6 fields, saw 7\\n'\n"
          ],
          "name": "stderr"
        },
        {
          "output_type": "execute_result",
          "data": {
            "text/html": [
              "<div>\n",
              "<style scoped>\n",
              "    .dataframe tbody tr th:only-of-type {\n",
              "        vertical-align: middle;\n",
              "    }\n",
              "\n",
              "    .dataframe tbody tr th {\n",
              "        vertical-align: top;\n",
              "    }\n",
              "\n",
              "    .dataframe thead th {\n",
              "        text-align: right;\n",
              "    }\n",
              "</style>\n",
              "<table border=\"1\" class=\"dataframe\">\n",
              "  <thead>\n",
              "    <tr style=\"text-align: right;\">\n",
              "      <th></th>\n",
              "      <th></th>\n",
              "      <th></th>\n",
              "      <th></th>\n",
              "      <th></th>\n",
              "      <th>nconst\\tprimaryName\\tbirthYear\\tdeathYear\\tprimaryProfession\\tknownForTitles</th>\n",
              "    </tr>\n",
              "  </thead>\n",
              "  <tbody>\n",
              "    <tr>\n",
              "      <th>nm0000001\\tFred Astaire\\t1899\\t1987\\tsoundtrack</th>\n",
              "      <th>actor</th>\n",
              "      <th>miscellaneous\\ttt0050419</th>\n",
              "      <th>tt0053137</th>\n",
              "      <th>tt0072308</th>\n",
              "      <td>tt0043044</td>\n",
              "    </tr>\n",
              "    <tr>\n",
              "      <th>nm0000002\\tLauren Bacall\\t1924\\t2014\\tactress</th>\n",
              "      <th>soundtrack\\ttt0071877</th>\n",
              "      <th>tt0117057</th>\n",
              "      <th>tt0038355</th>\n",
              "      <th>tt0037382</th>\n",
              "      <td>NaN</td>\n",
              "    </tr>\n",
              "    <tr>\n",
              "      <th>nm0000003\\tBrigitte Bardot\\t1934\\t\\N\\tactress</th>\n",
              "      <th>soundtrack</th>\n",
              "      <th>producer\\ttt0054452</th>\n",
              "      <th>tt0049189</th>\n",
              "      <th>tt0059956</th>\n",
              "      <td>tt0057345</td>\n",
              "    </tr>\n",
              "    <tr>\n",
              "      <th>nm0000004\\tJohn Belushi\\t1949\\t1982\\tactor</th>\n",
              "      <th>writer</th>\n",
              "      <th>soundtrack\\ttt0077975</th>\n",
              "      <th>tt0072562</th>\n",
              "      <th>tt0080455</th>\n",
              "      <td>tt0078723</td>\n",
              "    </tr>\n",
              "    <tr>\n",
              "      <th>nm0000005\\tIngmar Bergman\\t1918\\t2007\\twriter</th>\n",
              "      <th>director</th>\n",
              "      <th>actor\\ttt0069467</th>\n",
              "      <th>tt0050976</th>\n",
              "      <th>tt0083922</th>\n",
              "      <td>tt0050986</td>\n",
              "    </tr>\n",
              "  </tbody>\n",
              "</table>\n",
              "</div>"
            ],
            "text/plain": [
              "                                                                                                                   nconst\\tprimaryName\\tbirthYear\\tdeathYear\\tprimaryProfession\\tknownForTitles\n",
              "nm0000001\\tFred Astaire\\t1899\\t1987\\tsoundtrack actor                 miscellaneous\\ttt0050419 tt0053137 tt0072308                                          tt0043044                          \n",
              "nm0000002\\tLauren Bacall\\t1924\\t2014\\tactress   soundtrack\\ttt0071877 tt0117057                tt0038355 tt0037382                                                NaN                          \n",
              "nm0000003\\tBrigitte Bardot\\t1934\\t\\N\\tactress   soundtrack            producer\\ttt0054452      tt0049189 tt0059956                                          tt0057345                          \n",
              "nm0000004\\tJohn Belushi\\t1949\\t1982\\tactor      writer                soundtrack\\ttt0077975    tt0072562 tt0080455                                          tt0078723                          \n",
              "nm0000005\\tIngmar Bergman\\t1918\\t2007\\twriter   director              actor\\ttt0069467         tt0050976 tt0083922                                          tt0050986                          "
            ]
          },
          "metadata": {
            "tags": []
          },
          "execution_count": 29
        }
      ]
    },
    {
      "cell_type": "code",
      "metadata": {
        "id": "KsZohf8Q_keR"
      },
      "source": [
        ""
      ],
      "id": "KsZohf8Q_keR",
      "execution_count": null,
      "outputs": []
    }
  ]
}