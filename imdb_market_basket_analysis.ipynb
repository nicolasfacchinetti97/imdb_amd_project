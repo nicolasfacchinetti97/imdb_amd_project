{
 "cells": [
  {
   "cell_type": "markdown",
   "id": "protecting-prague",
   "metadata": {},
   "source": [
    "# Project 2: Market-basket analysis - IMDB dataset"
   ]
  },
  {
   "cell_type": "markdown",
   "id": "tough-romance",
   "metadata": {},
   "source": [
    "Project for the course of Algorithms for Massive Dataset <br> Nicolas Facchinetti 961648 <br> Antonio Belotti xxxxxx"
   ]
  },
  {
   "cell_type": "markdown",
   "id": "arabic-forwarding",
   "metadata": {},
   "source": [
    "# Download the dataset from Kaggle"
   ]
  },
  {
   "cell_type": "markdown",
   "id": "cardiac-significance",
   "metadata": {},
   "source": [
    "First install the Python module of Kaggle to download the dataset from its datacenter"
   ]
  },
  {
   "cell_type": "code",
   "execution_count": null,
   "id": "third-confidence",
   "metadata": {},
   "outputs": [],
   "source": [
    "!pip install kaggle"
   ]
  },
  {
   "cell_type": "markdown",
   "id": "attractive-recall",
   "metadata": {},
   "source": [
    "Then load kaggle.json, a file containing your API credentials to be able to use the services offered by Kaggle"
   ]
  },
  {
   "cell_type": "code",
   "execution_count": null,
   "id": "narrow-future",
   "metadata": {},
   "outputs": [],
   "source": [
    "from google.colab import files\n",
    "\n",
    "uploaded = files.upload()\n",
    "  \n",
    "# Move kaggle.json into the folder where the API expects to find it.\n",
    "!mkdir -p ~/.kaggle/ && mv kaggle.json ~/.kaggle/ && chmod 600 ~/.kaggle/kaggle.json"
   ]
  },
  {
   "cell_type": "markdown",
   "id": "entitled-stanley",
   "metadata": {},
   "source": [
    "Now we can download the dataset"
   ]
  },
  {
   "cell_type": "code",
   "execution_count": null,
   "id": "built-indianapolis",
   "metadata": {},
   "outputs": [],
   "source": [
    "!kaggle datasets download 'ashirwadsangwan/imdb-dataset'"
   ]
  },
  {
   "cell_type": "markdown",
   "id": "naked-dinner",
   "metadata": {},
   "source": [
    "We now must unzip the compressed archive to use it. Once done we also remove it."
   ]
  },
  {
   "cell_type": "code",
   "execution_count": null,
   "id": "every-homework",
   "metadata": {},
   "outputs": [],
   "source": [
    "!unzip imdb-dataset.zip && rm imdb-dataset.zip"
   ]
  },
  {
   "cell_type": "code",
   "execution_count": null,
   "id": "featured-tackle",
   "metadata": {},
   "outputs": [],
   "source": []
  }
 ],
 "metadata": {
  "kernelspec": {
   "display_name": "Python 3.7.7 64-bit ('tf-gpu': conda)",
   "language": "python",
   "name": "python37764bittfgpuconda69e5dcd644e74d2bbdb17a00c65db70c"
  },
  "language_info": {
   "codemirror_mode": {
    "name": "ipython",
    "version": 3
   },
   "file_extension": ".py",
   "mimetype": "text/x-python",
   "name": "python",
   "nbconvert_exporter": "python",
   "pygments_lexer": "ipython3",
   "version": "3.7.7"
  }
 },
 "nbformat": 4,
 "nbformat_minor": 5
}
