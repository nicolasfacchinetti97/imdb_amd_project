{
  "cells": [
    {
      "cell_type": "markdown",
      "metadata": {
        "id": "protecting-prague"
      },
      "source": [
        "# Project 2: Market-basket analysis - IMDB dataset"
      ],
      "id": "protecting-prague"
    },
    {
      "cell_type": "markdown",
      "metadata": {
        "id": "tough-romance"
      },
      "source": [
        "Project for the course of Algorithms for Massive Dataset <br> Nicolas Facchinetti 961648 <br> Antonio Belotti 960822"
      ],
      "id": "tough-romance"
    },
    {
      "cell_type": "markdown",
      "metadata": {
        "id": "lGRAllgArUcg"
      },
      "source": [
        "# Set up the Spark enviorment"
      ],
      "id": "lGRAllgArUcg"
    },
    {
      "cell_type": "markdown",
      "metadata": {
        "id": "G1-A43y-raCw"
      },
      "source": [
        "We start by dowloading and installing all the needed tool to deal with Spark. In particular we are interested in obtainig a Java enviorment since Spark in written in Scala and so it need a JVM to run. Then we can download Apache Spark 3.1.2 with Hadoop 3.2 by the Apache CDN and uncompress it. Finally we can get and install PySpark, an interface for Apache Spark in Python"
      ],
      "id": "G1-A43y-raCw"
    },
    {
      "cell_type": "code",
      "execution_count": 1,
      "metadata": {
        "colab": {
          "base_uri": "https://localhost:8080/"
        },
        "id": "ylCDuP_tsDRB",
        "outputId": "32691aa4-b754-4566-dfd8-916e43074222"
      },
      "outputs": [
        {
          "output_type": "stream",
          "name": "stdout",
          "text": [
            "--2022-02-16 18:51:41--  https://dlcdn.apache.org/spark/spark-3.1.2/spark-3.1.2-bin-hadoop3.2.tgz\n",
            "Resolving dlcdn.apache.org (dlcdn.apache.org)... 151.101.2.132, 2a04:4e42::644\n",
            "Connecting to dlcdn.apache.org (dlcdn.apache.org)|151.101.2.132|:443... connected.\n",
            "HTTP request sent, awaiting response... 200 OK\n",
            "Length: 228834641 (218M) [application/x-gzip]\n",
            "Saving to: ‘spark-3.1.2-bin-hadoop3.2.tgz’\n",
            "\n",
            "spark-3.1.2-bin-had 100%[===================>] 218.23M   106MB/s    in 2.1s    \n",
            "\n",
            "2022-02-16 18:51:43 (106 MB/s) - ‘spark-3.1.2-bin-hadoop3.2.tgz’ saved [228834641/228834641]\n",
            "\n"
          ]
        }
      ],
      "source": [
        "!apt-get install openjdk-8-jdk-headless -qq > /dev/null\n",
        "!wget https://dlcdn.apache.org/spark/spark-3.1.2/spark-3.1.2-bin-hadoop3.2.tgz\n",
        "!tar xf spark-3.1.2-bin-hadoop3.2.tgz\n",
        "!rm spark-3.1.2-bin-hadoop3.2.tgz\n",
        "!pip install -q findspark"
      ],
      "id": "ylCDuP_tsDRB"
    },
    {
      "cell_type": "markdown",
      "metadata": {
        "id": "3amH6p0nwb7I"
      },
      "source": [
        "The next step is to correctly set the path in our remote enviorment to use the obtained tools."
      ],
      "id": "3amH6p0nwb7I"
    },
    {
      "cell_type": "code",
      "execution_count": 2,
      "metadata": {
        "id": "EXdPB9pQvM6Y"
      },
      "outputs": [],
      "source": [
        "import os\n",
        "os.environ[\"JAVA_HOME\"] = \"/usr/lib/jvm/java-8-openjdk-amd64\"\n",
        "os.environ[\"SPARK_HOME\"] = \"/content/spark-3.1.2-bin-hadoop3.2\""
      ],
      "id": "EXdPB9pQvM6Y"
    },
    {
      "cell_type": "markdown",
      "metadata": {
        "id": "IMGP-hYawvcv"
      },
      "source": [
        "Finally we can import PySpark in the project"
      ],
      "id": "IMGP-hYawvcv"
    },
    {
      "cell_type": "code",
      "execution_count": 3,
      "metadata": {
        "id": "2Imf5XE-w84G"
      },
      "outputs": [],
      "source": [
        "import findspark\n",
        "findspark.init(\"spark-3.1.2-bin-hadoop3.2\")# SPARK_HOME\n",
        "from pyspark.sql import SparkSession\n",
        "spark = SparkSession.builder.master(\"local[*]\").getOrCreate()"
      ],
      "id": "2Imf5XE-w84G"
    },
    {
      "cell_type": "markdown",
      "metadata": {
        "id": "nJMEDFZ34-i3"
      },
      "source": [
        "# Load preprocessed dataset from file data.zip"
      ],
      "id": "nJMEDFZ34-i3"
    },
    {
      "cell_type": "markdown",
      "metadata": {
        "id": "LdFAFOdx5Q6n"
      },
      "source": [
        "Use the code below do load the dataset from a preprocessed file data.zip"
      ],
      "id": "LdFAFOdx5Q6n"
    },
    {
      "cell_type": "code",
      "execution_count": 4,
      "metadata": {
        "colab": {
          "base_uri": "https://localhost:8080/",
          "height": 72,
          "resources": {
            "http://localhost:8080/nbextensions/google.colab/files.js": {
              "data": "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",
              "headers": [
                [
                  "content-type",
                  "application/javascript"
                ]
              ],
              "ok": true,
              "status": 200,
              "status_text": ""
            }
          }
        },
        "id": "kQ0o6v56gAGE",
        "outputId": "6cbf24ad-9d99-46cc-fbf7-ab277a3dd3ea"
      },
      "outputs": [
        {
          "output_type": "display_data",
          "data": {
            "text/html": [
              "\n",
              "     <input type=\"file\" id=\"files-b4816413-d43b-4181-bd3f-0c30b3a6548d\" name=\"files[]\" multiple disabled\n",
              "        style=\"border:none\" />\n",
              "     <output id=\"result-b4816413-d43b-4181-bd3f-0c30b3a6548d\">\n",
              "      Upload widget is only available when the cell has been executed in the\n",
              "      current browser session. Please rerun this cell to enable.\n",
              "      </output>\n",
              "      <script src=\"/nbextensions/google.colab/files.js\"></script> "
            ],
            "text/plain": [
              "<IPython.core.display.HTML object>"
            ]
          },
          "metadata": {}
        },
        {
          "output_type": "stream",
          "name": "stdout",
          "text": [
            "Saving data.zip to data.zip\n"
          ]
        }
      ],
      "source": [
        "from google.colab import files\n",
        "import os\n",
        "\n",
        "uploaded = files.upload()\n",
        "\n",
        "if os.path.isfile(\"data.zip\"):\n",
        "  !unzip -q data.zip && rm data.zip\n",
        "  basket_data = spark.read.format(\"json\").option(\"header\", \"true\").load(\"data\").select('tconst', 'nconsts').rdd\n",
        "  basket_data.take(5)\n",
        "else:\n",
        "  print(\"Error in loading the file.\")"
      ],
      "id": "kQ0o6v56gAGE"
    },
    {
      "cell_type": "markdown",
      "metadata": {
        "id": "arabic-forwarding"
      },
      "source": [
        "# Download the dataset from Kaggle"
      ],
      "id": "arabic-forwarding"
    },
    {
      "cell_type": "markdown",
      "metadata": {
        "id": "cardiac-significance"
      },
      "source": [
        "First install the Python module of Kaggle to download the dataset from its datacenter"
      ],
      "id": "cardiac-significance"
    },
    {
      "cell_type": "code",
      "execution_count": null,
      "metadata": {
        "colab": {
          "base_uri": "https://localhost:8080/"
        },
        "id": "third-confidence",
        "outputId": "bdef05da-05db-4c49-909f-50c08e9a5ec7"
      },
      "outputs": [
        {
          "name": "stdout",
          "output_type": "stream",
          "text": [
            "Requirement already satisfied: kaggle in /usr/local/lib/python3.7/dist-packages (1.5.12)\n",
            "Requirement already satisfied: tqdm in /usr/local/lib/python3.7/dist-packages (from kaggle) (4.62.3)\n",
            "Requirement already satisfied: python-slugify in /usr/local/lib/python3.7/dist-packages (from kaggle) (5.0.2)\n",
            "Requirement already satisfied: six>=1.10 in /usr/local/lib/python3.7/dist-packages (from kaggle) (1.15.0)\n",
            "Requirement already satisfied: requests in /usr/local/lib/python3.7/dist-packages (from kaggle) (2.23.0)\n",
            "Requirement already satisfied: python-dateutil in /usr/local/lib/python3.7/dist-packages (from kaggle) (2.8.2)\n",
            "Requirement already satisfied: certifi in /usr/local/lib/python3.7/dist-packages (from kaggle) (2021.10.8)\n",
            "Requirement already satisfied: urllib3 in /usr/local/lib/python3.7/dist-packages (from kaggle) (1.24.3)\n",
            "Requirement already satisfied: text-unidecode>=1.3 in /usr/local/lib/python3.7/dist-packages (from python-slugify->kaggle) (1.3)\n",
            "Requirement already satisfied: idna<3,>=2.5 in /usr/local/lib/python3.7/dist-packages (from requests->kaggle) (2.10)\n",
            "Requirement already satisfied: chardet<4,>=3.0.2 in /usr/local/lib/python3.7/dist-packages (from requests->kaggle) (3.0.4)\n"
          ]
        }
      ],
      "source": [
        "!pip install kaggle"
      ],
      "id": "third-confidence"
    },
    {
      "cell_type": "markdown",
      "metadata": {
        "id": "attractive-recall"
      },
      "source": [
        "Then load kaggle.json, a file containing your API credentials to be able to use the services offered by Kaggle"
      ],
      "id": "attractive-recall"
    },
    {
      "cell_type": "code",
      "execution_count": null,
      "metadata": {
        "colab": {
          "base_uri": "https://localhost:8080/",
          "height": 74,
          "resources": {
            "http://localhost:8080/nbextensions/google.colab/files.js": {
              "data": "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",
              "headers": [
                [
                  "content-type",
                  "application/javascript"
                ]
              ],
              "ok": true,
              "status": 200,
              "status_text": ""
            }
          }
        },
        "id": "narrow-future",
        "outputId": "2e9689a5-67f9-406c-baf7-c1f3c00a9b6a"
      },
      "outputs": [
        {
          "data": {
            "text/html": [
              "\n",
              "     <input type=\"file\" id=\"files-5de0ea6e-eff5-45bd-801a-aa72d943a114\" name=\"files[]\" multiple disabled\n",
              "        style=\"border:none\" />\n",
              "     <output id=\"result-5de0ea6e-eff5-45bd-801a-aa72d943a114\">\n",
              "      Upload widget is only available when the cell has been executed in the\n",
              "      current browser session. Please rerun this cell to enable.\n",
              "      </output>\n",
              "      <script src=\"/nbextensions/google.colab/files.js\"></script> "
            ],
            "text/plain": [
              "<IPython.core.display.HTML object>"
            ]
          },
          "metadata": {},
          "output_type": "display_data"
        },
        {
          "name": "stdout",
          "output_type": "stream",
          "text": [
            "Saving kaggle.json to kaggle.json\n"
          ]
        }
      ],
      "source": [
        "from google.colab import files\n",
        "\n",
        "uploaded = files.upload()\n",
        "  \n",
        "# Move kaggle.json into the folder where the API expects to find it.\n",
        "!mkdir -p ~/.kaggle/ && mv kaggle.json ~/.kaggle/ && chmod 600 ~/.kaggle/kaggle.json"
      ],
      "id": "narrow-future"
    },
    {
      "cell_type": "markdown",
      "metadata": {
        "id": "entitled-stanley"
      },
      "source": [
        "Now we can download the dataset"
      ],
      "id": "entitled-stanley"
    },
    {
      "cell_type": "code",
      "execution_count": null,
      "metadata": {
        "colab": {
          "base_uri": "https://localhost:8080/"
        },
        "id": "built-indianapolis",
        "outputId": "32a495a8-b492-4215-baab-5f9f744ec58f"
      },
      "outputs": [
        {
          "name": "stdout",
          "output_type": "stream",
          "text": [
            "Downloading imdb-dataset.zip to /content\n",
            " 99% 1.43G/1.44G [00:13<00:00, 101MB/s] \n",
            "100% 1.44G/1.44G [00:13<00:00, 113MB/s]\n"
          ]
        }
      ],
      "source": [
        "!kaggle datasets download 'ashirwadsangwan/imdb-dataset'"
      ],
      "id": "built-indianapolis"
    },
    {
      "cell_type": "markdown",
      "metadata": {
        "id": "naked-dinner"
      },
      "source": [
        "We now must unzip the compressed archive to use it. Once done we can also remove it."
      ],
      "id": "naked-dinner"
    },
    {
      "cell_type": "code",
      "execution_count": null,
      "metadata": {
        "colab": {
          "base_uri": "https://localhost:8080/"
        },
        "id": "every-homework",
        "outputId": "3d2b88a9-7f43-4846-e749-f87180c24ab0"
      },
      "outputs": [
        {
          "name": "stdout",
          "output_type": "stream",
          "text": [
            "Archive:  imdb-dataset.zip\n",
            "  inflating: name.basics.tsv.gz      \n",
            "  inflating: name.basics.tsv/name.basics.tsv  \n",
            "  inflating: title.akas.tsv.gz       \n",
            "  inflating: title.akas.tsv/title.akas.tsv  \n",
            "  inflating: title.basics.tsv.gz     \n",
            "  inflating: title.basics.tsv/title.basics.tsv  \n",
            "  inflating: title.principals.tsv.gz  \n",
            "  inflating: title.principals.tsv/title.principals.tsv  \n",
            "  inflating: title.ratings.tsv.gz    \n",
            "  inflating: title.ratings.tsv/title.ratings.tsv  \n"
          ]
        }
      ],
      "source": [
        "!unzip imdb-dataset.zip && rm imdb-dataset.zip"
      ],
      "id": "every-homework"
    },
    {
      "cell_type": "markdown",
      "metadata": {
        "id": "B2wchK4S6FSd"
      },
      "source": [
        "# Preapare the data for Spark"
      ],
      "id": "B2wchK4S6FSd"
    },
    {
      "cell_type": "markdown",
      "metadata": {
        "id": "vkCLCyVf6P81"
      },
      "source": [
        "We can directly load the downloaded and extracted .tsv file in a Spark DataFrame by using the command read.csv(). We directly pass to the method the columns in which we are interested."
      ],
      "id": "vkCLCyVf6P81"
    },
    {
      "cell_type": "code",
      "execution_count": 5,
      "metadata": {
        "colab": {
          "base_uri": "https://localhost:8080/",
          "height": 450
        },
        "id": "o9yN4DYO5rA9",
        "outputId": "e433c05e-c4d6-48b6-c36b-703189546ea0"
      },
      "outputs": [
        {
          "output_type": "error",
          "ename": "AnalysisException",
          "evalue": "ignored",
          "traceback": [
            "\u001b[0;31m---------------------------------------------------------------------------\u001b[0m",
            "\u001b[0;31mAnalysisException\u001b[0m                         Traceback (most recent call last)",
            "\u001b[0;32m<ipython-input-5-14ee2fc2804f>\u001b[0m in \u001b[0;36m<module>\u001b[0;34m()\u001b[0m\n\u001b[0;32m----> 1\u001b[0;31m \u001b[0mdf_principals\u001b[0m \u001b[0;34m=\u001b[0m \u001b[0mspark\u001b[0m\u001b[0;34m.\u001b[0m\u001b[0mread\u001b[0m\u001b[0;34m.\u001b[0m\u001b[0mcsv\u001b[0m\u001b[0;34m(\u001b[0m\u001b[0;34m\"/content/title.principals.tsv/title.principals.tsv\"\u001b[0m\u001b[0;34m,\u001b[0m \u001b[0msep\u001b[0m\u001b[0;34m=\u001b[0m\u001b[0;34mr'\\t'\u001b[0m\u001b[0;34m,\u001b[0m \u001b[0mheader\u001b[0m\u001b[0;34m=\u001b[0m\u001b[0;32mTrue\u001b[0m\u001b[0;34m)\u001b[0m\u001b[0;34m.\u001b[0m\u001b[0mselect\u001b[0m\u001b[0;34m(\u001b[0m\u001b[0;34m'tconst'\u001b[0m\u001b[0;34m,\u001b[0m\u001b[0;34m'nconst'\u001b[0m\u001b[0;34m,\u001b[0m\u001b[0;34m'category'\u001b[0m\u001b[0;34m)\u001b[0m\u001b[0;34m\u001b[0m\u001b[0;34m\u001b[0m\u001b[0m\n\u001b[0m\u001b[1;32m      2\u001b[0m \u001b[0mdf_principals\u001b[0m\u001b[0;34m.\u001b[0m\u001b[0mshow\u001b[0m\u001b[0;34m(\u001b[0m\u001b[0;36m10\u001b[0m\u001b[0;34m)\u001b[0m\u001b[0;34m\u001b[0m\u001b[0;34m\u001b[0m\u001b[0m\n",
            "\u001b[0;32m/content/spark-3.1.2-bin-hadoop3.2/python/pyspark/sql/readwriter.py\u001b[0m in \u001b[0;36mcsv\u001b[0;34m(self, path, schema, sep, encoding, quote, escape, comment, header, inferSchema, ignoreLeadingWhiteSpace, ignoreTrailingWhiteSpace, nullValue, nanValue, positiveInf, negativeInf, dateFormat, timestampFormat, maxColumns, maxCharsPerColumn, maxMalformedLogPerPartition, mode, columnNameOfCorruptRecord, multiLine, charToEscapeQuoteEscaping, samplingRatio, enforceSchema, emptyValue, locale, lineSep, pathGlobFilter, recursiveFileLookup, modifiedBefore, modifiedAfter, unescapedQuoteHandling)\u001b[0m\n\u001b[1;32m    735\u001b[0m             \u001b[0mpath\u001b[0m \u001b[0;34m=\u001b[0m \u001b[0;34m[\u001b[0m\u001b[0mpath\u001b[0m\u001b[0;34m]\u001b[0m\u001b[0;34m\u001b[0m\u001b[0;34m\u001b[0m\u001b[0m\n\u001b[1;32m    736\u001b[0m         \u001b[0;32mif\u001b[0m \u001b[0mtype\u001b[0m\u001b[0;34m(\u001b[0m\u001b[0mpath\u001b[0m\u001b[0;34m)\u001b[0m \u001b[0;34m==\u001b[0m \u001b[0mlist\u001b[0m\u001b[0;34m:\u001b[0m\u001b[0;34m\u001b[0m\u001b[0;34m\u001b[0m\u001b[0m\n\u001b[0;32m--> 737\u001b[0;31m             \u001b[0;32mreturn\u001b[0m \u001b[0mself\u001b[0m\u001b[0;34m.\u001b[0m\u001b[0m_df\u001b[0m\u001b[0;34m(\u001b[0m\u001b[0mself\u001b[0m\u001b[0;34m.\u001b[0m\u001b[0m_jreader\u001b[0m\u001b[0;34m.\u001b[0m\u001b[0mcsv\u001b[0m\u001b[0;34m(\u001b[0m\u001b[0mself\u001b[0m\u001b[0;34m.\u001b[0m\u001b[0m_spark\u001b[0m\u001b[0;34m.\u001b[0m\u001b[0m_sc\u001b[0m\u001b[0;34m.\u001b[0m\u001b[0m_jvm\u001b[0m\u001b[0;34m.\u001b[0m\u001b[0mPythonUtils\u001b[0m\u001b[0;34m.\u001b[0m\u001b[0mtoSeq\u001b[0m\u001b[0;34m(\u001b[0m\u001b[0mpath\u001b[0m\u001b[0;34m)\u001b[0m\u001b[0;34m)\u001b[0m\u001b[0;34m)\u001b[0m\u001b[0;34m\u001b[0m\u001b[0;34m\u001b[0m\u001b[0m\n\u001b[0m\u001b[1;32m    738\u001b[0m         \u001b[0;32melif\u001b[0m \u001b[0misinstance\u001b[0m\u001b[0;34m(\u001b[0m\u001b[0mpath\u001b[0m\u001b[0;34m,\u001b[0m \u001b[0mRDD\u001b[0m\u001b[0;34m)\u001b[0m\u001b[0;34m:\u001b[0m\u001b[0;34m\u001b[0m\u001b[0;34m\u001b[0m\u001b[0m\n\u001b[1;32m    739\u001b[0m             \u001b[0;32mdef\u001b[0m \u001b[0mfunc\u001b[0m\u001b[0;34m(\u001b[0m\u001b[0miterator\u001b[0m\u001b[0;34m)\u001b[0m\u001b[0;34m:\u001b[0m\u001b[0;34m\u001b[0m\u001b[0;34m\u001b[0m\u001b[0m\n",
            "\u001b[0;32mspark-3.1.2-bin-hadoop3.2/python/lib/py4j-0.10.9-src.zip/py4j/java_gateway.py\u001b[0m in \u001b[0;36m__call__\u001b[0;34m(self, *args)\u001b[0m\n\u001b[1;32m   1303\u001b[0m         \u001b[0manswer\u001b[0m \u001b[0;34m=\u001b[0m \u001b[0mself\u001b[0m\u001b[0;34m.\u001b[0m\u001b[0mgateway_client\u001b[0m\u001b[0;34m.\u001b[0m\u001b[0msend_command\u001b[0m\u001b[0;34m(\u001b[0m\u001b[0mcommand\u001b[0m\u001b[0;34m)\u001b[0m\u001b[0;34m\u001b[0m\u001b[0;34m\u001b[0m\u001b[0m\n\u001b[1;32m   1304\u001b[0m         return_value = get_return_value(\n\u001b[0;32m-> 1305\u001b[0;31m             answer, self.gateway_client, self.target_id, self.name)\n\u001b[0m\u001b[1;32m   1306\u001b[0m \u001b[0;34m\u001b[0m\u001b[0m\n\u001b[1;32m   1307\u001b[0m         \u001b[0;32mfor\u001b[0m \u001b[0mtemp_arg\u001b[0m \u001b[0;32min\u001b[0m \u001b[0mtemp_args\u001b[0m\u001b[0;34m:\u001b[0m\u001b[0;34m\u001b[0m\u001b[0;34m\u001b[0m\u001b[0m\n",
            "\u001b[0;32m/content/spark-3.1.2-bin-hadoop3.2/python/pyspark/sql/utils.py\u001b[0m in \u001b[0;36mdeco\u001b[0;34m(*a, **kw)\u001b[0m\n\u001b[1;32m    115\u001b[0m                 \u001b[0;31m# Hide where the exception came from that shows a non-Pythonic\u001b[0m\u001b[0;34m\u001b[0m\u001b[0;34m\u001b[0m\u001b[0;34m\u001b[0m\u001b[0m\n\u001b[1;32m    116\u001b[0m                 \u001b[0;31m# JVM exception message.\u001b[0m\u001b[0;34m\u001b[0m\u001b[0;34m\u001b[0m\u001b[0;34m\u001b[0m\u001b[0m\n\u001b[0;32m--> 117\u001b[0;31m                 \u001b[0;32mraise\u001b[0m \u001b[0mconverted\u001b[0m \u001b[0;32mfrom\u001b[0m \u001b[0;32mNone\u001b[0m\u001b[0;34m\u001b[0m\u001b[0;34m\u001b[0m\u001b[0m\n\u001b[0m\u001b[1;32m    118\u001b[0m             \u001b[0;32melse\u001b[0m\u001b[0;34m:\u001b[0m\u001b[0;34m\u001b[0m\u001b[0;34m\u001b[0m\u001b[0m\n\u001b[1;32m    119\u001b[0m                 \u001b[0;32mraise\u001b[0m\u001b[0;34m\u001b[0m\u001b[0;34m\u001b[0m\u001b[0m\n",
            "\u001b[0;31mAnalysisException\u001b[0m: Path does not exist: file:/content/title.principals.tsv/title.principals.tsv"
          ]
        }
      ],
      "source": [
        "df_principals = spark.read.csv(\"/content/title.principals.tsv/title.principals.tsv\", sep=r'\\t', header=True).select('tconst','nconst','category')\n",
        "df_principals.show(10)"
      ],
      "id": "o9yN4DYO5rA9"
    },
    {
      "cell_type": "code",
      "execution_count": null,
      "metadata": {
        "id": "biVqVaIO6rm1"
      },
      "outputs": [],
      "source": [
        "df_basics = spark.read.csv(\"/content/title.basics.tsv/title.basics.tsv\", sep=r'\\t', header=True).select('tconst','titleType')\n",
        "df_basics.show(10)"
      ],
      "id": "biVqVaIO6rm1"
    },
    {
      "cell_type": "markdown",
      "metadata": {
        "id": "jYEMZq6g8V8r"
      },
      "source": [
        "By inspecting the content of the column 'category' of df_principlas we can see that there are many jobs other than actors and actress (which are the two we are interested in)"
      ],
      "id": "jYEMZq6g8V8r"
    },
    {
      "cell_type": "code",
      "execution_count": null,
      "metadata": {
        "id": "_ANddVhG7dOM"
      },
      "outputs": [],
      "source": [
        "df_principals.select(\"category\").distinct().show()"
      ],
      "id": "_ANddVhG7dOM"
    },
    {
      "cell_type": "markdown",
      "metadata": {
        "id": "chgrEDU181jc"
      },
      "source": [
        "Similarly we can do the same thing with df_basics and the column 'titleType' to see how many categories a title can have."
      ],
      "id": "chgrEDU181jc"
    },
    {
      "cell_type": "code",
      "execution_count": null,
      "metadata": {
        "id": "H0k9A__I8uop"
      },
      "outputs": [],
      "source": [
        "df_basics.select(\"titleType\").distinct().show()"
      ],
      "id": "H0k9A__I8uop"
    },
    {
      "cell_type": "markdown",
      "metadata": {
        "id": "WRGTAAFK7QJ0"
      },
      "source": [
        "Once the data is loaded in a Spark DataFrame we can use the PySpark SQL module for processing the data. We start by exctracting only actors and actress from df_principals"
      ],
      "id": "WRGTAAFK7QJ0"
    },
    {
      "cell_type": "code",
      "execution_count": null,
      "metadata": {
        "id": "0wrOWYKr8UC3"
      },
      "outputs": [],
      "source": [
        "pre = df_principals.count()\n",
        "df_principals.createOrReplaceTempView(\"PRINCIPALS\") # create a temporary table on DataFrame\n",
        "df_principals = spark.sql(\"SELECT * from PRINCIPALS WHERE category ='actor' OR category='actress'\")\n",
        "print(\"We reduced the number of row from {} to {}\".format(pre, df_principals.count()))"
      ],
      "id": "0wrOWYKr8UC3"
    },
    {
      "cell_type": "markdown",
      "metadata": {
        "id": "QFE8PdWZ9UAa"
      },
      "source": [
        " And then we do the same thing with movies in df_basics"
      ],
      "id": "QFE8PdWZ9UAa"
    },
    {
      "cell_type": "code",
      "execution_count": null,
      "metadata": {
        "id": "_7idYi-s9ZlZ"
      },
      "outputs": [],
      "source": [
        "pre = df_basics.count()\n",
        "df_basics.createOrReplaceTempView(\"BASICS\") # create a temporary table on DataFrame\n",
        "df_basics = spark.sql(\"SELECT * from BASICS WHERE titleType ='movie'\")\n",
        "print(\"We reduced the number of row from {} to {}\".format(pre, df_basics.count()))"
      ],
      "id": "_7idYi-s9ZlZ"
    },
    {
      "cell_type": "markdown",
      "metadata": {
        "id": "AhZYta_8TBU1"
      },
      "source": [
        "We can now see that we have two DataFrame, one containing only the movies and the other only the people which play as actor/actress in a title. To do the desired maket-basket analysis we have to pivot our tconst as rows, so each row stands for one titleId, and then including a list of nconst identifiers of the actors that played in it."
      ],
      "id": "AhZYta_8TBU1"
    },
    {
      "cell_type": "code",
      "execution_count": null,
      "metadata": {
        "id": "Gg5cCJD1Swlg"
      },
      "outputs": [],
      "source": [
        "df_basics.show(10)"
      ],
      "id": "Gg5cCJD1Swlg"
    },
    {
      "cell_type": "code",
      "execution_count": null,
      "metadata": {
        "id": "7BnEuTc0S9Xm"
      },
      "outputs": [],
      "source": [
        "df_principals.show(10)"
      ],
      "id": "7BnEuTc0S9Xm"
    },
    {
      "cell_type": "markdown",
      "metadata": {
        "id": "QuwFSQN1VyCV"
      },
      "source": [
        "So we start by joining the two dataframe to extract from df_principals only the records with tconst related to a movie. We can also discard the category column since is no longer useful."
      ],
      "id": "QuwFSQN1VyCV"
    },
    {
      "cell_type": "code",
      "execution_count": null,
      "metadata": {
        "id": "81uUuBOVVj3a"
      },
      "outputs": [],
      "source": [
        "basket_data = df_principals.join(df_basics, \"tconst\").select(df_principals.tconst, df_principals.nconst).sort(\"tconst\")\n",
        "basket_data.show(10)"
      ],
      "id": "81uUuBOVVj3a"
    },
    {
      "cell_type": "markdown",
      "metadata": {
        "id": "xHywTOMEZbgu"
      },
      "source": [
        "Then we can remove hypothetical duplicated row and then aggregate the data using tconst identifier."
      ],
      "id": "xHywTOMEZbgu"
    },
    {
      "cell_type": "code",
      "execution_count": null,
      "metadata": {
        "id": "IYN6WQg5Vj4x"
      },
      "outputs": [],
      "source": [
        "from pyspark.sql import functions as F\n",
        "basket_data = basket_data.dropDuplicates()\n",
        "basket_data = basket_data.groupBy(\"tconst\").agg(F.collect_list(\"nconst\").alias(\"nconsts\")).sort('tconst')"
      ],
      "id": "IYN6WQg5Vj4x"
    },
    {
      "cell_type": "markdown",
      "metadata": {
        "id": "vDg_yzzrgF2K"
      },
      "source": [
        "We then sort the transaction data in order to simplify candidates generation."
      ],
      "id": "vDg_yzzrgF2K"
    },
    {
      "cell_type": "code",
      "execution_count": null,
      "metadata": {
        "id": "836FXaOtgUiA"
      },
      "outputs": [],
      "source": [
        "basket_data = basket_data.withColumn('nconsts', F.sort_array('nconsts'))"
      ],
      "id": "836FXaOtgUiA"
    },
    {
      "cell_type": "code",
      "execution_count": null,
      "metadata": {
        "id": "IZzSHEsFaa0G"
      },
      "outputs": [],
      "source": [
        "print(\"There are {} titleId buckets\".format(basket_data.count()))\n",
        "basket_data.show(10, False)"
      ],
      "id": "IZzSHEsFaa0G"
    },
    {
      "cell_type": "markdown",
      "metadata": {
        "id": "JOFUnUEZclPs"
      },
      "source": [
        "As we can see above we now have the data in the correct format to do our analysis: in each row we have the identifier of a movie and in the second column the list of the idenfiers of the actors that played in it.\n",
        "Since we have done all the needed pre-processing computation on the data we can transform our DataFrame in a RDD to apply map-reduce functions."
      ],
      "id": "JOFUnUEZclPs"
    },
    {
      "cell_type": "markdown",
      "metadata": {
        "id": "4PXtfoBH41dy"
      },
      "source": [
        "Serialize to file the RDD and download to skip the processing all the time.\n",
        "\n"
      ],
      "id": "4PXtfoBH41dy"
    },
    {
      "cell_type": "code",
      "execution_count": null,
      "metadata": {
        "id": "poNWxUnLm92f"
      },
      "outputs": [],
      "source": [
        "basket_data.write.format('json').save(\"data\")"
      ],
      "id": "poNWxUnLm92f"
    },
    {
      "cell_type": "code",
      "execution_count": null,
      "metadata": {
        "id": "c_0NCykYVZeB"
      },
      "outputs": [],
      "source": [
        "!zip -r data.zip data"
      ],
      "id": "c_0NCykYVZeB"
    },
    {
      "cell_type": "code",
      "execution_count": null,
      "metadata": {
        "id": "MXXeT6F0Vg5q"
      },
      "outputs": [],
      "source": [
        "from google.colab import files\n",
        "files.download('data.zip')"
      ],
      "id": "MXXeT6F0Vg5q"
    },
    {
      "cell_type": "markdown",
      "metadata": {
        "id": "ti7KSSed4h34"
      },
      "source": [
        "# Apriori classic"
      ],
      "id": "ti7KSSed4h34"
    },
    {
      "cell_type": "markdown",
      "metadata": {
        "id": "UTGVInR_j-Fu"
      },
      "source": [
        "We start by implementing the classic Apriori algorithm. In particular we search until no more k-itemsets are found."
      ],
      "id": "UTGVInR_j-Fu"
    },
    {
      "cell_type": "code",
      "execution_count": 5,
      "metadata": {
        "id": "zUn2HchZukHA"
      },
      "outputs": [],
      "source": [
        "def generate_candidate_k_set(frequent_kmin1_set, k):\n",
        "  \"\"\"\n",
        "  frequent_kmin1_set: list\n",
        "  k: int\n",
        "\n",
        "  return: list\n",
        "\n",
        "  Take as input an integer k and a frequent k-1 itemset. Return as output the candidate k itemset obtained from frequent_kmin1_set\n",
        "  \"\"\"\n",
        "  if k < 2:\n",
        "    raise ValueError(\"k must be >= 2\")\n",
        "  \n",
        "  candidates = []\n",
        "\n",
        "  # cast singleton itemset into list\n",
        "  if type(frequent_kmin1_set[0]) != tuple:\n",
        "    frequent_kmin1_set = [[x] for x in frequent_kmin1_set]\n",
        "\n",
        "  for x in frequent_kmin1_set:\n",
        "    for y in frequent_kmin1_set:\n",
        "      if x[:k - 2] == y[:k - 2] and x[k - 2] < y[k - 2]:\n",
        "        candidates.append((*x[:k - 2], x[k - 2], y[k - 2]))\n",
        "  return candidates"
      ],
      "id": "zUn2HchZukHA"
    },
    {
      "cell_type": "code",
      "execution_count": 6,
      "metadata": {
        "id": "F7SMmiPiiQrQ"
      },
      "outputs": [],
      "source": [
        "import functools\n",
        "from itertools import tee\n",
        "                    \n",
        "def apriori_unlimited_k(transactions, support_threshold):\n",
        "  \"\"\"\n",
        "  transactions: list [(key, [elements]), ...]\n",
        "  support_threshold: int\n",
        "\n",
        "  return: list [(itemset, support), ...]\n",
        "  \"\"\"\n",
        "  useIterator,copyIterator = tee(transactions)\n",
        "\n",
        "  frequent_elements = {}\n",
        "\n",
        "  # count singletons\n",
        "  counter = {}\n",
        "  for _, transaction in useIterator:\n",
        "    for x in transaction:\n",
        "      # if is not present in counter set return 0 and add 1, otherwise add 1 to entry x\n",
        "      counter[x] = counter.get(x,0) + 1\n",
        "\n",
        "  # filter out imtesets with count >= the threshold\n",
        "  frequent_elements[1] = [(k, v) for k, v in counter.items() if v >= support_threshold]\n",
        "  \n",
        "  k = 2\n",
        "  while frequent_elements[k - 1]:\n",
        "    all_candidate_sets = generate_candidate_k_set([e[0] for e in frequent_elements[k - 1]], k)\n",
        "\n",
        "    useIterator, copyIterator = tee(copyIterator)\n",
        "    counter = {}\n",
        "    for _, transaction in useIterator:\n",
        "      for candidate_set in all_candidate_sets:\n",
        "        # check that all the element in the candidate set are in transaction\n",
        "        if all([candidate_element in transaction for candidate_element in candidate_set]):\n",
        "          counter[candidate_set] = counter.get(candidate_set, 0) + 1\n",
        "    # keep only the itemsets with counter >= the threshold\n",
        "    frequent_elements[k] = [(itemset, occ) for itemset, occ in counter.items() if occ >= support_threshold]\n",
        "    k += 1\n",
        "  return functools.reduce(lambda a, b: a + b, frequent_elements.values())"
      ],
      "id": "F7SMmiPiiQrQ"
    },
    {
      "cell_type": "code",
      "execution_count": 7,
      "metadata": {
        "colab": {
          "base_uri": "https://localhost:8080/"
        },
        "id": "1rQVnV3xoz7p",
        "outputId": "410e1154-7fc1-4667-8611-05d581e7a1f8"
      },
      "outputs": [
        {
          "output_type": "execute_result",
          "data": {
            "text/plain": [
              "[('I1', 2),\n",
              " ('I3', 3),\n",
              " ('I2', 3),\n",
              " ('I5', 3),\n",
              " (('I1', 'I3'), 2),\n",
              " (('I3', 'I5'), 2),\n",
              " (('I2', 'I3'), 2),\n",
              " (('I2', 'I5'), 3),\n",
              " (('I2', 'I3', 'I5'), 2)]"
            ]
          },
          "metadata": {},
          "execution_count": 7
        }
      ],
      "source": [
        "test = [\n",
        "        (\"t1\", [\"I1\", \"I3\", \"I4\"]),\n",
        "        (\"t2\", [\"I2\", \"I3\", \"I5\"]),\n",
        "        (\"t3\", [\"I1\", \"I2\", \"I3\", \"I5\"]),\n",
        "        (\"t4\", [\"I2\", \"I5\"]),\n",
        "  ]\n",
        "\n",
        "apriori_unlimited_k(test, 2)"
      ],
      "id": "1rQVnV3xoz7p"
    },
    {
      "cell_type": "markdown",
      "metadata": {
        "id": "I7dZSxBd1hWQ"
      },
      "source": [
        "# Apriori with MAP-REDUCE"
      ],
      "id": "I7dZSxBd1hWQ"
    },
    {
      "cell_type": "markdown",
      "metadata": {
        "id": "YYDq3kNh5aql"
      },
      "source": [
        "Follow an implementatio of the Apriori algorithm using a map-reduce approach."
      ],
      "id": "YYDq3kNh5aql"
    },
    {
      "cell_type": "code",
      "execution_count": 8,
      "metadata": {
        "id": "2AlYVXPwD2yv"
      },
      "outputs": [],
      "source": [
        "def filter_candidate(transaction, all_candidate_sets):\n",
        "  \"\"\"\n",
        "  transaction: list\n",
        "  all_candidate_set: list\n",
        "\n",
        "  return: list\n",
        "  return only the candidate set which are in the transaction\n",
        "  \"\"\"\n",
        "  exist = []\n",
        "  for candidate_set in all_candidate_sets:\n",
        "    if all([candidate_element in transaction for candidate_element in candidate_set]):\n",
        "      exist.append(candidate_set)\n",
        "  return exist"
      ],
      "id": "2AlYVXPwD2yv"
    },
    {
      "cell_type": "code",
      "execution_count": 9,
      "metadata": {
        "id": "qdt80B7guQcy"
      },
      "outputs": [],
      "source": [
        "def apriorihmap_unlimited_k(data, support_threshold):\n",
        "  \"\"\" \n",
        "  data: Pyspark.rdd \n",
        "    [\n",
        "      [tconst, [nconst,]],\n",
        "    ]\n",
        "  support_threshold: int\n",
        "\n",
        "  return: Pyspark.rdd\n",
        "  \"\"\"\n",
        "  nconst_rdd = data.map(lambda x: x[1])\n",
        "\n",
        "  # find singletone\n",
        "  frequent_items_rdd = nconst_rdd.flatMap(lambda x: x) \\\n",
        "        .map(lambda elem: (elem,1)) \\\n",
        "        .reduceByKey(lambda a,b: a+b) \\\n",
        "        .filter(lambda x: x[1] >= support_threshold)\n",
        "\n",
        "  # to save frequent itemsets for each k iteration\n",
        "  frequent_elements = frequent_items_rdd.map(lambda x: x[0]).collect()\n",
        "  k = 2\n",
        "  # until there are no more frequent itemesets with support >= threshold\n",
        "  while frequent_elements:\n",
        "    # generate all the candidate k itemset from frequent_elements (k - 1)\n",
        "    all_candidate_sets = generate_candidate_k_set(frequent_elements, k) \n",
        "    \n",
        "    frequent_k_rdd = nconst_rdd.flatMap(lambda x: filter_candidate(x, all_candidate_sets)) \\\n",
        "              .map(lambda x: (x,1)) \\\n",
        "              .reduceByKey(lambda a,b: a+b) \\\n",
        "              .filter(lambda x: x[1] >= support_threshold)\n",
        "    frequent_items_rdd = frequent_items_rdd.union(frequent_k_rdd)\n",
        "\n",
        "    # add new frequent element\n",
        "    frequent_elements = frequent_k_rdd.map(lambda x: x[0]).collect()\n",
        "    k += 1\n",
        "  return frequent_items_rdd"
      ],
      "id": "qdt80B7guQcy"
    },
    {
      "cell_type": "markdown",
      "metadata": {
        "id": "0KsAA5w_21g1"
      },
      "source": [
        "# SON"
      ],
      "id": "0KsAA5w_21g1"
    },
    {
      "cell_type": "markdown",
      "metadata": {
        "id": "P2Kk0QGUlr-X"
      },
      "source": [
        "We then decided to also implement SON to test out if there is an improvement in time complexity. We decided to partion the data in a number equal to the avaiable processors in the cluster for the sake of experimenta setup; in a real case scenario use the number of nodes in the cluster."
      ],
      "id": "P2Kk0QGUlr-X"
    },
    {
      "cell_type": "code",
      "execution_count": 10,
      "metadata": {
        "colab": {
          "base_uri": "https://localhost:8080/"
        },
        "id": "vJgYWyXy28lB",
        "outputId": "8cfcba89-6701-4dd4-b356-a355752e2dfb"
      },
      "outputs": [
        {
          "output_type": "execute_result",
          "data": {
            "text/plain": [
              "4"
            ]
          },
          "metadata": {},
          "execution_count": 10
        }
      ],
      "source": [
        "# empirical sweet-spot for the number of partitions (assuming every executor has 4 cores ...)\n",
        "num_partitions = spark.sparkContext._jsc.sc().getExecutorMemoryStatus().size() * 4\n",
        "num_partitions"
      ],
      "id": "vJgYWyXy28lB"
    },
    {
      "cell_type": "markdown",
      "metadata": {
        "id": "eJwtNWu9mNL3"
      },
      "source": [
        "We must define a function for the second step to properly count the number of occurrence of frequent itemsets in a partition."
      ],
      "id": "eJwtNWu9mNL3"
    },
    {
      "cell_type": "code",
      "execution_count": 11,
      "metadata": {
        "id": "eGizCiVdI01u"
      },
      "outputs": [],
      "source": [
        "def count_in_partition(data, frequent):\n",
        "  \"\"\"\n",
        "  data: iterable\n",
        "  frequent:  pyspark.Broadcast\n",
        "\n",
        "  return: list \n",
        "  \n",
        "  count the occurence of each itemeset in frequent in the partion data\n",
        "  \"\"\"\n",
        "  # prepare data for processing\n",
        "  frequent = frequent.value   # extract broadcasted values\n",
        "  data = list(data)\n",
        "\n",
        "  # check foreach frequent itemset\n",
        "  for frequent_item in frequent:\n",
        "    # trick to cast single element to list → not remove in the str duplicate char using set()\n",
        "    if type(frequent_item) is not tuple:\n",
        "      to_check = [frequent_item]\n",
        "    else:\n",
        "      to_check = frequent_item\n",
        "      \n",
        "    c = 0     # counter\n",
        "    # and foreach row of the dataset\n",
        "    for itemset in data:\n",
        "      # check if the frequent itemset is subset of the items of the row\n",
        "      if set(to_check).issubset(itemset[1]):\n",
        "        c += 1\n",
        "    yield (frequent_item, c)"
      ],
      "id": "eGizCiVdI01u"
    },
    {
      "cell_type": "code",
      "execution_count": 12,
      "metadata": {
        "id": "ff6lKtG-gpYk"
      },
      "outputs": [],
      "source": [
        "def count_in_partition_v2(data, frequent):\n",
        "  frequent = frequent.value   # extract broadcasted values\n",
        "  data = list(data)\n",
        "\n",
        "  for frequent_itemset in frequent.keys():\n",
        "    # convert frequent singleton to list if needed. It will be converted to set later\n",
        "    freq_itemset_copy = frequent_itemset if type(frequent_itemset) is not str else [frequent_itemset]\n",
        "    \n",
        "    # count all the transactions that contain freq_itemset_copy\n",
        "    c = sum(1 for _,transaction in data if set(freq_itemset_copy).issubset(transaction))\n",
        "\n",
        "    yield (frequent_itemset, c)"
      ],
      "id": "ff6lKtG-gpYk"
    },
    {
      "cell_type": "markdown",
      "metadata": {
        "id": "565n3mcLm4vX"
      },
      "source": [
        "Then the implementation of SON with a two step map-reduce. The first finds out the frequent itemsets in the partition and the latter go to count them in the dataset and filters out the ones with support greater than threshold."
      ],
      "id": "565n3mcLm4vX"
    },
    {
      "cell_type": "code",
      "execution_count": 13,
      "metadata": {
        "id": "BwaMIM_AI33k"
      },
      "outputs": [],
      "source": [
        "def son_m_r(data, support):\n",
        "  \"\"\"\n",
        "  data: Pyspark.rdd \n",
        "    [\n",
        "      [tconst, [nconst,]],\n",
        "    ]\n",
        "  support: int\n",
        "\n",
        "  return: Pyspark.rdd\n",
        "  \"\"\"\n",
        "  reduced_support = support//data.getNumPartitions()\n",
        "  # use apriori on every partition\n",
        "  first_map = data.mapPartitions(lambda partition: apriori_unlimited_k(partition, reduced_support)).map(lambda x: (x[0], None))\n",
        "  first_reduce = first_map.reduceByKey(lambda a,b: a) # reduce just to remove duplicates\n",
        "  \n",
        "  # extract the frequent itemsets and broadcast them to worker nodes\n",
        "  frequent_items = [x[0] for x in first_reduce.collect()]\n",
        "\n",
        "  # same but using spark distinct()\n",
        "  # frequent_items = data.mapPartitions(lambda partition: apriori_unlimited_k(partition, reduced_support)).map(lambda x: x[0]).distinct().collect()\n",
        "\n",
        "  frequent_items = spark.sparkContext.broadcast(frequent_items)\n",
        "\n",
        "  second_map = data.mapPartitions(lambda partition: count_in_partition(partition, frequent_items))\n",
        "  second_reduce = second_map.reduceByKey(lambda a,b: a+b).filter(lambda x: x[1] >= support)\n",
        "  return second_reduce"
      ],
      "id": "BwaMIM_AI33k"
    },
    {
      "cell_type": "code",
      "execution_count": 14,
      "metadata": {
        "id": "ImC5plrpZ4wv"
      },
      "outputs": [],
      "source": [
        "def son_m_r_v2(data, support):\n",
        "  reduced_support = support/data.getNumPartitions()\n",
        "\n",
        "  candidate_frequent_itemsets_rdd = data.mapPartitions(lambda partition: apriori_unlimited_k(partition, reduced_support)).map(lambda x: x[0])\n",
        "\n",
        "  # broadcast the frequent items to worker nodes\n",
        "  candidate_frequent_itemsets_bv = spark.sparkContext.broadcast(\n",
        "      {x:True for x in candidate_frequent_itemsets_rdd.collect()}\n",
        "  )\n",
        "  \n",
        "  second_map = data.mapPartitions(lambda partition: count_in_partition_v2(partition, candidate_frequent_itemsets_bv))\n",
        "  frequent_itemsets = second_map.reduceByKey(lambda a,b: a+b).filter(lambda x: x[1] >= support)\n",
        "  return frequent_itemsets"
      ],
      "id": "ImC5plrpZ4wv"
    },
    {
      "cell_type": "markdown",
      "metadata": {
        "id": "z3NcLCryldUa"
      },
      "source": [
        "# Demo FP Growth"
      ],
      "id": "z3NcLCryldUa"
    },
    {
      "cell_type": "markdown",
      "metadata": {
        "id": "1nE0iULGnbS1"
      },
      "source": [
        "To carry our experiment we decided to also use the in library implementation of FP-growth as comparison benchmark."
      ],
      "id": "1nE0iULGnbS1"
    },
    {
      "cell_type": "code",
      "execution_count": 15,
      "metadata": {
        "id": "Fz6FTwiSlgtB"
      },
      "outputs": [],
      "source": [
        "from pyspark.ml.fpm import FPGrowth\n",
        "fpGrowth = FPGrowth(itemsCol=\"nconsts\")"
      ],
      "id": "Fz6FTwiSlgtB"
    },
    {
      "cell_type": "code",
      "execution_count": 16,
      "metadata": {
        "colab": {
          "base_uri": "https://localhost:8080/",
          "height": 0
        },
        "id": "Ka2nZvdMmjzL",
        "outputId": "cd6fbb6a-5adc-4758-9832-53423f23a1ee"
      },
      "outputs": [
        {
          "output_type": "execute_result",
          "data": {
            "application/vnd.google.colaboratory.intrinsic+json": {
              "type": "string"
            },
            "text/plain": [
              "'\\nmodel = fpGrowth.fit(basket_data)\\n\\n# Display frequent itemsets.\\nmodel.freqItemsets.show()\\nitems = model.freqItemsets\\n\\n# Display generated association rules.\\nmodel.associationRules.show()\\nrules = model.associationRules\\n\\n# transform examines the input items against all the association rules and summarize the consequents as prediction\\nmodel.transform(basket_data).show()\\ntransformed = model.transform(basket_data)\\n'"
            ]
          },
          "metadata": {},
          "execution_count": 16
        }
      ],
      "source": [
        "\"\"\"\n",
        "model = fpGrowth.fit(basket_data)\n",
        "\n",
        "# Display frequent itemsets.\n",
        "model.freqItemsets.show()\n",
        "items = model.freqItemsets\n",
        "\n",
        "# Display generated association rules.\n",
        "model.associationRules.show()\n",
        "rules = model.associationRules\n",
        "\n",
        "# transform examines the input items against all the association rules and summarize the consequents as prediction\n",
        "model.transform(basket_data).show()\n",
        "transformed = model.transform(basket_data)\n",
        "\"\"\""
      ],
      "id": "Ka2nZvdMmjzL"
    },
    {
      "cell_type": "markdown",
      "metadata": {
        "id": "6Y3eYwlUhklx"
      },
      "source": [
        "# Test of the algorithms"
      ],
      "id": "6Y3eYwlUhklx"
    },
    {
      "cell_type": "markdown",
      "metadata": {
        "id": "MAmmpjQxh37m"
      },
      "source": [
        "We extract a subset of 1000 rows from the dataset to test out that our algorithms work as expected. We define min_support as 1% of the count of the rows."
      ],
      "id": "MAmmpjQxh37m"
    },
    {
      "cell_type": "code",
      "execution_count": null,
      "metadata": {
        "id": "DFU3nax7hwzB"
      },
      "outputs": [],
      "source": [
        "import pandas as pd\n",
        "minsup = 0.01\n",
        "num_rows = 1000\n",
        "sup = minsup*num_rows\n",
        "sup"
      ],
      "id": "DFU3nax7hwzB"
    },
    {
      "cell_type": "code",
      "execution_count": null,
      "metadata": {
        "id": "Jzci8_QwRzuJ"
      },
      "outputs": [],
      "source": [
        "minid = basket_data.take(num_rows)\n",
        "minid = spark.sparkContext.parallelize(minid)\n",
        "minid.take(5)"
      ],
      "id": "Jzci8_QwRzuJ"
    },
    {
      "cell_type": "code",
      "execution_count": null,
      "metadata": {
        "id": "sK_HFCKEcgz6"
      },
      "outputs": [],
      "source": [
        "import time\n",
        "execution_times = {}"
      ],
      "id": "sK_HFCKEcgz6"
    },
    {
      "cell_type": "markdown",
      "metadata": {
        "id": "UeweibBnjlt-"
      },
      "source": [
        "We start by exectuing the classic implementation of apriori. Is compulsory to  collect the data from the RDD since this is a non distributed implementation."
      ],
      "id": "UeweibBnjlt-"
    },
    {
      "cell_type": "code",
      "execution_count": null,
      "metadata": {
        "id": "bvT1hHJejqx-"
      },
      "outputs": [],
      "source": [
        "before = time.time()\n",
        "\n",
        "apriori1 = list(apriori_unlimited_k(minid.collect(), sup))\n",
        "\n",
        "execution_times[\"apriori_seq\"] = time.time() - before"
      ],
      "id": "bvT1hHJejqx-"
    },
    {
      "cell_type": "markdown",
      "metadata": {
        "id": "uJQ80_vgj8GV"
      },
      "source": [
        "The we have the Apriori implementation with map-reduce"
      ],
      "id": "uJQ80_vgj8GV"
    },
    {
      "cell_type": "code",
      "execution_count": null,
      "metadata": {
        "id": "TE7l29m1j7m9"
      },
      "outputs": [],
      "source": [
        "before = time.time()\n",
        "\n",
        "apriori2 = apriorihmap_unlimited_k(minid, sup).collect()\n",
        "\n",
        "execution_times[\"apriori_MR\"] = time.time() - before"
      ],
      "id": "TE7l29m1j7m9"
    },
    {
      "cell_type": "markdown",
      "metadata": {
        "id": "NLsmu3F9k71N"
      },
      "source": [
        "Follow the implementation with SON. The data must be repartioned on the finded sweet-spot number of partitions"
      ],
      "id": "NLsmu3F9k71N"
    },
    {
      "cell_type": "code",
      "execution_count": null,
      "metadata": {
        "id": "y6IRRQKJ2rF7"
      },
      "outputs": [],
      "source": [
        "minid = minid.repartition(num_partitions)\n",
        "\n",
        "before = time.time()\n",
        "\n",
        "son = son_m_r(minid, sup).collect()\n",
        "\n",
        "execution_times[\"son\"] = time.time() - before"
      ],
      "id": "y6IRRQKJ2rF7"
    },
    {
      "cell_type": "code",
      "execution_count": null,
      "metadata": {
        "id": "5BAUF1yUIrL9"
      },
      "outputs": [],
      "source": [
        "before = time.time()\n",
        "\n",
        "son_v2 = son_m_r_v2(minid, sup).collect()\n",
        "\n",
        "execution_times[\"son_dict\"] = time.time() - before"
      ],
      "id": "5BAUF1yUIrL9"
    },
    {
      "cell_type": "markdown",
      "metadata": {
        "id": "6Dl2cFhxoIp1"
      },
      "source": [
        "Then we also train the in-library implementation of FPGrowth to have a comparison with a correct algorithm"
      ],
      "id": "6Dl2cFhxoIp1"
    },
    {
      "cell_type": "code",
      "execution_count": null,
      "metadata": {
        "id": "i-JGaLC6oIL2"
      },
      "outputs": [],
      "source": [
        "from pyspark.ml.fpm import FPGrowth\n",
        "fpGrowth = FPGrowth(itemsCol=\"nconsts\")\n",
        "\n",
        "before = time.time()\n",
        "\n",
        "# initialize\n",
        "fpGrowth.setMinSupport(minsup)\n",
        "model = fpGrowth.fit(minid.toDF())\n",
        "\n",
        "# get itemsets\n",
        "fp_growth = model.freqItemsets.collect()\n",
        "\n",
        "execution_times[\"fpgrowth\"] = time.time() - before"
      ],
      "id": "i-JGaLC6oIL2"
    },
    {
      "cell_type": "code",
      "execution_count": null,
      "metadata": {
        "id": "KdmS1h6zsGCd"
      },
      "outputs": [],
      "source": [
        "# trasform the output of FPGrowth to be the same as our implementations\n",
        "def trasform_format(data):\n",
        "  res = []\n",
        "  for d in data:\n",
        "    if len(d.items) == 1:\n",
        "      # (\"item\") -> \"item\"\n",
        "      itemset = d.items[0]\n",
        "    else:\n",
        "      # (\"z\", \"a\") -> (\"a\", \"z\")\n",
        "      itemset = tuple(sorted(d.items))\n",
        "\n",
        "    res.append((itemset, d.freq))\n",
        "  return res\n",
        "\n",
        "# convert result\n",
        "fp_growth = trasform_format(fp_growth)"
      ],
      "id": "KdmS1h6zsGCd"
    },
    {
      "cell_type": "markdown",
      "metadata": {
        "id": "aP1FgwrOwz5F"
      },
      "source": [
        "Let's put the obtained result in a tabular way."
      ],
      "id": "aP1FgwrOwz5F"
    },
    {
      "cell_type": "code",
      "execution_count": null,
      "metadata": {
        "colab": {
          "base_uri": "https://localhost:8080/",
          "height": 708
        },
        "id": "lOfyQmTHiyfM",
        "outputId": "403aed31-62ea-42fc-92eb-7a3fddbaed8d"
      },
      "outputs": [
        {
          "data": {
            "text/html": [
              "\n",
              "  <div id=\"df-a5dedb8d-bc63-4bbf-9ad9-1b0c7af5efce\">\n",
              "    <div class=\"colab-df-container\">\n",
              "      <div>\n",
              "<style scoped>\n",
              "    .dataframe tbody tr th:only-of-type {\n",
              "        vertical-align: middle;\n",
              "    }\n",
              "\n",
              "    .dataframe tbody tr th {\n",
              "        vertical-align: top;\n",
              "    }\n",
              "\n",
              "    .dataframe thead th {\n",
              "        text-align: right;\n",
              "    }\n",
              "</style>\n",
              "<table border=\"1\" class=\"dataframe\">\n",
              "  <thead>\n",
              "    <tr style=\"text-align: right;\">\n",
              "      <th></th>\n",
              "      <th>Apriori</th>\n",
              "      <th>Apriori MR</th>\n",
              "      <th>SON</th>\n",
              "      <th>SON_V2</th>\n",
              "      <th>FPGrowth</th>\n",
              "      <th>Equal</th>\n",
              "    </tr>\n",
              "  </thead>\n",
              "  <tbody>\n",
              "    <tr>\n",
              "      <th>nm0140054</th>\n",
              "      <td>14</td>\n",
              "      <td>14</td>\n",
              "      <td>14</td>\n",
              "      <td>14</td>\n",
              "      <td>14</td>\n",
              "      <td>True</td>\n",
              "    </tr>\n",
              "    <tr>\n",
              "      <th>nm0528022</th>\n",
              "      <td>10</td>\n",
              "      <td>10</td>\n",
              "      <td>10</td>\n",
              "      <td>10</td>\n",
              "      <td>10</td>\n",
              "      <td>True</td>\n",
              "    </tr>\n",
              "    <tr>\n",
              "      <th>nm0681933</th>\n",
              "      <td>16</td>\n",
              "      <td>16</td>\n",
              "      <td>16</td>\n",
              "      <td>16</td>\n",
              "      <td>16</td>\n",
              "      <td>True</td>\n",
              "    </tr>\n",
              "    <tr>\n",
              "      <th>nm0516974</th>\n",
              "      <td>20</td>\n",
              "      <td>20</td>\n",
              "      <td>20</td>\n",
              "      <td>20</td>\n",
              "      <td>20</td>\n",
              "      <td>True</td>\n",
              "    </tr>\n",
              "    <tr>\n",
              "      <th>nm0110838</th>\n",
              "      <td>11</td>\n",
              "      <td>11</td>\n",
              "      <td>11</td>\n",
              "      <td>11</td>\n",
              "      <td>11</td>\n",
              "      <td>True</td>\n",
              "    </tr>\n",
              "    <tr>\n",
              "      <th>nm0292407</th>\n",
              "      <td>16</td>\n",
              "      <td>16</td>\n",
              "      <td>16</td>\n",
              "      <td>16</td>\n",
              "      <td>16</td>\n",
              "      <td>True</td>\n",
              "    </tr>\n",
              "    <tr>\n",
              "      <th>nm0926280</th>\n",
              "      <td>18</td>\n",
              "      <td>18</td>\n",
              "      <td>18</td>\n",
              "      <td>18</td>\n",
              "      <td>18</td>\n",
              "      <td>True</td>\n",
              "    </tr>\n",
              "    <tr>\n",
              "      <th>nm0676473</th>\n",
              "      <td>14</td>\n",
              "      <td>14</td>\n",
              "      <td>14</td>\n",
              "      <td>14</td>\n",
              "      <td>14</td>\n",
              "      <td>True</td>\n",
              "    </tr>\n",
              "    <tr>\n",
              "      <th>nm0392059</th>\n",
              "      <td>14</td>\n",
              "      <td>14</td>\n",
              "      <td>14</td>\n",
              "      <td>14</td>\n",
              "      <td>14</td>\n",
              "      <td>True</td>\n",
              "    </tr>\n",
              "    <tr>\n",
              "      <th>nm0163540</th>\n",
              "      <td>14</td>\n",
              "      <td>14</td>\n",
              "      <td>14</td>\n",
              "      <td>14</td>\n",
              "      <td>14</td>\n",
              "      <td>True</td>\n",
              "    </tr>\n",
              "    <tr>\n",
              "      <th>nm0098376</th>\n",
              "      <td>12</td>\n",
              "      <td>12</td>\n",
              "      <td>12</td>\n",
              "      <td>12</td>\n",
              "      <td>12</td>\n",
              "      <td>True</td>\n",
              "    </tr>\n",
              "    <tr>\n",
              "      <th>nm0867469</th>\n",
              "      <td>10</td>\n",
              "      <td>10</td>\n",
              "      <td>10</td>\n",
              "      <td>10</td>\n",
              "      <td>10</td>\n",
              "      <td>True</td>\n",
              "    </tr>\n",
              "    <tr>\n",
              "      <th>nm0824332</th>\n",
              "      <td>11</td>\n",
              "      <td>11</td>\n",
              "      <td>11</td>\n",
              "      <td>11</td>\n",
              "      <td>11</td>\n",
              "      <td>True</td>\n",
              "    </tr>\n",
              "    <tr>\n",
              "      <th>nm0731623</th>\n",
              "      <td>11</td>\n",
              "      <td>11</td>\n",
              "      <td>11</td>\n",
              "      <td>11</td>\n",
              "      <td>11</td>\n",
              "      <td>True</td>\n",
              "    </tr>\n",
              "    <tr>\n",
              "      <th>nm0104197</th>\n",
              "      <td>10</td>\n",
              "      <td>10</td>\n",
              "      <td>10</td>\n",
              "      <td>10</td>\n",
              "      <td>10</td>\n",
              "      <td>True</td>\n",
              "    </tr>\n",
              "    <tr>\n",
              "      <th>nm0344059</th>\n",
              "      <td>10</td>\n",
              "      <td>10</td>\n",
              "      <td>10</td>\n",
              "      <td>10</td>\n",
              "      <td>10</td>\n",
              "      <td>True</td>\n",
              "    </tr>\n",
              "    <tr>\n",
              "      <th>nm0728230</th>\n",
              "      <td>10</td>\n",
              "      <td>10</td>\n",
              "      <td>10</td>\n",
              "      <td>10</td>\n",
              "      <td>10</td>\n",
              "      <td>True</td>\n",
              "    </tr>\n",
              "    <tr>\n",
              "      <th>nm0822059</th>\n",
              "      <td>10</td>\n",
              "      <td>10</td>\n",
              "      <td>10</td>\n",
              "      <td>10</td>\n",
              "      <td>10</td>\n",
              "      <td>True</td>\n",
              "    </tr>\n",
              "    <tr>\n",
              "      <th>nm0386893</th>\n",
              "      <td>10</td>\n",
              "      <td>10</td>\n",
              "      <td>10</td>\n",
              "      <td>10</td>\n",
              "      <td>10</td>\n",
              "      <td>True</td>\n",
              "    </tr>\n",
              "    <tr>\n",
              "      <th>(nm0292407, nm0926280)</th>\n",
              "      <td>10</td>\n",
              "      <td>10</td>\n",
              "      <td>10</td>\n",
              "      <td>10</td>\n",
              "      <td>10</td>\n",
              "      <td>True</td>\n",
              "    </tr>\n",
              "    <tr>\n",
              "      <th>(nm0344059, nm0728230)</th>\n",
              "      <td>10</td>\n",
              "      <td>10</td>\n",
              "      <td>10</td>\n",
              "      <td>10</td>\n",
              "      <td>10</td>\n",
              "      <td>True</td>\n",
              "    </tr>\n",
              "  </tbody>\n",
              "</table>\n",
              "</div>\n",
              "      <button class=\"colab-df-convert\" onclick=\"convertToInteractive('df-a5dedb8d-bc63-4bbf-9ad9-1b0c7af5efce')\"\n",
              "              title=\"Convert this dataframe to an interactive table.\"\n",
              "              style=\"display:none;\">\n",
              "        \n",
              "  <svg xmlns=\"http://www.w3.org/2000/svg\" height=\"24px\"viewBox=\"0 0 24 24\"\n",
              "       width=\"24px\">\n",
              "    <path d=\"M0 0h24v24H0V0z\" fill=\"none\"/>\n",
              "    <path d=\"M18.56 5.44l.94 2.06.94-2.06 2.06-.94-2.06-.94-.94-2.06-.94 2.06-2.06.94zm-11 1L8.5 8.5l.94-2.06 2.06-.94-2.06-.94L8.5 2.5l-.94 2.06-2.06.94zm10 10l.94 2.06.94-2.06 2.06-.94-2.06-.94-.94-2.06-.94 2.06-2.06.94z\"/><path d=\"M17.41 7.96l-1.37-1.37c-.4-.4-.92-.59-1.43-.59-.52 0-1.04.2-1.43.59L10.3 9.45l-7.72 7.72c-.78.78-.78 2.05 0 2.83L4 21.41c.39.39.9.59 1.41.59.51 0 1.02-.2 1.41-.59l7.78-7.78 2.81-2.81c.8-.78.8-2.07 0-2.86zM5.41 20L4 18.59l7.72-7.72 1.47 1.35L5.41 20z\"/>\n",
              "  </svg>\n",
              "      </button>\n",
              "      \n",
              "  <style>\n",
              "    .colab-df-container {\n",
              "      display:flex;\n",
              "      flex-wrap:wrap;\n",
              "      gap: 12px;\n",
              "    }\n",
              "\n",
              "    .colab-df-convert {\n",
              "      background-color: #E8F0FE;\n",
              "      border: none;\n",
              "      border-radius: 50%;\n",
              "      cursor: pointer;\n",
              "      display: none;\n",
              "      fill: #1967D2;\n",
              "      height: 32px;\n",
              "      padding: 0 0 0 0;\n",
              "      width: 32px;\n",
              "    }\n",
              "\n",
              "    .colab-df-convert:hover {\n",
              "      background-color: #E2EBFA;\n",
              "      box-shadow: 0px 1px 2px rgba(60, 64, 67, 0.3), 0px 1px 3px 1px rgba(60, 64, 67, 0.15);\n",
              "      fill: #174EA6;\n",
              "    }\n",
              "\n",
              "    [theme=dark] .colab-df-convert {\n",
              "      background-color: #3B4455;\n",
              "      fill: #D2E3FC;\n",
              "    }\n",
              "\n",
              "    [theme=dark] .colab-df-convert:hover {\n",
              "      background-color: #434B5C;\n",
              "      box-shadow: 0px 1px 3px 1px rgba(0, 0, 0, 0.15);\n",
              "      filter: drop-shadow(0px 1px 2px rgba(0, 0, 0, 0.3));\n",
              "      fill: #FFFFFF;\n",
              "    }\n",
              "  </style>\n",
              "\n",
              "      <script>\n",
              "        const buttonEl =\n",
              "          document.querySelector('#df-a5dedb8d-bc63-4bbf-9ad9-1b0c7af5efce button.colab-df-convert');\n",
              "        buttonEl.style.display =\n",
              "          google.colab.kernel.accessAllowed ? 'block' : 'none';\n",
              "\n",
              "        async function convertToInteractive(key) {\n",
              "          const element = document.querySelector('#df-a5dedb8d-bc63-4bbf-9ad9-1b0c7af5efce');\n",
              "          const dataTable =\n",
              "            await google.colab.kernel.invokeFunction('convertToInteractive',\n",
              "                                                     [key], {});\n",
              "          if (!dataTable) return;\n",
              "\n",
              "          const docLinkHtml = 'Like what you see? Visit the ' +\n",
              "            '<a target=\"_blank\" href=https://colab.research.google.com/notebooks/data_table.ipynb>data table notebook</a>'\n",
              "            + ' to learn more about interactive tables.';\n",
              "          element.innerHTML = '';\n",
              "          dataTable['output_type'] = 'display_data';\n",
              "          await google.colab.output.renderOutput(dataTable, element);\n",
              "          const docLink = document.createElement('div');\n",
              "          docLink.innerHTML = docLinkHtml;\n",
              "          element.appendChild(docLink);\n",
              "        }\n",
              "      </script>\n",
              "    </div>\n",
              "  </div>\n",
              "  "
            ],
            "text/plain": [
              "                        Apriori  Apriori MR  SON  SON_V2  FPGrowth  Equal\n",
              "nm0140054                    14          14   14      14        14   True\n",
              "nm0528022                    10          10   10      10        10   True\n",
              "nm0681933                    16          16   16      16        16   True\n",
              "nm0516974                    20          20   20      20        20   True\n",
              "nm0110838                    11          11   11      11        11   True\n",
              "nm0292407                    16          16   16      16        16   True\n",
              "nm0926280                    18          18   18      18        18   True\n",
              "nm0676473                    14          14   14      14        14   True\n",
              "nm0392059                    14          14   14      14        14   True\n",
              "nm0163540                    14          14   14      14        14   True\n",
              "nm0098376                    12          12   12      12        12   True\n",
              "nm0867469                    10          10   10      10        10   True\n",
              "nm0824332                    11          11   11      11        11   True\n",
              "nm0731623                    11          11   11      11        11   True\n",
              "nm0104197                    10          10   10      10        10   True\n",
              "nm0344059                    10          10   10      10        10   True\n",
              "nm0728230                    10          10   10      10        10   True\n",
              "nm0822059                    10          10   10      10        10   True\n",
              "nm0386893                    10          10   10      10        10   True\n",
              "(nm0292407, nm0926280)       10          10   10      10        10   True\n",
              "(nm0344059, nm0728230)       10          10   10      10        10   True"
            ]
          },
          "execution_count": 281,
          "metadata": {},
          "output_type": "execute_result"
        }
      ],
      "source": [
        "df1 = pd.DataFrame([x[1] for x in apriori1], index=[x[0] for x in apriori1], columns =['Apriori'])\n",
        "df2 = pd.DataFrame([x[1] for x in apriori2], index=[x[0] for x in apriori2], columns =['Apriori MR'])\n",
        "df3 = pd.DataFrame([x[1] for x in son], index=[x[0] for x in son], columns =['SON'])\n",
        "df4 = pd.DataFrame([x[1] for x in fp_growth], index=[x[0] for x in fp_growth], columns =['FPGrowth'])\n",
        "df5 = pd.DataFrame([x[1] for x in son_v2], index=[x[0] for x in son_v2], columns =['SON_V2'])\n",
        "\n",
        "df = pd.concat([df1, df2, df3, df5, df4], axis=1)\n",
        "df[\"Equal\"] = df.nunique(axis = 1, dropna=False) == 1       \n",
        "df"
      ],
      "id": "lOfyQmTHiyfM"
    },
    {
      "cell_type": "code",
      "execution_count": null,
      "metadata": {
        "colab": {
          "base_uri": "https://localhost:8080/"
        },
        "id": "gFfjKb49dhD-",
        "outputId": "c2192fdb-9aff-4ef3-ffed-1a3da69a7280"
      },
      "outputs": [
        {
          "data": {
            "text/plain": [
              "{'apriori_MR': 0.6262111663818359,\n",
              " 'apriori_seq': 0.13669848442077637,\n",
              " 'fpgrowth': 0.5626718997955322,\n",
              " 'son': 12.204450368881226,\n",
              " 'son_dict': 1.023836374282837}"
            ]
          },
          "execution_count": 282,
          "metadata": {},
          "output_type": "execute_result"
        }
      ],
      "source": [
        "execution_times"
      ],
      "id": "gFfjKb49dhD-"
    },
    {
      "cell_type": "markdown",
      "metadata": {
        "id": "-s6W5Y0DOKQ6"
      },
      "source": [
        "# Perfomance comparison"
      ],
      "id": "-s6W5Y0DOKQ6"
    },
    {
      "cell_type": "code",
      "source": [
        "import time\n",
        "\n",
        "def getOccPerLen(resultset):\n",
        "  singleton = 0\n",
        "  doubletons = 0\n",
        "  triplets = 0  \n",
        "  for itemset, support in resultset:\n",
        "    if type(itemset) == str:\n",
        "      singleton += 1\n",
        "    if len(itemset) == 2:\n",
        "      doubletons += 1\n",
        "    if len(itemset) == 3:\n",
        "      triplets +=1\n",
        "  return [singleton, doubletons, triplets]\n",
        "\n",
        "def timeit(method, *args):\n",
        "  before = time.time()\n",
        "  res = method(*args)\n",
        "\n",
        "  if type(res) != list:\n",
        "    res = res.collect()\n",
        "  \n",
        "  return time.time() - before, res"
      ],
      "metadata": {
        "id": "RPDMa_E65lI3"
      },
      "id": "RPDMa_E65lI3",
      "execution_count": 17,
      "outputs": []
    },
    {
      "cell_type": "code",
      "execution_count": 18,
      "metadata": {
        "colab": {
          "base_uri": "https://localhost:8080/"
        },
        "id": "st7zQDD1jHcs",
        "outputId": "d3b1d7db-fba9-442e-db7b-d055fdf33a70"
      },
      "outputs": [
        {
          "output_type": "stream",
          "name": "stdout",
          "text": [
            "Benchmark on 393656 rows\n",
            "  st: 0.0005%\n",
            "  st: 0.0006000000000000001%\n",
            "  st: 0.0007000000000000001%\n",
            "  st: 0.0008000000000000001%\n",
            "  st: 0.0009000000000000002%\n",
            "  st: 0.0010000000000000002%\n",
            "  st: 0.0012000000000000003%\n",
            "  st: 0.0014000000000000004%\n",
            "  st: 0.0016000000000000005%\n",
            "  st: 0.0018000000000000006%\n",
            "  st: 0.0020000000000000005%\n"
          ]
        }
      ],
      "source": [
        "import pandas as pd\n",
        "\n",
        "st_perc = .0005\n",
        "nrows = 393656 # basket_data.count()\n",
        "\n",
        "exectime = {}\n",
        "singletons = {}\n",
        "doubletons = {}\n",
        "triplets = {}\n",
        "\n",
        "num_partitions = spark.sparkContext._jsc.sc().getExecutorMemoryStatus().size() * 4\n",
        "basket_data = basket_data.repartition(num_partitions)\n",
        "\n",
        "print(f\"Benchmark on {nrows} rows\")\n",
        "while st_perc < .0022:\n",
        "  print(f\"  st: {st_perc}%\")\n",
        "  st = nrows * st_perc\n",
        "\n",
        "  ex1, its1 = timeit(apriori_unlimited_k, basket_data.collect(), st)\n",
        "  s1,d1,t1 = getOccPerLen(its1)\n",
        "  #print(f\"   apriori \\t{ex1}\")\n",
        "\n",
        "  ex2, its2 = timeit(apriorihmap_unlimited_k, basket_data, st)\n",
        "  s2,d2,t2 = getOccPerLen(its2)\n",
        "  #print(f\"   apriori hm\\t{ex2}\")\n",
        "\n",
        "  ex4, its4 = timeit(son_m_r_v2, basket_data, st)\n",
        "  s4,d4,t4 = getOccPerLen(its4)\n",
        "  #print(f\"   son hm\\t{ex4}\")\n",
        "\n",
        "  exectime[st_perc] = [ex1,ex2,ex4]\n",
        "  singletons[st_perc] = [s1,s2,s4]\n",
        "  doubletons[st_perc] = [d1,d2,d4]\n",
        "  triplets[st_perc] = [t1,t2,t4]\n",
        "\n",
        "  if st_perc >= 0.0010:\n",
        "    st_perc += .0002\n",
        "  else:\n",
        "    st_perc += .0001\n",
        "\n",
        "exectimeDF = pd.DataFrame(exectime, index=[\"Apriori\", \"Apriori MR\", \"SON HM\"])\n",
        "singletonsDF = pd.DataFrame(singletons, index=[\"Apriori\", \"Apriori MR\", \"SON HM\"])\n",
        "doubletonsDF = pd.DataFrame(doubletons, index=[\"Apriori\", \"Apriori MR\", \"SON HM\"])\n",
        "tripletsDF = pd.DataFrame(triplets, index=[\"Apriori\", \"Apriori MR\", \"SON HM\"])"
      ],
      "id": "st7zQDD1jHcs"
    },
    {
      "cell_type": "code",
      "execution_count": 19,
      "metadata": {
        "id": "-BQzPZtjOVIC"
      },
      "outputs": [],
      "source": [
        "# Check for consistent result\n",
        "singletonsDF = singletonsDF.transpose()\n",
        "singletonsDF[\"Equal\"] = singletonsDF.nunique(axis = 1, dropna=False) == 1\n",
        "assert singletonsDF[\"Equal\"].all()\n",
        "\n",
        "doubletonsDF = doubletonsDF.transpose()\n",
        "doubletonsDF[\"Equal\"] = doubletonsDF.nunique(axis = 1, dropna=False) == 1\n",
        "assert doubletonsDF[\"Equal\"].all()\n",
        "\n",
        "tripletsDF = tripletsDF.transpose()\n",
        "tripletsDF[\"Equal\"] = tripletsDF.nunique(axis = 1, dropna=False) == 1\n",
        "assert tripletsDF[\"Equal\"].all()"
      ],
      "id": "-BQzPZtjOVIC"
    },
    {
      "cell_type": "code",
      "source": [
        "itemsetCountDF = pd.DataFrame()\n",
        "itemsetCountDF[\"# Singletons\"] = singletonsDF.drop([\"Apriori MR\", \"SON HM\", \"Equal\"], axis = 1)\n",
        "itemsetCountDF[\"# Doubletons\"] = doubletonsDF.drop([\"Apriori MR\", \"SON HM\", \"Equal\"], axis = 1)\n",
        "itemsetCountDF[\"# Triplets\"] = tripletsDF.drop([\"Apriori MR\", \"SON HM\", \"Equal\"], axis = 1)"
      ],
      "metadata": {
        "id": "zoh0UpjiESm8"
      },
      "id": "zoh0UpjiESm8",
      "execution_count": 20,
      "outputs": []
    },
    {
      "cell_type": "code",
      "source": [
        "itemsetCountDF.transpose()"
      ],
      "metadata": {
        "id": "UHmPrzflGM1B",
        "outputId": "a7f288be-e85e-4f54-c727-55ad1fbfca78",
        "colab": {
          "base_uri": "https://localhost:8080/",
          "height": 144
        }
      },
      "id": "UHmPrzflGM1B",
      "execution_count": 21,
      "outputs": [
        {
          "output_type": "execute_result",
          "data": {
            "text/html": [
              "\n",
              "  <div id=\"df-294ffa9c-93fd-47cb-8893-ed7a33b2826a\">\n",
              "    <div class=\"colab-df-container\">\n",
              "      <div>\n",
              "<style scoped>\n",
              "    .dataframe tbody tr th:only-of-type {\n",
              "        vertical-align: middle;\n",
              "    }\n",
              "\n",
              "    .dataframe tbody tr th {\n",
              "        vertical-align: top;\n",
              "    }\n",
              "\n",
              "    .dataframe thead th {\n",
              "        text-align: right;\n",
              "    }\n",
              "</style>\n",
              "<table border=\"1\" class=\"dataframe\">\n",
              "  <thead>\n",
              "    <tr style=\"text-align: right;\">\n",
              "      <th></th>\n",
              "      <th>0.0005</th>\n",
              "      <th>0.0006</th>\n",
              "      <th>0.0007</th>\n",
              "      <th>0.0008</th>\n",
              "      <th>0.0009</th>\n",
              "      <th>0.0010</th>\n",
              "      <th>0.0012</th>\n",
              "      <th>0.0014</th>\n",
              "      <th>0.0016</th>\n",
              "      <th>0.0018</th>\n",
              "      <th>0.0020</th>\n",
              "    </tr>\n",
              "  </thead>\n",
              "  <tbody>\n",
              "    <tr>\n",
              "      <th># Singletons</th>\n",
              "      <td>89</td>\n",
              "      <td>48</td>\n",
              "      <td>28</td>\n",
              "      <td>15</td>\n",
              "      <td>10</td>\n",
              "      <td>6</td>\n",
              "      <td>4</td>\n",
              "      <td>3</td>\n",
              "      <td>1</td>\n",
              "      <td>1</td>\n",
              "      <td>1</td>\n",
              "    </tr>\n",
              "    <tr>\n",
              "      <th># Doubletons</th>\n",
              "      <td>1</td>\n",
              "      <td>1</td>\n",
              "      <td>0</td>\n",
              "      <td>0</td>\n",
              "      <td>0</td>\n",
              "      <td>0</td>\n",
              "      <td>0</td>\n",
              "      <td>0</td>\n",
              "      <td>0</td>\n",
              "      <td>0</td>\n",
              "      <td>0</td>\n",
              "    </tr>\n",
              "    <tr>\n",
              "      <th># Triplets</th>\n",
              "      <td>0</td>\n",
              "      <td>0</td>\n",
              "      <td>0</td>\n",
              "      <td>0</td>\n",
              "      <td>0</td>\n",
              "      <td>0</td>\n",
              "      <td>0</td>\n",
              "      <td>0</td>\n",
              "      <td>0</td>\n",
              "      <td>0</td>\n",
              "      <td>0</td>\n",
              "    </tr>\n",
              "  </tbody>\n",
              "</table>\n",
              "</div>\n",
              "      <button class=\"colab-df-convert\" onclick=\"convertToInteractive('df-294ffa9c-93fd-47cb-8893-ed7a33b2826a')\"\n",
              "              title=\"Convert this dataframe to an interactive table.\"\n",
              "              style=\"display:none;\">\n",
              "        \n",
              "  <svg xmlns=\"http://www.w3.org/2000/svg\" height=\"24px\"viewBox=\"0 0 24 24\"\n",
              "       width=\"24px\">\n",
              "    <path d=\"M0 0h24v24H0V0z\" fill=\"none\"/>\n",
              "    <path d=\"M18.56 5.44l.94 2.06.94-2.06 2.06-.94-2.06-.94-.94-2.06-.94 2.06-2.06.94zm-11 1L8.5 8.5l.94-2.06 2.06-.94-2.06-.94L8.5 2.5l-.94 2.06-2.06.94zm10 10l.94 2.06.94-2.06 2.06-.94-2.06-.94-.94-2.06-.94 2.06-2.06.94z\"/><path d=\"M17.41 7.96l-1.37-1.37c-.4-.4-.92-.59-1.43-.59-.52 0-1.04.2-1.43.59L10.3 9.45l-7.72 7.72c-.78.78-.78 2.05 0 2.83L4 21.41c.39.39.9.59 1.41.59.51 0 1.02-.2 1.41-.59l7.78-7.78 2.81-2.81c.8-.78.8-2.07 0-2.86zM5.41 20L4 18.59l7.72-7.72 1.47 1.35L5.41 20z\"/>\n",
              "  </svg>\n",
              "      </button>\n",
              "      \n",
              "  <style>\n",
              "    .colab-df-container {\n",
              "      display:flex;\n",
              "      flex-wrap:wrap;\n",
              "      gap: 12px;\n",
              "    }\n",
              "\n",
              "    .colab-df-convert {\n",
              "      background-color: #E8F0FE;\n",
              "      border: none;\n",
              "      border-radius: 50%;\n",
              "      cursor: pointer;\n",
              "      display: none;\n",
              "      fill: #1967D2;\n",
              "      height: 32px;\n",
              "      padding: 0 0 0 0;\n",
              "      width: 32px;\n",
              "    }\n",
              "\n",
              "    .colab-df-convert:hover {\n",
              "      background-color: #E2EBFA;\n",
              "      box-shadow: 0px 1px 2px rgba(60, 64, 67, 0.3), 0px 1px 3px 1px rgba(60, 64, 67, 0.15);\n",
              "      fill: #174EA6;\n",
              "    }\n",
              "\n",
              "    [theme=dark] .colab-df-convert {\n",
              "      background-color: #3B4455;\n",
              "      fill: #D2E3FC;\n",
              "    }\n",
              "\n",
              "    [theme=dark] .colab-df-convert:hover {\n",
              "      background-color: #434B5C;\n",
              "      box-shadow: 0px 1px 3px 1px rgba(0, 0, 0, 0.15);\n",
              "      filter: drop-shadow(0px 1px 2px rgba(0, 0, 0, 0.3));\n",
              "      fill: #FFFFFF;\n",
              "    }\n",
              "  </style>\n",
              "\n",
              "      <script>\n",
              "        const buttonEl =\n",
              "          document.querySelector('#df-294ffa9c-93fd-47cb-8893-ed7a33b2826a button.colab-df-convert');\n",
              "        buttonEl.style.display =\n",
              "          google.colab.kernel.accessAllowed ? 'block' : 'none';\n",
              "\n",
              "        async function convertToInteractive(key) {\n",
              "          const element = document.querySelector('#df-294ffa9c-93fd-47cb-8893-ed7a33b2826a');\n",
              "          const dataTable =\n",
              "            await google.colab.kernel.invokeFunction('convertToInteractive',\n",
              "                                                     [key], {});\n",
              "          if (!dataTable) return;\n",
              "\n",
              "          const docLinkHtml = 'Like what you see? Visit the ' +\n",
              "            '<a target=\"_blank\" href=https://colab.research.google.com/notebooks/data_table.ipynb>data table notebook</a>'\n",
              "            + ' to learn more about interactive tables.';\n",
              "          element.innerHTML = '';\n",
              "          dataTable['output_type'] = 'display_data';\n",
              "          await google.colab.output.renderOutput(dataTable, element);\n",
              "          const docLink = document.createElement('div');\n",
              "          docLink.innerHTML = docLinkHtml;\n",
              "          element.appendChild(docLink);\n",
              "        }\n",
              "      </script>\n",
              "    </div>\n",
              "  </div>\n",
              "  "
            ],
            "text/plain": [
              "              0.0005  0.0006  0.0007  0.0008  ...  0.0014  0.0016  0.0018  0.0020\n",
              "# Singletons      89      48      28      15  ...       3       1       1       1\n",
              "# Doubletons       1       1       0       0  ...       0       0       0       0\n",
              "# Triplets         0       0       0       0  ...       0       0       0       0\n",
              "\n",
              "[3 rows x 11 columns]"
            ]
          },
          "metadata": {},
          "execution_count": 21
        }
      ]
    },
    {
      "cell_type": "code",
      "source": [
        "import matplotlib.pyplot as plt\n",
        "\n",
        "fig = exectimeDF.T.sort_index(ascending=False).plot().get_figure()\n",
        "plt.gca().invert_xaxis()\n",
        "fig.savefig('exectime.png')\n",
        "\n",
        "from google.colab import files\n",
        "files.download('exectime.png')"
      ],
      "metadata": {
        "id": "bs5QHgQCI3dQ",
        "outputId": "6deba368-c27f-4655-8959-b14c79cc066c",
        "colab": {
          "base_uri": "https://localhost:8080/",
          "height": 265
        }
      },
      "id": "bs5QHgQCI3dQ",
      "execution_count": 22,
      "outputs": [
        {
          "output_type": "display_data",
          "data": {
            "application/javascript": [
              "\n",
              "    async function download(id, filename, size) {\n",
              "      if (!google.colab.kernel.accessAllowed) {\n",
              "        return;\n",
              "      }\n",
              "      const div = document.createElement('div');\n",
              "      const label = document.createElement('label');\n",
              "      label.textContent = `Downloading \"${filename}\": `;\n",
              "      div.appendChild(label);\n",
              "      const progress = document.createElement('progress');\n",
              "      progress.max = size;\n",
              "      div.appendChild(progress);\n",
              "      document.body.appendChild(div);\n",
              "\n",
              "      const buffers = [];\n",
              "      let downloaded = 0;\n",
              "\n",
              "      const channel = await google.colab.kernel.comms.open(id);\n",
              "      // Send a message to notify the kernel that we're ready.\n",
              "      channel.send({})\n",
              "\n",
              "      for await (const message of channel.messages) {\n",
              "        // Send a message to notify the kernel that we're ready.\n",
              "        channel.send({})\n",
              "        if (message.buffers) {\n",
              "          for (const buffer of message.buffers) {\n",
              "            buffers.push(buffer);\n",
              "            downloaded += buffer.byteLength;\n",
              "            progress.value = downloaded;\n",
              "          }\n",
              "        }\n",
              "      }\n",
              "      const blob = new Blob(buffers, {type: 'application/binary'});\n",
              "      const a = document.createElement('a');\n",
              "      a.href = window.URL.createObjectURL(blob);\n",
              "      a.download = filename;\n",
              "      div.appendChild(a);\n",
              "      a.click();\n",
              "      div.remove();\n",
              "    }\n",
              "  "
            ],
            "text/plain": [
              "<IPython.core.display.Javascript object>"
            ]
          },
          "metadata": {}
        },
        {
          "output_type": "display_data",
          "data": {
            "application/javascript": [
              "download(\"download_6ac40efd-c96e-4e6f-8c21-34db5c940168\", \"exectime.png\", 13554)"
            ],
            "text/plain": [
              "<IPython.core.display.Javascript object>"
            ]
          },
          "metadata": {}
        },
        {
          "output_type": "display_data",
          "data": {
            "image/png": "[encoded data removed]",
            "text/plain": [
              "<Figure size 432x288 with 1 Axes>"
            ]
          },
          "metadata": {
            "needs_background": "light"
          }
        }
      ]
    },
    {
      "cell_type": "code",
      "source": [
        "print(exectimeDF.to_latex())\n",
        "print(itemsetCountDF.T.to_latex())"
      ],
      "metadata": {
        "colab": {
          "base_uri": "https://localhost:8080/"
        },
        "id": "j5E4_Or35ier",
        "outputId": "45dc9981-ffbe-465f-c4c3-4231a007e580"
      },
      "id": "j5E4_Or35ier",
      "execution_count": 23,
      "outputs": [
        {
          "output_type": "stream",
          "name": "stdout",
          "text": [
            "\\begin{tabular}{lrrrrrrrrrrr}\n",
            "\\toprule\n",
            "{} &       0.0005 &      0.0006 &      0.0007 &     0.0008 &     0.0009 &     0.0010 &     0.0012 &     0.0014 &     0.0016 &    0.0018 &     0.0020 \\\\\n",
            "\\midrule\n",
            "Apriori    &   981.462990 &  281.688775 &   95.344404 &  27.547581 &  12.570376 &   5.134855 &   2.751391 &   2.037042 &   1.272782 &  1.216546 &   1.302487 \\\\\n",
            "Apriori MR &   969.568024 &  286.202729 &  101.994837 &  35.582046 &  21.252565 &  13.453004 &  11.393425 &  10.721066 &  10.475100 &  9.902270 &  10.021605 \\\\\n",
            "SON HM     &  1097.482405 &  344.297078 &  135.184267 &  47.452804 &  20.639722 &  11.166369 &   7.783163 &   5.835834 &   5.315095 &  4.742669 &   4.629177 \\\\\n",
            "\\bottomrule\n",
            "\\end{tabular}\n",
            "\n",
            "\\begin{tabular}{lrrrrrrrrrrr}\n",
            "\\toprule\n",
            "{} &  0.0005 &  0.0006 &  0.0007 &  0.0008 &  0.0009 &  0.0010 &  0.0012 &  0.0014 &  0.0016 &  0.0018 &  0.0020 \\\\\n",
            "\\midrule\n",
            "\\# Singletons &      89 &      48 &      28 &      15 &      10 &       6 &       4 &       3 &       1 &       1 &       1 \\\\\n",
            "\\# Doubletons &       1 &       1 &       0 &       0 &       0 &       0 &       0 &       0 &       0 &       0 &       0 \\\\\n",
            "\\# Triplets   &       0 &       0 &       0 &       0 &       0 &       0 &       0 &       0 &       0 &       0 &       0 \\\\\n",
            "\\bottomrule\n",
            "\\end{tabular}\n",
            "\n"
          ]
        }
      ]
    }
  ],
  "metadata": {
    "colab": {
      "collapsed_sections": [
        "lGRAllgArUcg",
        "arabic-forwarding",
        "B2wchK4S6FSd",
        "I7dZSxBd1hWQ",
        "0KsAA5w_21g1",
        "z3NcLCryldUa"
      ],
      "name": "Copy of Copy of Copy of imdb_market_basket_analysis.ipynb",
      "provenance": []
    },
    "kernelspec": {
      "display_name": "Python 3",
      "language": "python",
      "name": "python3"
    },
    "language_info": {
      "codemirror_mode": {
        "name": "ipython",
        "version": 3
      },
      "file_extension": ".py",
      "mimetype": "text/x-python",
      "name": "python",
      "nbconvert_exporter": "python",
      "pygments_lexer": "ipython3",
      "version": "3.8.5"
    }
  },
  "nbformat": 4,
  "nbformat_minor": 5
}