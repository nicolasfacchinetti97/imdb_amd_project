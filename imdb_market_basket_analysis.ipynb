{
  "nbformat": 4,
  "nbformat_minor": 5,
  "metadata": {
    "colab": {
      "name": "imdb_market_basket_analysis.ipynb",
      "provenance": []
    },
    "kernelspec": {
      "display_name": "Python 3",
      "language": "python",
      "name": "python3"
    },
    "language_info": {
      "codemirror_mode": {
        "name": "ipython",
        "version": 3
      },
      "file_extension": ".py",
      "mimetype": "text/x-python",
      "name": "python",
      "nbconvert_exporter": "python",
      "pygments_lexer": "ipython3",
      "version": "3.8.5"
    }
  },
  "cells": [
    {
      "cell_type": "markdown",
      "metadata": {
        "id": "protecting-prague"
      },
      "source": [
        "# Project 2: Market-basket analysis - IMDB dataset"
      ],
      "id": "protecting-prague"
    },
    {
      "cell_type": "markdown",
      "metadata": {
        "id": "tough-romance"
      },
      "source": [
        "Project for the course of Algorithms for Massive Dataset <br> Nicolas Facchinetti 961648 <br> Antonio Belotti 960822"
      ],
      "id": "tough-romance"
    },
    {
      "cell_type": "markdown",
      "metadata": {
        "id": "lGRAllgArUcg"
      },
      "source": [
        "# Set up the Spark enviorment"
      ],
      "id": "lGRAllgArUcg"
    },
    {
      "cell_type": "markdown",
      "metadata": {
        "id": "G1-A43y-raCw"
      },
      "source": [
        "We start by dowloading and installing all the needed tool to deal with Spark. In particular we are interested in obtainig a Java enviorment since Spark in written in Scala and so it need a JVM to run. Then we can download Apache Spark 3.1.2 with Hadoop 3.2 by the Apache CDN and uncompress it. Finally we can get and install PySpark, an interface for Apache Spark in Python"
      ],
      "id": "G1-A43y-raCw"
    },
    {
      "cell_type": "code",
      "metadata": {
        "id": "ylCDuP_tsDRB",
        "colab": {
          "base_uri": "https://localhost:8080/"
        },
        "outputId": "0db31700-6b89-4ab9-9ab7-f1e87516eb29"
      },
      "source": [
        "!apt-get install openjdk-8-jdk-headless -qq > /dev/null\n",
        "!wget https://dlcdn.apache.org/spark/spark-3.1.2/spark-3.1.2-bin-hadoop3.2.tgz\n",
        "!tar xf spark-3.1.2-bin-hadoop3.2.tgz\n",
        "!pip install -q findspark"
      ],
      "id": "ylCDuP_tsDRB",
      "execution_count": 1,
      "outputs": [
        {
          "output_type": "stream",
          "name": "stdout",
          "text": [
            "--2021-09-02 12:42:42--  https://dlcdn.apache.org/spark/spark-3.1.2/spark-3.1.2-bin-hadoop3.2.tgz\n",
            "Resolving dlcdn.apache.org (dlcdn.apache.org)... 151.101.2.132, 2a04:4e42::644\n",
            "Connecting to dlcdn.apache.org (dlcdn.apache.org)|151.101.2.132|:443... connected.\n",
            "HTTP request sent, awaiting response... 200 OK\n",
            "Length: 228834641 (218M) [application/x-gzip]\n",
            "Saving to: ‘spark-3.1.2-bin-hadoop3.2.tgz’\n",
            "\n",
            "spark-3.1.2-bin-had 100%[===================>] 218.23M   163MB/s    in 1.3s    \n",
            "\n",
            "2021-09-02 12:42:44 (163 MB/s) - ‘spark-3.1.2-bin-hadoop3.2.tgz’ saved [228834641/228834641]\n",
            "\n"
          ]
        }
      ]
    },
    {
      "cell_type": "markdown",
      "metadata": {
        "id": "3amH6p0nwb7I"
      },
      "source": [
        "The next step is to correctly set the path in our remote enviorment to use the obtained tools."
      ],
      "id": "3amH6p0nwb7I"
    },
    {
      "cell_type": "code",
      "metadata": {
        "id": "EXdPB9pQvM6Y"
      },
      "source": [
        "import os\n",
        "os.environ[\"JAVA_HOME\"] = \"/usr/lib/jvm/java-8-openjdk-amd64\"\n",
        "os.environ[\"SPARK_HOME\"] = \"/content/spark-3.1.2-bin-hadoop3.2\""
      ],
      "id": "EXdPB9pQvM6Y",
      "execution_count": 2,
      "outputs": []
    },
    {
      "cell_type": "markdown",
      "metadata": {
        "id": "IMGP-hYawvcv"
      },
      "source": [
        "Finally we can import PySpark in the project"
      ],
      "id": "IMGP-hYawvcv"
    },
    {
      "cell_type": "code",
      "metadata": {
        "id": "2Imf5XE-w84G"
      },
      "source": [
        "import findspark\n",
        "findspark.init(\"spark-3.1.2-bin-hadoop3.2\")# SPARK_HOME\n",
        "from pyspark.sql import SparkSession\n",
        "spark = SparkSession.builder.master(\"local[*]\").getOrCreate()"
      ],
      "id": "2Imf5XE-w84G",
      "execution_count": 3,
      "outputs": []
    },
    {
      "cell_type": "markdown",
      "metadata": {
        "id": "arabic-forwarding"
      },
      "source": [
        "# Download the dataset from Kaggle"
      ],
      "id": "arabic-forwarding"
    },
    {
      "cell_type": "markdown",
      "metadata": {
        "id": "cardiac-significance"
      },
      "source": [
        "First install the Python module of Kaggle to download the dataset from its datacenter"
      ],
      "id": "cardiac-significance"
    },
    {
      "cell_type": "code",
      "metadata": {
        "colab": {
          "base_uri": "https://localhost:8080/"
        },
        "id": "third-confidence",
        "outputId": "fe55b3e4-78eb-41b5-a487-4664e0816309"
      },
      "source": [
        "!pip install kaggle"
      ],
      "id": "third-confidence",
      "execution_count": 4,
      "outputs": [
        {
          "output_type": "stream",
          "name": "stdout",
          "text": [
            "Requirement already satisfied: kaggle in /usr/local/lib/python3.7/dist-packages (1.5.12)\n",
            "Requirement already satisfied: requests in /usr/local/lib/python3.7/dist-packages (from kaggle) (2.23.0)\n",
            "Requirement already satisfied: certifi in /usr/local/lib/python3.7/dist-packages (from kaggle) (2021.5.30)\n",
            "Requirement already satisfied: python-slugify in /usr/local/lib/python3.7/dist-packages (from kaggle) (5.0.2)\n",
            "Requirement already satisfied: urllib3 in /usr/local/lib/python3.7/dist-packages (from kaggle) (1.24.3)\n",
            "Requirement already satisfied: six>=1.10 in /usr/local/lib/python3.7/dist-packages (from kaggle) (1.15.0)\n",
            "Requirement already satisfied: tqdm in /usr/local/lib/python3.7/dist-packages (from kaggle) (4.62.0)\n",
            "Requirement already satisfied: python-dateutil in /usr/local/lib/python3.7/dist-packages (from kaggle) (2.8.2)\n",
            "Requirement already satisfied: text-unidecode>=1.3 in /usr/local/lib/python3.7/dist-packages (from python-slugify->kaggle) (1.3)\n",
            "Requirement already satisfied: idna<3,>=2.5 in /usr/local/lib/python3.7/dist-packages (from requests->kaggle) (2.10)\n",
            "Requirement already satisfied: chardet<4,>=3.0.2 in /usr/local/lib/python3.7/dist-packages (from requests->kaggle) (3.0.4)\n"
          ]
        }
      ]
    },
    {
      "cell_type": "markdown",
      "metadata": {
        "id": "attractive-recall"
      },
      "source": [
        "Then load kaggle.json, a file containing your API credentials to be able to use the services offered by Kaggle"
      ],
      "id": "attractive-recall"
    },
    {
      "cell_type": "code",
      "metadata": {
        "colab": {
          "resources": {
            "http://localhost:8080/nbextensions/google.colab/files.js": {
              "data": "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",
              "ok": true,
              "headers": [
                [
                  "content-type",
                  "application/javascript"
                ]
              ],
              "status": 200,
              "status_text": ""
            }
          },
          "base_uri": "https://localhost:8080/",
          "height": 73
        },
        "id": "narrow-future",
        "outputId": "d946275f-96bc-4d76-c120-5fbc853f0ab7"
      },
      "source": [
        "from google.colab import files\n",
        "\n",
        "uploaded = files.upload()\n",
        "  \n",
        "# Move kaggle.json into the folder where the API expects to find it.\n",
        "!mkdir -p ~/.kaggle/ && mv kaggle.json ~/.kaggle/ && chmod 600 ~/.kaggle/kaggle.json"
      ],
      "id": "narrow-future",
      "execution_count": 5,
      "outputs": [
        {
          "output_type": "display_data",
          "data": {
            "text/html": [
              "\n",
              "     <input type=\"file\" id=\"files-5c1b2ab5-8e3b-4e78-91b3-8b5acdf52480\" name=\"files[]\" multiple disabled\n",
              "        style=\"border:none\" />\n",
              "     <output id=\"result-5c1b2ab5-8e3b-4e78-91b3-8b5acdf52480\">\n",
              "      Upload widget is only available when the cell has been executed in the\n",
              "      current browser session. Please rerun this cell to enable.\n",
              "      </output>\n",
              "      <script src=\"/nbextensions/google.colab/files.js\"></script> "
            ],
            "text/plain": [
              "<IPython.core.display.HTML object>"
            ]
          },
          "metadata": {}
        },
        {
          "output_type": "stream",
          "name": "stdout",
          "text": [
            "Saving kaggle.json to kaggle.json\n"
          ]
        }
      ]
    },
    {
      "cell_type": "markdown",
      "metadata": {
        "id": "entitled-stanley"
      },
      "source": [
        "Now we can download the dataset"
      ],
      "id": "entitled-stanley"
    },
    {
      "cell_type": "code",
      "metadata": {
        "colab": {
          "base_uri": "https://localhost:8080/"
        },
        "id": "built-indianapolis",
        "outputId": "9a0118df-f363-48cc-c9b0-02eded5102c3"
      },
      "source": [
        "!kaggle datasets download 'ashirwadsangwan/imdb-dataset'"
      ],
      "id": "built-indianapolis",
      "execution_count": 6,
      "outputs": [
        {
          "output_type": "stream",
          "name": "stdout",
          "text": [
            "Downloading imdb-dataset.zip to /content\n",
            " 99% 1.43G/1.44G [00:09<00:00, 168MB/s]\n",
            "100% 1.44G/1.44G [00:09<00:00, 169MB/s]\n"
          ]
        }
      ]
    },
    {
      "cell_type": "markdown",
      "metadata": {
        "id": "naked-dinner"
      },
      "source": [
        "We now must unzip the compressed archive to use it. Once done we can also remove it."
      ],
      "id": "naked-dinner"
    },
    {
      "cell_type": "code",
      "metadata": {
        "colab": {
          "base_uri": "https://localhost:8080/"
        },
        "id": "every-homework",
        "outputId": "92ed6984-1fac-4b49-a928-e55430bb1311"
      },
      "source": [
        "!unzip imdb-dataset.zip && rm imdb-dataset.zip"
      ],
      "id": "every-homework",
      "execution_count": 7,
      "outputs": [
        {
          "output_type": "stream",
          "name": "stdout",
          "text": [
            "Archive:  imdb-dataset.zip\n",
            "  inflating: name.basics.tsv.gz      \n",
            "  inflating: name.basics.tsv/name.basics.tsv  \n",
            "  inflating: title.akas.tsv.gz       \n",
            "  inflating: title.akas.tsv/title.akas.tsv  \n",
            "  inflating: title.basics.tsv.gz     \n",
            "  inflating: title.basics.tsv/title.basics.tsv  \n",
            "  inflating: title.principals.tsv.gz  \n",
            "  inflating: title.principals.tsv/title.principals.tsv  \n",
            "  inflating: title.ratings.tsv.gz    \n",
            "  inflating: title.ratings.tsv/title.ratings.tsv  \n"
          ]
        }
      ]
    },
    {
      "cell_type": "markdown",
      "metadata": {
        "id": "B2wchK4S6FSd"
      },
      "source": [
        "# Preapare the data for Spark"
      ],
      "id": "B2wchK4S6FSd"
    },
    {
      "cell_type": "markdown",
      "metadata": {
        "id": "vkCLCyVf6P81"
      },
      "source": [
        "We can directly load the downloaded and extracted .tsv file in a Spark DataFrame by using the command read.csv(). We directly pass to the method the columns in which we are interested."
      ],
      "id": "vkCLCyVf6P81"
    },
    {
      "cell_type": "code",
      "metadata": {
        "id": "o9yN4DYO5rA9",
        "colab": {
          "base_uri": "https://localhost:8080/"
        },
        "outputId": "a8d1df59-fb8d-483e-a951-26f3a3347176"
      },
      "source": [
        "df_principals = spark.read.csv(\"/content/title.principals.tsv/title.principals.tsv\", sep=r'\\t', header=True).select('tconst','nconst','category')"
      ],
      "id": "o9yN4DYO5rA9",
      "execution_count": 8,
      "outputs": [
        {
          "output_type": "stream",
          "name": "stdout",
          "text": [
            "+---------+---------+---------------+\n",
            "|   tconst|   nconst|       category|\n",
            "+---------+---------+---------------+\n",
            "|tt0000001|nm1588970|           self|\n",
            "|tt0000001|nm0005690|       director|\n",
            "|tt0000001|nm0374658|cinematographer|\n",
            "|tt0000002|nm0721526|       director|\n",
            "|tt0000002|nm1335271|       composer|\n",
            "|tt0000003|nm0721526|       director|\n",
            "|tt0000003|nm5442194|       producer|\n",
            "|tt0000003|nm1335271|       composer|\n",
            "|tt0000003|nm5442200|         editor|\n",
            "|tt0000004|nm0721526|       director|\n",
            "+---------+---------+---------------+\n",
            "only showing top 10 rows\n",
            "\n"
          ]
        }
      ]
    },
    {
      "cell_type": "code",
      "metadata": {
        "id": "TFS4-BghiEt0"
      },
      "source": [
        "df_principals.show(10)"
      ],
      "id": "TFS4-BghiEt0",
      "execution_count": null,
      "outputs": []
    },
    {
      "cell_type": "code",
      "metadata": {
        "id": "biVqVaIO6rm1"
      },
      "source": [
        "df_basics = spark.read.csv(\"/content/title.basics.tsv/title.basics.tsv\", sep=r'\\t', header=True).select('tconst','titleType')"
      ],
      "id": "biVqVaIO6rm1",
      "execution_count": 9,
      "outputs": []
    },
    {
      "cell_type": "code",
      "metadata": {
        "id": "tVXn5-qxiGjL"
      },
      "source": [
        "df_basics.show(10)"
      ],
      "id": "tVXn5-qxiGjL",
      "execution_count": null,
      "outputs": []
    },
    {
      "cell_type": "markdown",
      "metadata": {
        "id": "jYEMZq6g8V8r"
      },
      "source": [
        "By inspecting the content of the column 'category' of df_principlas we can see that there are many jobs other than actors and actress (which are the two we are interested in)"
      ],
      "id": "jYEMZq6g8V8r"
    },
    {
      "cell_type": "code",
      "metadata": {
        "id": "_ANddVhG7dOM",
        "colab": {
          "base_uri": "https://localhost:8080/"
        },
        "outputId": "b75f3a18-8e53-4156-b5ea-302e5fe17dce"
      },
      "source": [
        "df_principals.select(\"category\").distinct().show()"
      ],
      "id": "_ANddVhG7dOM",
      "execution_count": null,
      "outputs": [
        {
          "output_type": "stream",
          "name": "stdout",
          "text": [
            "+-------------------+\n",
            "|           category|\n",
            "+-------------------+\n",
            "|            actress|\n",
            "|           producer|\n",
            "|             writer|\n",
            "|           composer|\n",
            "|           director|\n",
            "|               self|\n",
            "|              actor|\n",
            "|             editor|\n",
            "|    cinematographer|\n",
            "|      archive_sound|\n",
            "|production_designer|\n",
            "|    archive_footage|\n",
            "+-------------------+\n",
            "\n"
          ]
        }
      ]
    },
    {
      "cell_type": "markdown",
      "metadata": {
        "id": "chgrEDU181jc"
      },
      "source": [
        "Similarly we can do the same thing with df_basics and the column 'titleType' to see how many categories a title can have."
      ],
      "id": "chgrEDU181jc"
    },
    {
      "cell_type": "code",
      "metadata": {
        "id": "H0k9A__I8uop",
        "colab": {
          "base_uri": "https://localhost:8080/"
        },
        "outputId": "10431d37-c57b-4cc0-ae2e-8b353afe51ee"
      },
      "source": [
        "df_basics.select(\"titleType\").distinct().show()"
      ],
      "id": "H0k9A__I8uop",
      "execution_count": null,
      "outputs": [
        {
          "output_type": "stream",
          "name": "stdout",
          "text": [
            "+------------+\n",
            "|   titleType|\n",
            "+------------+\n",
            "|    tvSeries|\n",
            "|tvMiniSeries|\n",
            "|     tvMovie|\n",
            "|   tvEpisode|\n",
            "|       movie|\n",
            "|   tvSpecial|\n",
            "|       video|\n",
            "|   videoGame|\n",
            "|     tvShort|\n",
            "|       short|\n",
            "+------------+\n",
            "\n"
          ]
        }
      ]
    },
    {
      "cell_type": "markdown",
      "metadata": {
        "id": "WRGTAAFK7QJ0"
      },
      "source": [
        "Once the data is loaded in a Spark DataFrame we can use the PySpark SQL module for processing the data. We start by exctracting only actors and actress from df_principals"
      ],
      "id": "WRGTAAFK7QJ0"
    },
    {
      "cell_type": "code",
      "metadata": {
        "id": "0wrOWYKr8UC3",
        "colab": {
          "base_uri": "https://localhost:8080/"
        },
        "outputId": "6eb8adb5-1638-4022-a66b-0e7e1d093bb1"
      },
      "source": [
        "pre = df_principals.count()\n",
        "df_principals.createOrReplaceTempView(\"PRINCIPALS\") # create a temporary table on DataFrame\n",
        "df_principals = spark.sql(\"SELECT * from PRINCIPALS WHERE category ='actor' OR category='actress'\")\n",
        "print(\"We reduced the number of row from {} to {}\".format(pre, df_principals.count()))"
      ],
      "id": "0wrOWYKr8UC3",
      "execution_count": 10,
      "outputs": [
        {
          "output_type": "stream",
          "name": "stdout",
          "text": [
            "We reduced the number of row from 36468817 to 14818798\n"
          ]
        }
      ]
    },
    {
      "cell_type": "markdown",
      "metadata": {
        "id": "QFE8PdWZ9UAa"
      },
      "source": [
        " And then we do the same thing with movies in df_basics"
      ],
      "id": "QFE8PdWZ9UAa"
    },
    {
      "cell_type": "code",
      "metadata": {
        "id": "_7idYi-s9ZlZ",
        "colab": {
          "base_uri": "https://localhost:8080/"
        },
        "outputId": "6e59d6e2-da52-44b3-ff42-f9ff140a8059"
      },
      "source": [
        "pre = df_basics.count()\n",
        "df_basics.createOrReplaceTempView(\"BASICS\") # create a temporary table on DataFrame\n",
        "df_basics = spark.sql(\"SELECT * from BASICS WHERE titleType ='movie'\")\n",
        "print(\"We reduced the number of row from {} to {}\".format(pre, df_basics.count()))"
      ],
      "id": "_7idYi-s9ZlZ",
      "execution_count": 11,
      "outputs": [
        {
          "output_type": "stream",
          "name": "stdout",
          "text": [
            "We reduced the number of row from 6321302 to 536034\n"
          ]
        }
      ]
    },
    {
      "cell_type": "markdown",
      "metadata": {
        "id": "AhZYta_8TBU1"
      },
      "source": [
        "We can now see that we have two DataFrame, one containing only the movies and the other only the people which play as actor/actress in a title. To do the desired maket-basket analysis we have to pivot our tconst as rows, so each row stands for one titleId, and then including a list of nconst identifiers of the actors that played in it."
      ],
      "id": "AhZYta_8TBU1"
    },
    {
      "cell_type": "code",
      "metadata": {
        "colab": {
          "base_uri": "https://localhost:8080/"
        },
        "id": "Gg5cCJD1Swlg",
        "outputId": "5aca963f-2234-4439-b2b3-bae8fb46e879"
      },
      "source": [
        "df_basics.show(10)"
      ],
      "id": "Gg5cCJD1Swlg",
      "execution_count": null,
      "outputs": [
        {
          "output_type": "stream",
          "name": "stdout",
          "text": [
            "+---------+---------+\n",
            "|   tconst|titleType|\n",
            "+---------+---------+\n",
            "|tt0000009|    movie|\n",
            "|tt0000147|    movie|\n",
            "|tt0000335|    movie|\n",
            "|tt0000502|    movie|\n",
            "|tt0000574|    movie|\n",
            "|tt0000615|    movie|\n",
            "|tt0000630|    movie|\n",
            "|tt0000675|    movie|\n",
            "|tt0000676|    movie|\n",
            "|tt0000679|    movie|\n",
            "+---------+---------+\n",
            "only showing top 10 rows\n",
            "\n"
          ]
        }
      ]
    },
    {
      "cell_type": "code",
      "metadata": {
        "colab": {
          "base_uri": "https://localhost:8080/"
        },
        "id": "7BnEuTc0S9Xm",
        "outputId": "46d8d143-b29c-446c-e3f3-8c403ec6671d"
      },
      "source": [
        "df_principals.show(10)"
      ],
      "id": "7BnEuTc0S9Xm",
      "execution_count": null,
      "outputs": [
        {
          "output_type": "stream",
          "name": "stdout",
          "text": [
            "+---------+---------+--------+\n",
            "|   tconst|   nconst|category|\n",
            "+---------+---------+--------+\n",
            "|tt0000005|nm0443482|   actor|\n",
            "|tt0000005|nm0653042|   actor|\n",
            "|tt0000007|nm0179163|   actor|\n",
            "|tt0000007|nm0183947|   actor|\n",
            "|tt0000008|nm0653028|   actor|\n",
            "|tt0000009|nm0063086| actress|\n",
            "|tt0000009|nm0183823|   actor|\n",
            "|tt0000009|nm1309758|   actor|\n",
            "|tt0000011|nm3692297|   actor|\n",
            "|tt0000014|nm0166380|   actor|\n",
            "+---------+---------+--------+\n",
            "only showing top 10 rows\n",
            "\n"
          ]
        }
      ]
    },
    {
      "cell_type": "markdown",
      "metadata": {
        "id": "QuwFSQN1VyCV"
      },
      "source": [
        "So we start by joining the two dataframe to extract from df_principals only the records with tconst related to a movie. We can also discard the category column since is no longer usefull."
      ],
      "id": "QuwFSQN1VyCV"
    },
    {
      "cell_type": "code",
      "metadata": {
        "id": "81uUuBOVVj3a"
      },
      "source": [
        "basket_data = df_principals.join(df_basics, \"tconst\").select(df_principals.tconst, df_principals.nconst).sort(\"tconst\")"
      ],
      "id": "81uUuBOVVj3a",
      "execution_count": 12,
      "outputs": []
    },
    {
      "cell_type": "code",
      "metadata": {
        "colab": {
          "base_uri": "https://localhost:8080/"
        },
        "id": "iX0u3lbuXzR-",
        "outputId": "aed450e7-03cb-48b5-94be-5c4fc3ba2670"
      },
      "source": [
        "basket_data.show(10)"
      ],
      "id": "iX0u3lbuXzR-",
      "execution_count": null,
      "outputs": [
        {
          "output_type": "stream",
          "name": "stdout",
          "text": [
            "+---------+---------+\n",
            "|   tconst|   nconst|\n",
            "+---------+---------+\n",
            "|tt0000009|nm0183823|\n",
            "|tt0000009|nm1309758|\n",
            "|tt0000009|nm0063086|\n",
            "|tt0000335|nm0675239|\n",
            "|tt0000335|nm1010955|\n",
            "|tt0000335|nm0675260|\n",
            "|tt0000335|nm1012612|\n",
            "|tt0000335|nm1012621|\n",
            "|tt0000335|nm1011210|\n",
            "|tt0000502|nm0215752|\n",
            "+---------+---------+\n",
            "only showing top 10 rows\n",
            "\n"
          ]
        }
      ]
    },
    {
      "cell_type": "markdown",
      "metadata": {
        "id": "xHywTOMEZbgu"
      },
      "source": [
        "Then we can remove hypothetical duplicated row and then aggregate the data using tconst identifier."
      ],
      "id": "xHywTOMEZbgu"
    },
    {
      "cell_type": "code",
      "metadata": {
        "id": "IYN6WQg5Vj4x"
      },
      "source": [
        "from pyspark.sql import functions as F\n",
        "basket_data = basket_data.dropDuplicates()\n",
        "basket_data = basket_data.groupBy(\"tconst\").agg(F.collect_list(\"nconst\").alias(\"nconsts\")).sort('tconst')"
      ],
      "id": "IYN6WQg5Vj4x",
      "execution_count": 13,
      "outputs": []
    },
    {
      "cell_type": "code",
      "metadata": {
        "colab": {
          "base_uri": "https://localhost:8080/"
        },
        "id": "IZzSHEsFaa0G",
        "outputId": "1e70ea87-5bf2-41b7-90cc-3100eb88aab5"
      },
      "source": [
        "print(\"There are {} titleId buckets\".format(basket_data.count()))\n",
        "basket_data.show(10, False)"
      ],
      "id": "IZzSHEsFaa0G",
      "execution_count": null,
      "outputs": [
        {
          "output_type": "stream",
          "name": "stdout",
          "text": [
            "There are 393656 titleId buckets\n",
            "+---------+------------------------------------------------------------------+\n",
            "|tconst   |nconsts                                                           |\n",
            "+---------+------------------------------------------------------------------+\n",
            "|tt0000009|[nm0063086, nm0183823, nm1309758]                                 |\n",
            "|tt0000335|[nm1010955, nm1012612, nm1011210, nm1012621, nm0675239, nm0675260]|\n",
            "|tt0000502|[nm0215752, nm0252720]                                            |\n",
            "|tt0000574|[nm0846887, nm0846894, nm3002376, nm0170118]                      |\n",
            "|tt0000615|[nm3071427, nm0581353, nm0888988, nm0240418, nm0346387, nm0218953]|\n",
            "|tt0000630|[nm0624446]                                                       |\n",
            "|tt0000676|[nm0097421, nm0140054]                                            |\n",
            "|tt0000679|[nm0000875, nm0122665, nm0933446, nm2924919]                      |\n",
            "|tt0000793|[nm0691995]                                                       |\n",
            "|tt0000862|[nm5289318, nm5289829, nm0264569, nm0386036, nm0511080, nm5188470]|\n",
            "+---------+------------------------------------------------------------------+\n",
            "only showing top 10 rows\n",
            "\n"
          ]
        }
      ]
    },
    {
      "cell_type": "markdown",
      "metadata": {
        "id": "JOFUnUEZclPs"
      },
      "source": [
        "As we can see above we now have the data in the correct format to do our analysis: in each row we have the identifier of a movie and in the second column the list of the idenfiers of the actors that played in it.\n",
        "Since we done all the needed pre-processing computation on the data we can transform our DataFrame in a RDD to apply map-reduce functions."
      ],
      "id": "JOFUnUEZclPs"
    },
    {
      "cell_type": "code",
      "metadata": {
        "id": "zn4-33kQieP0",
        "colab": {
          "base_uri": "https://localhost:8080/"
        },
        "outputId": "e688051d-d061-4f83-ed35-3f072899e22b"
      },
      "source": [
        "data = basket_data.rdd\n",
        "data.take(5)"
      ],
      "id": "zn4-33kQieP0",
      "execution_count": 37,
      "outputs": [
        {
          "output_type": "execute_result",
          "data": {
            "text/plain": [
              "[Row(tconst='tt0000009', nconsts=['nm0063086', 'nm0183823', 'nm1309758']),\n",
              " Row(tconst='tt0000335', nconsts=['nm1010955', 'nm1012612', 'nm1011210', 'nm1012621', 'nm0675239', 'nm0675260']),\n",
              " Row(tconst='tt0000502', nconsts=['nm0215752', 'nm0252720']),\n",
              " Row(tconst='tt0000574', nconsts=['nm0846887', 'nm0846894', 'nm3002376', 'nm0170118']),\n",
              " Row(tconst='tt0000615', nconsts=['nm3071427', 'nm0581353', 'nm0888988', 'nm0240418', 'nm0346387', 'nm0218953'])]"
            ]
          },
          "metadata": {},
          "execution_count": 37
        }
      ]
    },
    {
      "cell_type": "markdown",
      "metadata": {
        "id": "4PXtfoBH41dy"
      },
      "source": [
        "Serialize to file the RDD and download to skip the processing all the time.\n",
        "\n"
      ],
      "id": "4PXtfoBH41dy"
    },
    {
      "cell_type": "code",
      "metadata": {
        "id": "poNWxUnLm92f"
      },
      "source": [
        "basket_data.write.format('json').save(\"data.json\")"
      ],
      "id": "poNWxUnLm92f",
      "execution_count": 45,
      "outputs": []
    },
    {
      "cell_type": "code",
      "metadata": {
        "id": "Q3icSYmk6xhn"
      },
      "source": [
        "data.coalesce(1).saveAsTextFile(\"myrdd\")"
      ],
      "id": "Q3icSYmk6xhn",
      "execution_count": 15,
      "outputs": []
    },
    {
      "cell_type": "markdown",
      "metadata": {
        "id": "I7dZSxBd1hWQ"
      },
      "source": [
        "# APRIORI MAP-REDUCE"
      ],
      "id": "I7dZSxBd1hWQ"
    },
    {
      "cell_type": "code",
      "metadata": {
        "id": "stADeaUjnbVT"
      },
      "source": [
        "data = spark.read.format(\"json\").option(\"header\", \"true\").load(\"data.json\").sort(\"tconst\")"
      ],
      "id": "stADeaUjnbVT",
      "execution_count": 51,
      "outputs": []
    },
    {
      "cell_type": "code",
      "metadata": {
        "id": "6uzteeM5n2iL",
        "outputId": "b62acf36-5487-4f81-964f-e390a907993f",
        "colab": {
          "base_uri": "https://localhost:8080/"
        }
      },
      "source": [
        "data.show(5, False)"
      ],
      "id": "6uzteeM5n2iL",
      "execution_count": 52,
      "outputs": [
        {
          "output_type": "stream",
          "name": "stdout",
          "text": [
            "+------------------------------------------------------------------+---------+\n",
            "|nconsts                                                           |tconst   |\n",
            "+------------------------------------------------------------------+---------+\n",
            "|[nm0063086, nm0183823, nm1309758]                                 |tt0000009|\n",
            "|[nm1010955, nm1012612, nm1011210, nm1012621, nm0675239, nm0675260]|tt0000335|\n",
            "|[nm0215752, nm0252720]                                            |tt0000502|\n",
            "|[nm0846887, nm0846894, nm3002376, nm0170118]                      |tt0000574|\n",
            "|[nm3071427, nm0581353, nm0888988, nm0240418, nm0346387, nm0218953]|tt0000615|\n",
            "+------------------------------------------------------------------+---------+\n",
            "only showing top 5 rows\n",
            "\n"
          ]
        }
      ]
    },
    {
      "cell_type": "code",
      "metadata": {
        "id": "2TSj7ys13yk1",
        "colab": {
          "base_uri": "https://localhost:8080/"
        },
        "outputId": "fce7ad48-8a15-4340-c0f1-d0fbc0eefba8"
      },
      "source": [
        "data = spark.read.csv(\"data\")\n",
        "data.show(5, False)"
      ],
      "id": "2TSj7ys13yk1",
      "execution_count": 44,
      "outputs": [
        {
          "output_type": "stream",
          "name": "stdout",
          "text": [
            "+----------------------+---------------------+--------------+--------------+\n",
            "|_c0                   |_c1                  |_c2           |_c3           |\n",
            "+----------------------+---------------------+--------------+--------------+\n",
            "|Row(tconst='tt0000009'| nconsts=['nm0063086'| 'nm0183823'  | 'nm1309758'])|\n",
            "|Row(tconst='tt0000335'| nconsts=['nm1010955'| 'nm1012612'  | 'nm1011210'  |\n",
            "|Row(tconst='tt0000502'| nconsts=['nm0215752'| 'nm0252720'])|null          |\n",
            "|Row(tconst='tt0000574'| nconsts=['nm0846887'| 'nm0846894'  | 'nm3002376'  |\n",
            "|Row(tconst='tt0000615'| nconsts=['nm3071427'| 'nm0581353'  | 'nm0888988'  |\n",
            "+----------------------+---------------------+--------------+--------------+\n",
            "only showing top 5 rows\n",
            "\n"
          ]
        }
      ]
    },
    {
      "cell_type": "markdown",
      "metadata": {
        "id": "oJZitqn3Ei6F"
      },
      "source": [
        "Accediamo al campo 1 sicchè 0 è il bucket, flat perché cosi unisce tutte le row in una"
      ],
      "id": "oJZitqn3Ei6F"
    },
    {
      "cell_type": "code",
      "metadata": {
        "id": "4mnuJQJyDP81",
        "colab": {
          "base_uri": "https://localhost:8080/"
        },
        "outputId": "841c0efc-bf62-49e3-eed9-1887945a6393"
      },
      "source": [
        "data.flatMap(lambda row: row[1]).take(10)"
      ],
      "id": "4mnuJQJyDP81",
      "execution_count": 32,
      "outputs": [
        {
          "output_type": "execute_result",
          "data": {
            "text/plain": [
              "['o', 'o', 'o', 'o', 'o', 'o', 'o', 'o', 'o', 'o']"
            ]
          },
          "metadata": {},
          "execution_count": 32
        }
      ]
    },
    {
      "cell_type": "markdown",
      "metadata": {
        "id": "2vfem5sDEo9r"
      },
      "source": [
        "Mappiamo ogni record di autore trovato in se stesso e 1"
      ],
      "id": "2vfem5sDEo9r"
    },
    {
      "cell_type": "code",
      "metadata": {
        "id": "1PgqCjGtEoVn",
        "colab": {
          "base_uri": "https://localhost:8080/"
        },
        "outputId": "b56c660c-59eb-4b2d-ff77-9fbba727d057"
      },
      "source": [
        "data.flatMap(lambda row: (row[1]))\n",
        "  .map(lambda elem: (elem,1)).take(10)"
      ],
      "id": "1PgqCjGtEoVn",
      "execution_count": null,
      "outputs": [
        {
          "output_type": "execute_result",
          "data": {
            "text/plain": [
              "[('nm0063086', 1),\n",
              " ('nm0183823', 1),\n",
              " ('nm1309758', 1),\n",
              " ('nm1010955', 1),\n",
              " ('nm1012612', 1),\n",
              " ('nm1011210', 1),\n",
              " ('nm1012621', 1),\n",
              " ('nm0675239', 1),\n",
              " ('nm0675260', 1),\n",
              " ('nm0215752', 1)]"
            ]
          },
          "metadata": {},
          "execution_count": 36
        }
      ]
    },
    {
      "cell_type": "markdown",
      "metadata": {
        "id": "t07IEegHFRvJ"
      },
      "source": [
        "Aggiungiamo reduce che somma la parte dopo il contantore dell'attore"
      ],
      "id": "t07IEegHFRvJ"
    },
    {
      "cell_type": "code",
      "metadata": {
        "id": "UMu-bK-yFTcT",
        "colab": {
          "base_uri": "https://localhost:8080/"
        },
        "outputId": "6d991bd3-3c71-46fe-a209-0bda54b34ae0"
      },
      "source": [
        "data.flatMap(lambda row: (row[1])).map(lambda elem: (elem,1)).reduceByKey(lambda a,b: a+b).collect()"
      ],
      "id": "UMu-bK-yFTcT",
      "execution_count": null,
      "outputs": [
        {
          "output_type": "execute_result",
          "data": {
            "text/plain": [
              "[('nm0209738', 7),\n",
              " ('nm1268667', 2),\n",
              " ('nm0664342', 11),\n",
              " ('nm0509449', 6),\n",
              " ('nm8425234', 3),\n",
              " ('nm0392015', 4),\n",
              " ('nm0894679', 4),\n",
              " ('nm1211519', 1),\n",
              " ('nm0098310', 3),\n",
              " ('nm0042422', 23),\n",
              " ('nm0148791', 1),\n",
              " ('nm0027244', 6),\n",
              " ('nm0926330', 1),\n",
              " ('nm0718835', 9),\n",
              " ('nm0143212', 2),\n",
              " ('nm0625346', 4),\n",
              " ('nm0172418', 7),\n",
              " ('nm0048408', 6),\n",
              " ('nm0544842', 1),\n",
              " ('nm0272538', 2),\n",
              " ('nm0737139', 2),\n",
              " ('nm0500347', 1),\n",
              " ('nm0051019', 3),\n",
              " ('nm0445736', 2),\n",
              " ('nm0803103', 7),\n",
              " ('nm0336572', 1),\n",
              " ('nm0883927', 1),\n",
              " ('nm0790966', 2),\n",
              " ('nm0675729', 2),\n",
              " ('nm0187847', 1),\n",
              " ('nm0422012', 2),\n",
              " ('nm0347345', 6),\n",
              " ('nm1380139', 1),\n",
              " ('nm0101182', 1),\n",
              " ('nm0607058', 7),\n",
              " ('nm0526398', 21),\n",
              " ('nm1260667', 11),\n",
              " ('nm0272889', 5),\n",
              " ('nm0280636', 1),\n",
              " ('nm0820461', 1),\n",
              " ('nm0288153', 2),\n",
              " ('nm0814028', 1),\n",
              " ('nm0342376', 1),\n",
              " ('nm0550629', 1),\n",
              " ('nm0780616', 1),\n",
              " ('nm0852748', 3),\n",
              " ('nm2557717', 1),\n",
              " ('nm0945427', 218),\n",
              " ('nm1024669', 5),\n",
              " ('nm0522431', 2),\n",
              " ('nm0594324', 16),\n",
              " ('nm0412045', 1),\n",
              " ('nm0515739', 8),\n",
              " ('nm0071031', 2),\n",
              " ('nm0911763', 1),\n",
              " ('nm0719338', 1),\n",
              " ('nm0587319', 3),\n",
              " ('nm0226507', 3),\n",
              " ('nm0763159', 2),\n",
              " ('nm0464592', 44),\n",
              " ('nm0250955', 4),\n",
              " ('nm0032243', 16),\n",
              " ('nm1216374', 1),\n",
              " ('nm0654479', 1),\n",
              " ('nm0842187', 1),\n",
              " ('nm0573751', 1),\n",
              " ('nm0058620', 13),\n",
              " ('nm0001537', 94),\n",
              " ('nm0451702', 5),\n",
              " ('nm2065118', 1),\n",
              " ('nm0634164', 4),\n",
              " ('nm0788846', 2),\n",
              " ('nm0241669', 3),\n",
              " ('nm0233210', 1),\n",
              " ('nm0791839', 2),\n",
              " ('nm0122783', 9),\n",
              " ('nm5634891', 1),\n",
              " ('nm0350998', 2),\n",
              " ('nm0905823', 1),\n",
              " ('nm0153679', 12),\n",
              " ('nm0890131', 8),\n",
              " ('nm0642180', 18),\n",
              " ('nm0370574', 18),\n",
              " ('nm0830036', 1),\n",
              " ('nm0475872', 69),\n",
              " ('nm0116953', 13),\n",
              " ('nm0432007', 102),\n",
              " ('nm0016177', 1),\n",
              " ('nm0233352', 26),\n",
              " ('nm0562492', 2),\n",
              " ('nm0297922', 16),\n",
              " ('nm0662700', 26),\n",
              " ('nm0467956', 15),\n",
              " ('nm0340574', 7),\n",
              " ('nm0504537', 5),\n",
              " ('nm0775628', 12),\n",
              " ('nm0137947', 6),\n",
              " ('nm0154996', 1),\n",
              " ('nm0538783', 9),\n",
              " ('nm0611984', 8),\n",
              " ('nm0252650', 13),\n",
              " ('nm1714664', 1),\n",
              " ('nm0264499', 8),\n",
              " ('nm0134236', 1),\n",
              " ('nm0586441', 3),\n",
              " ('nm0335179', 1),\n",
              " ('nm0234581', 18),\n",
              " ('nm0604702', 19),\n",
              " ('nm0354989', 3),\n",
              " ('nm1708651', 2),\n",
              " ('nm0515670', 1),\n",
              " ('nm2445843', 2),\n",
              " ('nm0072578', 13),\n",
              " ('nm0023569', 4),\n",
              " ('nm0503225', 1),\n",
              " ('nm0245581', 17),\n",
              " ('nm0321407', 18),\n",
              " ('nm0509550', 1),\n",
              " ('nm0897002', 2),\n",
              " ('nm0485763', 3),\n",
              " ('nm0390215', 7),\n",
              " ('nm0064865', 1),\n",
              " ('nm0778860', 2),\n",
              " ('nm0315167', 11),\n",
              " ('nm0527736', 25),\n",
              " ('nm0603672', 3),\n",
              " ('nm0768031', 47),\n",
              " ('nm0464008', 1),\n",
              " ('nm0681608', 6),\n",
              " ('nm0357867', 1),\n",
              " ('nm0046832', 3),\n",
              " ('nm0069672', 3),\n",
              " ('nm0698242', 6),\n",
              " ('nm1501443', 1),\n",
              " ('nm0739976', 2),\n",
              " ('nm0307756', 3),\n",
              " ('nm0083172', 1),\n",
              " ('nm0107746', 3),\n",
              " ('nm0033929', 6),\n",
              " ('nm0337016', 1),\n",
              " ('nm0719193', 6),\n",
              " ('nm0491096', 1),\n",
              " ('nm0741850', 1),\n",
              " ('nm6161893', 1),\n",
              " ('nm0061309', 34),\n",
              " ('nm0000015', 3),\n",
              " ('nm0456423', 20),\n",
              " ('nm0178504', 2),\n",
              " ('nm0897632', 1),\n",
              " ('nm2138777', 1),\n",
              " ('nm0548664', 22),\n",
              " ('nm0439377', 1),\n",
              " ('nm0478238', 6),\n",
              " ('nm0802296', 1),\n",
              " ('nm0274120', 11),\n",
              " ('nm0891038', 6),\n",
              " ('nm0860373', 1),\n",
              " ('nm0614130', 1),\n",
              " ('nm0264267', 7),\n",
              " ('nm0668847', 1),\n",
              " ('nm0203008', 1),\n",
              " ('nm0311409', 7),\n",
              " ('nm0058071', 1),\n",
              " ('nm0645965', 1),\n",
              " ('nm0407002', 118),\n",
              " ('nm0031484', 1),\n",
              " ('nm0528595', 27),\n",
              " ('nm0525654', 6),\n",
              " ('nm1797689', 2),\n",
              " ('nm1282788', 1),\n",
              " ('nm0466110', 2),\n",
              " ('nm0436018', 8),\n",
              " ('nm0824489', 23),\n",
              " ('nm0470567', 5),\n",
              " ('nm0081458', 1),\n",
              " ('nm0244863', 3),\n",
              " ('nm0680515', 3),\n",
              " ('nm0508157', 15),\n",
              " ('nm0448740', 2),\n",
              " ('nm0526008', 4),\n",
              " ('nm0102680', 1),\n",
              " ('nm0460575', 6),\n",
              " ('nm3254577', 1),\n",
              " ('nm0953987', 1),\n",
              " ('nm0495663', 1),\n",
              " ('nm1168856', 1),\n",
              " ('nm0116115', 1),\n",
              " ('nm0775676', 5),\n",
              " ('nm0515300', 2),\n",
              " ('nm1223588', 1),\n",
              " ('nm0516148', 3),\n",
              " ('nm0855486', 21),\n",
              " ('nm0315777', 1),\n",
              " ('nm0641302', 2),\n",
              " ('nm0599172', 1),\n",
              " ('nm0852406', 1),\n",
              " ('nm1667292', 1),\n",
              " ('nm0199239', 2),\n",
              " ('nm0079765', 1),\n",
              " ('nm0727593', 2),\n",
              " ('nm0904584', 10),\n",
              " ('nm1013183', 1),\n",
              " ('nm0082843', 1),\n",
              " ('nm0041453', 1),\n",
              " ('nm0000987', 33),\n",
              " ('nm0137524', 7),\n",
              " ('nm0691896', 1),\n",
              " ('nm0305955', 70),\n",
              " ('nm0774067', 1),\n",
              " ('nm0457601', 2),\n",
              " ('nm0291151', 1),\n",
              " ('nm0763995', 1),\n",
              " ('nm0208965', 1),\n",
              " ('nm0864713', 4),\n",
              " ('nm0060406', 12),\n",
              " ('nm1570687', 1),\n",
              " ('nm0538830', 3),\n",
              " ('nm0866087', 1),\n",
              " ('nm0738764', 1),\n",
              " ('nm0257552', 1),\n",
              " ('nm0026878', 3),\n",
              " ('nm0670367', 1),\n",
              " ('nm0053587', 8),\n",
              " ('nm0247403', 4),\n",
              " ('nm0255173', 1),\n",
              " ('nm0005234', 8),\n",
              " ('nm0707303', 29),\n",
              " ('nm1288343', 11),\n",
              " ('nm0559420', 5),\n",
              " ('nm0371304', 5),\n",
              " ('nm0005033', 88),\n",
              " ('nm0009500', 2),\n",
              " ('nm0691673', 3),\n",
              " ('nm2851844', 14),\n",
              " ('nm0147250', 1),\n",
              " ('nm0398495', 2),\n",
              " ('nm0122962', 2),\n",
              " ('nm0609675', 3),\n",
              " ('nm0468591', 1),\n",
              " ('nm0457298', 1),\n",
              " ('nm0926595', 1),\n",
              " ('nm0040296', 1),\n",
              " ('nm0798251', 1),\n",
              " ('nm0695367', 2),\n",
              " ('nm0173438', 1),\n",
              " ('nm0589900', 3),\n",
              " ('nm0420700', 16),\n",
              " ('nm0947450', 1),\n",
              " ('nm0863464', 1),\n",
              " ('nm0497097', 85),\n",
              " ('nm0311619', 2),\n",
              " ('nm0170346', 1),\n",
              " ('nm2840068', 3),\n",
              " ('nm0150121', 1),\n",
              " ('nm2662788', 3),\n",
              " ('nm0576447', 2),\n",
              " ('nm0687081', 2),\n",
              " ('nm0227968', 5),\n",
              " ('nm0210057', 5),\n",
              " ('nm0014420', 4),\n",
              " ('nm0462761', 1),\n",
              " ('nm0031070', 2),\n",
              " ('nm0581018', 3),\n",
              " ('nm0618389', 10),\n",
              " ('nm0467954', 7),\n",
              " ('nm0723276', 2),\n",
              " ('nm0166044', 4),\n",
              " ('nm3217784', 3),\n",
              " ('nm6894793', 1),\n",
              " ('nm0722984', 1),\n",
              " ('nm0037615', 25),\n",
              " ('nm0274473', 14),\n",
              " ('nm0104584', 1),\n",
              " ('nm3656420', 3),\n",
              " ('nm0273959', 4),\n",
              " ('nm0500441', 1),\n",
              " ('nm0791219', 2),\n",
              " ('nm0594257', 60),\n",
              " ('nm0314568', 18),\n",
              " ('nm1002291', 17),\n",
              " ('nm0490855', 7),\n",
              " ('nm0768124', 2),\n",
              " ('nm0163227', 9),\n",
              " ('nm0669464', 1),\n",
              " ('nm0117457', 2),\n",
              " ('nm0485878', 8),\n",
              " ('nm1817619', 12),\n",
              " ('nm0264581', 6),\n",
              " ('nm0672318', 1),\n",
              " ('nm0724365', 2),\n",
              " ('nm0231085', 9),\n",
              " ('nm0076311', 1),\n",
              " ('nm0902234', 1),\n",
              " ('nm0317753', 2),\n",
              " ('nm0944204', 1),\n",
              " ('nm0127446', 3),\n",
              " ('nm0150050', 1),\n",
              " ('nm0543006', 5),\n",
              " ('nm0089115', 1),\n",
              " ('nm0495779', 1),\n",
              " ('nm0314048', 23),\n",
              " ('nm1654533', 11),\n",
              " ('nm0888820', 1),\n",
              " ('nm0699575', 10),\n",
              " ('nm0160843', 1),\n",
              " ('nm0579523', 1),\n",
              " ('nm2216608', 1),\n",
              " ('nm0140814', 3),\n",
              " ('nm2532956', 2),\n",
              " ('nm8815860', 1),\n",
              " ('nm0280132', 11),\n",
              " ('nm0638308', 14),\n",
              " ('nm0543689', 1),\n",
              " ('nm0724098', 2),\n",
              " ('nm0023348', 21),\n",
              " ('nm0273833', 9),\n",
              " ('nm0830491', 1),\n",
              " ('nm0778003', 1),\n",
              " ('nm0865078', 22),\n",
              " ('nm0248803', 2),\n",
              " ('nm0475394', 5),\n",
              " ('nm11052524', 1),\n",
              " ('nm0095966', 6),\n",
              " ('nm0109244', 6),\n",
              " ('nm0263851', 52),\n",
              " ('nm0510966', 1),\n",
              " ('nm0156456', 4),\n",
              " ('nm0709938', 4),\n",
              " ('nm2723776', 1),\n",
              " ('nm0770031', 3),\n",
              " ('nm0879226', 1),\n",
              " ('nm0508811', 1),\n",
              " ('nm3140382', 1),\n",
              " ('nm0517037', 2),\n",
              " ('nm0241663', 21),\n",
              " ('nm1117589', 1),\n",
              " ('nm0443042', 1),\n",
              " ('nm0157674', 2),\n",
              " ('nm0074705', 1),\n",
              " ('nm0652808', 8),\n",
              " ('nm0572279', 4),\n",
              " ('nm0867339', 1),\n",
              " ('nm0636807', 1),\n",
              " ('nm0452766', 1),\n",
              " ('nm0944944', 1),\n",
              " ('nm0644105', 1),\n",
              " ('nm0440345', 2),\n",
              " ('nm0136826', 4),\n",
              " ('nm0274342', 1),\n",
              " ('nm0197772', 1),\n",
              " ('nm0444287', 1),\n",
              " ('nm1315198', 6),\n",
              " ('nm0327597', 1),\n",
              " ('nm0809204', 1),\n",
              " ('nm0694893', 131),\n",
              " ('nm0259031', 3),\n",
              " ('nm0112176', 1),\n",
              " ('nm0220438', 1),\n",
              " ('nm0256303', 1),\n",
              " ('nm0104265', 1),\n",
              " ('nm0925406', 4),\n",
              " ('nm0597585', 1),\n",
              " ('nm0231263', 1),\n",
              " ('nm0882573', 6),\n",
              " ('nm0766367', 8),\n",
              " ('nm0069476', 2),\n",
              " ('nm0232604', 3),\n",
              " ('nm0764168', 65),\n",
              " ('nm1253875', 4),\n",
              " ('nm0802032', 2),\n",
              " ('nm0744087', 1),\n",
              " ('nm0944223', 6),\n",
              " ('nm2177534', 1),\n",
              " ('nm1734604', 1),\n",
              " ('nm0156550', 3),\n",
              " ('nm0055733', 18),\n",
              " ('nm0411903', 16),\n",
              " ('nm0473029', 4),\n",
              " ('nm0802012', 1),\n",
              " ('nm0447027', 1),\n",
              " ('nm0543554', 5),\n",
              " ('nm0847393', 3),\n",
              " ('nm0390924', 1),\n",
              " ('nm4094849', 1),\n",
              " ('nm0607111', 1),\n",
              " ('nm0733145', 1),\n",
              " ('nm0568907', 2),\n",
              " ('nm0205325', 1),\n",
              " ('nm0627549', 14),\n",
              " ('nm1230101', 8),\n",
              " ('nm0680429', 4),\n",
              " ('nm0386351', 1),\n",
              " ('nm0675939', 4),\n",
              " ('nm7951812', 1),\n",
              " ('nm0908133', 1),\n",
              " ('nm1173726', 1),\n",
              " ('nm8328239', 1),\n",
              " ('nm0608195', 2),\n",
              " ('nm0215837', 3),\n",
              " ('nm5025898', 2),\n",
              " ('nm0084208', 1),\n",
              " ('nm1468981', 1),\n",
              " ('nm0064710', 3),\n",
              " ('nm0139711', 9),\n",
              " ('nm0457215', 45),\n",
              " ('nm0220196', 1),\n",
              " ('nm0172434', 1),\n",
              " ('nm0921582', 3),\n",
              " ('nm0844476', 8),\n",
              " ('nm0973436', 1),\n",
              " ('nm0440066', 1),\n",
              " ('nm1342226', 1),\n",
              " ('nm0001562', 9),\n",
              " ('nm0611148', 6),\n",
              " ('nm0479516', 44),\n",
              " ('nm0412842', 1),\n",
              " ('nm0436825', 1),\n",
              " ('nm0808500', 1),\n",
              " ('nm0944593', 2),\n",
              " ('nm0649353', 2),\n",
              " ('nm0234132', 1),\n",
              " ('nm0610206', 4),\n",
              " ('nm0453248', 1),\n",
              " ('nm0373019', 1),\n",
              " ('nm1222240', 1),\n",
              " ('nm0077779', 1),\n",
              " ('nm0019343', 3),\n",
              " ('nm0243348', 1),\n",
              " ('nm0016369', 5),\n",
              " ('nm0803759', 1),\n",
              " ('nm0587549', 2),\n",
              " ('nm0466292', 25),\n",
              " ('nm3407985', 5),\n",
              " ('nm0081085', 1),\n",
              " ('nm0217717', 2),\n",
              " ('nm0811939', 1),\n",
              " ('nm0835292', 12),\n",
              " ('nm0269800', 28),\n",
              " ('nm0193459', 43),\n",
              " ('nm1817802', 1),\n",
              " ('nm1504906', 1),\n",
              " ('nm0794477', 1),\n",
              " ('nm1839741', 1),\n",
              " ('nm0080372', 1),\n",
              " ('nm0541491', 1),\n",
              " ('nm1663509', 2),\n",
              " ('nm0056417', 1),\n",
              " ('nm0145299', 4),\n",
              " ('nm0693936', 1),\n",
              " ('nm0930971', 7),\n",
              " ('nm0019519', 1),\n",
              " ('nm0150130', 1),\n",
              " ('nm0750152', 1),\n",
              " ('nm0728484', 10),\n",
              " ('nm0159017', 4),\n",
              " ('nm0683978', 12),\n",
              " ('nm0500124', 1),\n",
              " ('nm0019448', 1),\n",
              " ('nm0927251', 9),\n",
              " ('nm0062844', 4),\n",
              " ('nm6397377', 1),\n",
              " ('nm0847136', 6),\n",
              " ('nm1491203', 2),\n",
              " ('nm0847261', 1),\n",
              " ('nm0526649', 4),\n",
              " ('nm0316167', 1),\n",
              " ('nm0814532', 1),\n",
              " ('nm0112706', 1),\n",
              " ('nm0147518', 2),\n",
              " ('nm0557782', 1),\n",
              " ('nm1157232', 6),\n",
              " ('nm3359180', 1),\n",
              " ('nm0346027', 2),\n",
              " ('nm0164750', 1),\n",
              " ('nm0248634', 2),\n",
              " ('nm0289080', 6),\n",
              " ('nm0061223', 17),\n",
              " ('nm2770151', 1),\n",
              " ('nm0180105', 12),\n",
              " ('nm0251869', 1),\n",
              " ('nm0046245', 22),\n",
              " ('nm0747716', 16),\n",
              " ('nm0573031', 4),\n",
              " ('nm1226885', 6),\n",
              " ('nm0477464', 1),\n",
              " ('nm0824987', 12),\n",
              " ('nm0751865', 1),\n",
              " ('nm0497470', 13),\n",
              " ('nm1090173', 1),\n",
              " ('nm0239335', 1),\n",
              " ('nm0853174', 14),\n",
              " ('nm0020440', 2),\n",
              " ('nm0422330', 1),\n",
              " ('nm0075968', 1),\n",
              " ('nm1404357', 1),\n",
              " ('nm0832700', 4),\n",
              " ('nm0526851', 5),\n",
              " ('nm0052365', 1),\n",
              " ('nm0812188', 2),\n",
              " ('nm3067368', 1),\n",
              " ('nm0060777', 2),\n",
              " ('nm0167082', 1),\n",
              " ('nm0443881', 1),\n",
              " ('nm0730924', 2),\n",
              " ('nm0005183', 6),\n",
              " ('nm1171700', 3),\n",
              " ('nm0287596', 1),\n",
              " ('nm0029210', 1),\n",
              " ('nm0770831', 1),\n",
              " ('nm0543740', 1),\n",
              " ('nm2359914', 1),\n",
              " ('nm0516706', 1),\n",
              " ('nm9098555', 1),\n",
              " ('nm0259105', 1),\n",
              " ('nm3108810', 1),\n",
              " ('nm0160106', 1),\n",
              " ('nm1112964', 2),\n",
              " ('nm0237070', 9),\n",
              " ('nm0357084', 1),\n",
              " ('nm0753485', 3),\n",
              " ('nm0200076', 1),\n",
              " ('nm0503011', 3),\n",
              " ('nm1104284', 1),\n",
              " ('nm0432672', 1),\n",
              " ('nm1816603', 3),\n",
              " ('nm1423000', 1),\n",
              " ('nm0532262', 1),\n",
              " ('nm0219420', 2),\n",
              " ('nm0088421', 1),\n",
              " ('nm0730993', 3),\n",
              " ('nm0204285', 1),\n",
              " ('nm0657259', 3),\n",
              " ('nm0001383', 10),\n",
              " ('nm0176685', 1),\n",
              " ('nm0433540', 1),\n",
              " ('nm0176361', 9),\n",
              " ('nm0211516', 3),\n",
              " ('nm0647593', 1),\n",
              " ('nm0151540', 7),\n",
              " ('nm1827174', 1),\n",
              " ('nm0083516', 2),\n",
              " ('nm0474894', 4),\n",
              " ('nm0034775', 1),\n",
              " ('nm2630207', 1),\n",
              " ('nm0059424', 2),\n",
              " ('nm0248242', 1),\n",
              " ('nm0954079', 24),\n",
              " ('nm1565290', 1),\n",
              " ('nm0379114', 2),\n",
              " ('nm1224176', 1),\n",
              " ('nm0911483', 2),\n",
              " ('nm0132054', 4),\n",
              " ('nm0422415', 4),\n",
              " ('nm3816242', 1),\n",
              " ('nm1018176', 1),\n",
              " ('nm0904035', 6),\n",
              " ('nm0610673', 5),\n",
              " ('nm0463991', 4),\n",
              " ('nm2390235', 3),\n",
              " ('nm1102039', 1),\n",
              " ('nm0948238', 5),\n",
              " ('nm0098033', 1),\n",
              " ('nm1031837', 28),\n",
              " ('nm0632561', 28),\n",
              " ('nm1391203', 12),\n",
              " ('nm0161792', 1),\n",
              " ('nm0911196', 5),\n",
              " ('nm1173845', 1),\n",
              " ('nm1173673', 1),\n",
              " ('nm0649638', 16),\n",
              " ('nm2160757', 10),\n",
              " ('nm1835681', 1),\n",
              " ('nm0414266', 1),\n",
              " ('nm0736637', 9),\n",
              " ('nm2372047', 79),\n",
              " ('nm0620657', 12),\n",
              " ('nm0827555', 1),\n",
              " ('nm0389880', 3),\n",
              " ('nm0136634', 4),\n",
              " ('nm0923922', 1),\n",
              " ('nm4600649', 1),\n",
              " ('nm0476011', 7),\n",
              " ('nm2246652', 1),\n",
              " ('nm0590353', 1),\n",
              " ('nm0078535', 1),\n",
              " ('nm0952027', 8),\n",
              " ('nm0071893', 1),\n",
              " ('nm0320210', 1),\n",
              " ('nm2471889', 1),\n",
              " ('nm1032558', 1),\n",
              " ('nm0919679', 1),\n",
              " ('nm0403692', 6),\n",
              " ('nm0059103', 1),\n",
              " ('nm0931477', 1),\n",
              " ('nm0415306', 1),\n",
              " ('nm0358972', 6),\n",
              " ('nm0953611', 1),\n",
              " ('nm0347465', 1),\n",
              " ('nm0516599', 1),\n",
              " ('nm0070312', 2),\n",
              " ('nm0407846', 4),\n",
              " ('nm1631601', 1),\n",
              " ('nm0053560', 1),\n",
              " ('nm0461642', 1),\n",
              " ('nm0158502', 7),\n",
              " ('nm0474936', 14),\n",
              " ('nm0997398', 1),\n",
              " ('nm0584281', 1),\n",
              " ('nm1214080', 2),\n",
              " ('nm0122020', 1),\n",
              " ('nm0279996', 5),\n",
              " ('nm1207948', 1),\n",
              " ('nm0159792', 2),\n",
              " ('nm0007783', 1),\n",
              " ('nm0215402', 4),\n",
              " ('nm1056505', 1),\n",
              " ('nm1290159', 1),\n",
              " ('nm0690470', 1),\n",
              " ('nm0100272', 2),\n",
              " ('nm0232494', 2),\n",
              " ('nm1076354', 2),\n",
              " ('nm0119650', 2),\n",
              " ('nm0031900', 1),\n",
              " ('nm3440832', 1),\n",
              " ('nm0647475', 1),\n",
              " ('nm0205056', 1),\n",
              " ('nm0537986', 1),\n",
              " ('nm0144643', 1),\n",
              " ('nm0899649', 14),\n",
              " ('nm0597699', 4),\n",
              " ('nm0039993', 4),\n",
              " ('nm0626653', 2),\n",
              " ('nm0210458', 6),\n",
              " ('nm1122282', 1),\n",
              " ('nm1662481', 2),\n",
              " ('nm3605633', 1),\n",
              " ('nm3157644', 2),\n",
              " ('nm7307358', 1),\n",
              " ('nm1250907', 38),\n",
              " ('nm0234890', 1),\n",
              " ('nm0229483', 4),\n",
              " ('nm0042469', 1),\n",
              " ('nm0325682', 1),\n",
              " ('nm3316266', 9),\n",
              " ('nm0118628', 1),\n",
              " ('nm3573496', 1),\n",
              " ('nm6296096', 1),\n",
              " ('nm9866243', 1),\n",
              " ('nm0442783', 1),\n",
              " ('nm0623430', 1),\n",
              " ('nm2596134', 3),\n",
              " ('nm0624899', 1),\n",
              " ('nm2831883', 1),\n",
              " ('nm3228764', 5),\n",
              " ('nm1214358', 1),\n",
              " ('nm0937279', 1),\n",
              " ('nm1244004', 3),\n",
              " ('nm3760922', 1),\n",
              " ('nm0039509', 1),\n",
              " ('nm0146720', 3),\n",
              " ('nm0620223', 2),\n",
              " ('nm5985223', 1),\n",
              " ('nm0859503', 8),\n",
              " ('nm1921933', 29),\n",
              " ('nm0590243', 9),\n",
              " ('nm0529005', 1),\n",
              " ('nm0089058', 5),\n",
              " ('nm0042009', 1),\n",
              " ('nm0441306', 2),\n",
              " ('nm0077852', 1),\n",
              " ('nm0682263', 1),\n",
              " ('nm0833365', 1),\n",
              " ('nm0321856', 2),\n",
              " ('nm3016880', 2),\n",
              " ('nm0318373', 1),\n",
              " ('nm0463662', 3),\n",
              " ('nm0263328', 1),\n",
              " ('nm1233062', 1),\n",
              " ('nm1047889', 45),\n",
              " ('nm0602504', 2),\n",
              " ('nm0446296', 2),\n",
              " ('nm0404024', 1),\n",
              " ('nm0872771', 1),\n",
              " ('nm2996211', 1),\n",
              " ('nm1668388', 1),\n",
              " ('nm0199392', 1),\n",
              " ('nm1559102', 1),\n",
              " ('nm0300987', 1),\n",
              " ('nm2637357', 1),\n",
              " ('nm0106116', 2),\n",
              " ('nm0830849', 1),\n",
              " ('nm3095734', 1),\n",
              " ('nm2479203', 2),\n",
              " ('nm1052596', 22),\n",
              " ('nm10289610', 1),\n",
              " ('nm1441445', 3),\n",
              " ('nm2075265', 1),\n",
              " ('nm0211475', 1),\n",
              " ('nm0460362', 4),\n",
              " ('nm6180851', 2),\n",
              " ('nm0759306', 1),\n",
              " ('nm0846032', 1),\n",
              " ('nm0005311', 7),\n",
              " ('nm0911994', 1),\n",
              " ('nm2102767', 1),\n",
              " ('nm3854281', 1),\n",
              " ('nm0892845', 2),\n",
              " ('nm2606067', 1),\n",
              " ('nm1280082', 5),\n",
              " ('nm1021759', 1),\n",
              " ('nm0654724', 1),\n",
              " ('nm1589118', 1),\n",
              " ('nm1298537', 1),\n",
              " ('nm0019482', 8),\n",
              " ('nm1044503', 5),\n",
              " ('nm1877778', 1),\n",
              " ('nm4531628', 1),\n",
              " ('nm0049231', 4),\n",
              " ('nm9142663', 1),\n",
              " ('nm8373424', 3),\n",
              " ('nm0083760', 1),\n",
              " ('nm0656247', 5),\n",
              " ('nm0045062', 1),\n",
              " ('nm0481591', 1),\n",
              " ('nm0467787', 2),\n",
              " ('nm3752592', 1),\n",
              " ('nm0215581', 2),\n",
              " ('nm0761146', 3),\n",
              " ('nm0800497', 1),\n",
              " ('nm2453001', 2),\n",
              " ('nm0091712', 3),\n",
              " ('nm0051509', 21),\n",
              " ('nm0287884', 1),\n",
              " ('nm1055580', 2),\n",
              " ('nm0191112', 1),\n",
              " ('nm0369525', 2),\n",
              " ('nm0538598', 2),\n",
              " ('nm1651235', 1),\n",
              " ('nm0661515', 1),\n",
              " ('nm6151861', 2),\n",
              " ('nm2494978', 2),\n",
              " ('nm0523683', 11),\n",
              " ('nm0766488', 2),\n",
              " ('nm1343618', 1),\n",
              " ('nm0660140', 1),\n",
              " ('nm1089453', 4),\n",
              " ('nm0812327', 1),\n",
              " ('nm0163019', 2),\n",
              " ('nm0713227', 1),\n",
              " ('nm6222099', 29),\n",
              " ('nm2611149', 2),\n",
              " ('nm0290534', 11),\n",
              " ('nm1437443', 1),\n",
              " ('nm0853419', 5),\n",
              " ('nm0404408', 1),\n",
              " ('nm0619745', 2),\n",
              " ('nm1980638', 1),\n",
              " ('nm7019577', 1),\n",
              " ('nm1864417', 1),\n",
              " ('nm1712512', 1),\n",
              " ('nm1066867', 1),\n",
              " ('nm0580854', 1),\n",
              " ('nm0274235', 1),\n",
              " ('nm0790761', 1),\n",
              " ('nm0527985', 1),\n",
              " ('nm0375631', 3),\n",
              " ('nm0785461', 1),\n",
              " ('nm8420293', 1),\n",
              " ('nm0059585', 1),\n",
              " ('nm0060966', 1),\n",
              " ('nm1126493', 1),\n",
              " ('nm10105137', 1),\n",
              " ('nm0236015', 3),\n",
              " ('nm0124788', 1),\n",
              " ('nm0530957', 1),\n",
              " ('nm0295777', 1),\n",
              " ('nm0267356', 14),\n",
              " ('nm1388532', 1),\n",
              " ('nm5170574', 1),\n",
              " ('nm0700000', 1),\n",
              " ('nm0238173', 1),\n",
              " ('nm8792203', 1),\n",
              " ('nm0220630', 1),\n",
              " ('nm0028113', 1),\n",
              " ('nm1138654', 1),\n",
              " ('nm0974367', 1),\n",
              " ('nm1096152', 2),\n",
              " ('nm0215141', 1),\n",
              " ('nm1155489', 1),\n",
              " ('nm3153203', 1),\n",
              " ('nm0810572', 1),\n",
              " ('nm0428533', 1),\n",
              " ('nm1074345', 2),\n",
              " ('nm0445456', 1),\n",
              " ('nm0675884', 1),\n",
              " ('nm0824673', 1),\n",
              " ('nm9804942', 1),\n",
              " ('nm3402998', 1),\n",
              " ('nm0199143', 1),\n",
              " ('nm0084284', 1),\n",
              " ('nm1068697', 1),\n",
              " ('nm1861718', 1),\n",
              " ('nm0317980', 1),\n",
              " ('nm0134801', 5),\n",
              " ('nm0838551', 3),\n",
              " ('nm5331895', 1),\n",
              " ('nm1340372', 1),\n",
              " ('nm2530046', 1),\n",
              " ('nm2990868', 1),\n",
              " ('nm0177657', 1),\n",
              " ('nm0375420', 3),\n",
              " ('nm0619405', 4),\n",
              " ('nm2192554', 1),\n",
              " ('nm0151970', 2),\n",
              " ('nm4482497', 1),\n",
              " ('nm0813195', 1),\n",
              " ('nm0012129', 1),\n",
              " ('nm1291190', 26),\n",
              " ('nm0735912', 1),\n",
              " ('nm1884260', 3),\n",
              " ('nm0623883', 42),\n",
              " ('nm1057796', 1),\n",
              " ('nm0105696', 4),\n",
              " ('nm0451696', 6),\n",
              " ('nm0193826', 2),\n",
              " ('nm1250925', 10),\n",
              " ('nm10811360', 2),\n",
              " ('nm1067131', 1),\n",
              " ('nm7297720', 2),\n",
              " ('nm4980016', 1),\n",
              " ('nm3276149', 2),\n",
              " ('nm0286914', 3),\n",
              " ('nm0410336', 5),\n",
              " ('nm1081714', 15),\n",
              " ('nm0134955', 2),\n",
              " ('nm0152229', 2),\n",
              " ('nm0237813', 1),\n",
              " ('nm2357411', 1),\n",
              " ('nm1107247', 1),\n",
              " ('nm1835652', 1),\n",
              " ('nm0206777', 2),\n",
              " ('nm0067277', 1),\n",
              " ('nm1141228', 1),\n",
              " ('nm1105404', 6),\n",
              " ('nm0229212', 1),\n",
              " ('nm0634203', 1),\n",
              " ('nm0143288', 1),\n",
              " ('nm0445284', 1),\n",
              " ('nm0134438', 2),\n",
              " ('nm0710282', 1),\n",
              " ('nm0804201', 1),\n",
              " ('nm0039508', 1),\n",
              " ('nm0972617', 1),\n",
              " ('nm0699263', 2),\n",
              " ('nm1074331', 1),\n",
              " ('nm0920169', 1),\n",
              " ('nm0751082', 1),\n",
              " ('nm0969475', 5),\n",
              " ('nm0717078', 1),\n",
              " ('nm0220346', 1),\n",
              " ('nm0868131', 3),\n",
              " ('nm0999302', 4),\n",
              " ('nm1003102', 1),\n",
              " ('nm1001419', 1),\n",
              " ('nm1009005', 1),\n",
              " ('nm1007483', 1),\n",
              " ('nm0441366', 4),\n",
              " ('nm1008047', 1),\n",
              " ('nm3769553', 1),\n",
              " ('nm1026223', 3),\n",
              " ('nm1435963', 1),\n",
              " ('nm0770284', 1),\n",
              " ('nm0468859', 2),\n",
              " ('nm1032584', 1),\n",
              " ('nm0604545', 1),\n",
              " ('nm1027864', 1),\n",
              " ('nm0959208', 1),\n",
              " ('nm1033301', 1),\n",
              " ('nm1027667', 1),\n",
              " ('nm1096710', 1),\n",
              " ('nm2520202', 1),\n",
              " ('nm1035698', 1),\n",
              " ('nm0641841', 7),\n",
              " ('nm2510706', 8),\n",
              " ('nm0101137', 1),\n",
              " ('nm1149137', 7),\n",
              " ('nm10785900', 1),\n",
              " ('nm4677669', 2),\n",
              " ('nm1118049', 1),\n",
              " ('nm1048027', 1),\n",
              " ('nm0283801', 1),\n",
              " ('nm0179756', 1),\n",
              " ('nm1132848', 1),\n",
              " ('nm1080667', 1),\n",
              " ('nm1081369', 1),\n",
              " ('nm1233497', 1),\n",
              " ('nm3463875', 2),\n",
              " ('nm5581688', 1),\n",
              " ('nm1083360', 2),\n",
              " ('nm1427000', 1),\n",
              " ('nm1104258', 1),\n",
              " ('nm0761998', 1),\n",
              " ('nm1109458', 8),\n",
              " ('nm5694496', 1),\n",
              " ('nm0527463', 1),\n",
              " ('nm1128627', 1),\n",
              " ('nm1137336', 1),\n",
              " ('nm9858185', 1),\n",
              " ('nm0154340', 1),\n",
              " ('nm1041064', 1),\n",
              " ('nm1136814', 2),\n",
              " ('nm1193461', 1),\n",
              " ('nm1213227', 10),\n",
              " ('nm0881310', 1),\n",
              " ('nm0023817', 1),\n",
              " ('nm0448618', 1),\n",
              " ('nm10052494', 1),\n",
              " ('nm1167264', 1),\n",
              " ('nm1167108', 1),\n",
              " ('nm0328426', 2),\n",
              " ('nm0246874', 1),\n",
              " ('nm2785104', 2),\n",
              " ('nm2885981', 1),\n",
              " ('nm1163036', 4),\n",
              " ('nm1211419', 1),\n",
              " ('nm1156319', 1),\n",
              " ('nm0241519', 1),\n",
              " ('nm1651076', 1),\n",
              " ('nm1186980', 1),\n",
              " ('nm1188966', 1),\n",
              " ('nm1553209', 1),\n",
              " ('nm1192351', 1),\n",
              " ('nm0152546', 1),\n",
              " ('nm0375892', 2),\n",
              " ('nm3789789', 1),\n",
              " ('nm1190962', 1),\n",
              " ('nm5962235', 3),\n",
              " ('nm1196442', 3),\n",
              " ('nm1194747', 1),\n",
              " ('nm1219906', 1),\n",
              " ('nm1197707', 2),\n",
              " ('nm0233180', 1),\n",
              " ('nm1217899', 16),\n",
              " ('nm1329704', 1),\n",
              " ('nm1218352', 11),\n",
              " ('nm1227515', 1),\n",
              " ('nm0874495', 1),\n",
              " ('nm0697201', 3),\n",
              " ('nm1233594', 15),\n",
              " ('nm0417744', 2),\n",
              " ('nm1310450', 4),\n",
              " ('nm1235091', 1),\n",
              " ('nm1239495', 1),\n",
              " ('nm1238133', 1),\n",
              " ('nm0082700', 4),\n",
              " ('nm2262867', 4),\n",
              " ('nm1245388', 1),\n",
              " ('nm1251840', 4),\n",
              " ('nm2188633', 1),\n",
              " ('nm1253955', 21),\n",
              " ('nm1250509', 1),\n",
              " ('nm1254623', 5),\n",
              " ('nm1384769', 10),\n",
              " ('nm0753898', 1),\n",
              " ('nm0714104', 1),\n",
              " ('nm2693172', 4),\n",
              " ('nm1059824', 3),\n",
              " ('nm2171332', 1),\n",
              " ('nm0627041', 1),\n",
              " ('nm1278035', 1),\n",
              " ('nm1278076', 2),\n",
              " ('nm1279729', 2),\n",
              " ('nm0312576', 1),\n",
              " ('nm1394696', 1),\n",
              " ('nm1274918', 1),\n",
              " ('nm8748787', 1),\n",
              " ('nm6288636', 1),\n",
              " ('nm1303340', 3),\n",
              " ('nm1653111', 4),\n",
              " ('nm0309107', 5),\n",
              " ('nm1299445', 1),\n",
              " ('nm0590758', 1),\n",
              " ('nm1501353', 2),\n",
              " ('nm1317171', 8),\n",
              " ('nm1316596', 1),\n",
              " ('nm1316111', 1),\n",
              " ('nm1493849', 1),\n",
              " ('nm0271927', 1),\n",
              " ('nm1325226', 1),\n",
              " ('nm1333550', 13),\n",
              " ('nm1334938', 1),\n",
              " ('nm1334317', 1),\n",
              " ('nm0688495', 7),\n",
              " ('nm1565937', 1),\n",
              " ('nm2753957', 1),\n",
              " ('nm1225733', 1),\n",
              " ('nm0743697', 1),\n",
              " ('nm1356997', 11),\n",
              " ('nm0551173', 1),\n",
              " ('nm0463775', 1),\n",
              " ...]"
            ]
          },
          "metadata": {},
          "execution_count": 42
        }
      ]
    },
    {
      "cell_type": "markdown",
      "metadata": {
        "id": "ZuPjOzl_GCGc"
      },
      "source": [
        "Aggiungiamo un threshold (almeno 200 apparizioni)"
      ],
      "id": "ZuPjOzl_GCGc"
    },
    {
      "cell_type": "code",
      "metadata": {
        "id": "Ow3zL5hZGFWL",
        "colab": {
          "base_uri": "https://localhost:8080/"
        },
        "outputId": "af7e7142-fd0b-474e-aa05-61cad4bd194e"
      },
      "source": [
        "data.flatMap(lambda row: (row[1])).map(lambda elem: (elem,1)).reduceByKey(lambda a,b: a+b).filter(lambda x: x[1] >=200).take(10)"
      ],
      "id": "Ow3zL5hZGFWL",
      "execution_count": null,
      "outputs": [
        {
          "output_type": "execute_result",
          "data": {
            "text/plain": [
              "[('nm0945427', 218),\n",
              " ('nm0764762', 245),\n",
              " ('nm0045119', 251),\n",
              " ('nm0893449', 232),\n",
              " ('nm1894124', 273),\n",
              " ('nm0415549', 299),\n",
              " ('nm1006879', 239),\n",
              " ('nm0793813', 411),\n",
              " ('nm0482320', 344),\n",
              " ('nm0659173', 214)]"
            ]
          },
          "metadata": {},
          "execution_count": 46
        }
      ]
    },
    {
      "cell_type": "code",
      "metadata": {
        "id": "6bd_UXlGHYAO",
        "colab": {
          "base_uri": "https://localhost:8080/"
        },
        "outputId": "7f27c59f-4ca7-4122-894f-fe9ca6d2e8a7"
      },
      "source": [
        "res = data.flatMap(lambda row: (row[1])) \\\n",
        "          .map(lambda elem: (elem,1)) \\\n",
        "          .reduceByKey(lambda a,b: a+b) \\\n",
        "          .filter(lambda x: x[1] >=200) \\\n",
        "          .collect()\n",
        "res"
      ],
      "id": "6bd_UXlGHYAO",
      "execution_count": null,
      "outputs": [
        {
          "output_type": "execute_result",
          "data": {
            "text/plain": [
              "[('nm0945427', 218),\n",
              " ('nm0764762', 245),\n",
              " ('nm0045119', 251),\n",
              " ('nm0893449', 232),\n",
              " ('nm1894124', 273),\n",
              " ('nm0415549', 299),\n",
              " ('nm1006879', 239),\n",
              " ('nm0793813', 411),\n",
              " ('nm0482320', 344),\n",
              " ('nm0659173', 214),\n",
              " ('nm0798827', 228),\n",
              " ('nm0688093', 243),\n",
              " ('nm0474820', 230),\n",
              " ('nm0706691', 315),\n",
              " ('nm0374974', 284),\n",
              " ('nm0004417', 287),\n",
              " ('nm0046850', 348),\n",
              " ('nm0004467', 210),\n",
              " ('nm0222432', 274),\n",
              " ('nm0080173', 216),\n",
              " ('nm0006369', 276),\n",
              " ('nm0154164', 235),\n",
              " ('nm0695177', 215),\n",
              " ('nm1066548', 228),\n",
              " ('nm0623427', 438),\n",
              " ('nm0619107', 387),\n",
              " ('nm0159159', 205),\n",
              " ('nm0619309', 313),\n",
              " ('nm0035067', 294),\n",
              " ('nm0001000', 303),\n",
              " ('nm0000465', 295),\n",
              " ('nm0695199', 256),\n",
              " ('nm0993695', 213),\n",
              " ('nm0417314', 207),\n",
              " ('nm0451600', 206),\n",
              " ('nm0315553', 234),\n",
              " ('nm1066229', 228),\n",
              " ('nm0352032', 229),\n",
              " ('nm3183374', 261),\n",
              " ('nm0006982', 585),\n",
              " ('nm0613417', 239),\n",
              " ('nm0304262', 323),\n",
              " ('nm0648803', 565),\n",
              " ('nm1001108', 219),\n",
              " ('nm0004660', 213),\n",
              " ('nm0419707', 214),\n",
              " ('nm0004429', 270),\n",
              " ('nm0023173', 265),\n",
              " ('nm0419653', 303),\n",
              " ('nm0246703', 391),\n",
              " ('nm1352627', 263),\n",
              " ('nm0019382', 228),\n",
              " ('nm0482285', 201),\n",
              " ('nm0534867', 291),\n",
              " ('nm0004463', 255),\n",
              " ('nm2366585', 207),\n",
              " ('nm0619779', 260),\n",
              " ('nm0103977', 798),\n",
              " ('nm0305182', 506),\n",
              " ('nm0261738', 292),\n",
              " ('nm0007123', 381),\n",
              " ('nm0820286', 210),\n",
              " ('nm0659250', 303),\n",
              " ('nm0420092', 235),\n",
              " ('nm0453523', 206),\n",
              " ('nm0747131', 209),\n",
              " ('nm0347953', 260),\n",
              " ('nm0367928', 236),\n",
              " ('nm0007106', 310),\n",
              " ('nm0000616', 248),\n",
              " ('nm7390393', 355),\n",
              " ('nm0149822', 330),\n",
              " ('nm0419685', 211),\n",
              " ('nm0837797', 250),\n",
              " ('nm2147526', 208),\n",
              " ('nm0764298', 200),\n",
              " ('nm0595934', 223),\n",
              " ('nm0739418', 203),\n",
              " ('nm0433884', 204),\n",
              " ('nm0033136', 200),\n",
              " ('nm0667985', 216),\n",
              " ('nm0021728', 234),\n",
              " ('nm0158101', 248),\n",
              " ('nm0004437', 245),\n",
              " ('nm0003501', 224),\n",
              " ('nm0453520', 244),\n",
              " ('nm0654710', 218)]"
            ]
          },
          "metadata": {},
          "execution_count": 48
        }
      ]
    },
    {
      "cell_type": "markdown",
      "metadata": {
        "id": "JvPvtIrGMN0M"
      },
      "source": [
        "Vediamo ora per la seconda parte di apriori"
      ],
      "id": "JvPvtIrGMN0M"
    },
    {
      "cell_type": "code",
      "metadata": {
        "id": "-he96ytnMQVj",
        "colab": {
          "base_uri": "https://localhost:8080/"
        },
        "outputId": "db52afd1-4295-4af3-eaf0-6b43731008c8"
      },
      "source": [
        "data.take(10)"
      ],
      "id": "-he96ytnMQVj",
      "execution_count": null,
      "outputs": [
        {
          "output_type": "execute_result",
          "data": {
            "text/plain": [
              "[Row(tconst='tt0000009', nconsts=['nm0063086', 'nm0183823', 'nm1309758']),\n",
              " Row(tconst='tt0000335', nconsts=['nm1010955', 'nm1012612', 'nm1011210', 'nm1012621', 'nm0675239', 'nm0675260']),\n",
              " Row(tconst='tt0000502', nconsts=['nm0215752', 'nm0252720']),\n",
              " Row(tconst='tt0000574', nconsts=['nm0846887', 'nm0846894', 'nm3002376', 'nm0170118']),\n",
              " Row(tconst='tt0000615', nconsts=['nm3071427', 'nm0581353', 'nm0888988', 'nm0240418', 'nm0346387', 'nm0218953']),\n",
              " Row(tconst='tt0000630', nconsts=['nm0624446']),\n",
              " Row(tconst='tt0000676', nconsts=['nm0097421', 'nm0140054']),\n",
              " Row(tconst='tt0000679', nconsts=['nm0000875', 'nm0122665', 'nm0933446', 'nm2924919']),\n",
              " Row(tconst='tt0000793', nconsts=['nm0691995']),\n",
              " Row(tconst='tt0000862', nconsts=['nm5289318', 'nm5289829', 'nm0264569', 'nm0386036', 'nm0511080', 'nm5188470'])]"
            ]
          },
          "metadata": {},
          "execution_count": 58
        }
      ]
    },
    {
      "cell_type": "markdown",
      "metadata": {
        "id": "7UGC-sTeP-R7"
      },
      "source": [
        "Prendiamo il primo record per provare e estriamo i due elementi. Scriviamo una funzione che controlla se gli elementi di una copia sono nella riga (si pup fare meglio ma così era semplice)"
      ],
      "id": "7UGC-sTeP-R7"
    },
    {
      "cell_type": "code",
      "metadata": {
        "id": "jm22mtPROAXc",
        "colab": {
          "base_uri": "https://localhost:8080/"
        },
        "outputId": "441dd82b-0ee1-450a-9683-eec34f6141af"
      },
      "source": [
        "copia = ['nm0063086', 'nm0183823']    #primi due attori del primo record\n",
        "\n",
        "def check_row(row, copia):\n",
        "  for el in copia:\n",
        "    if el not in row:\n",
        "      return False\n",
        "  return True\n",
        "\n",
        "data.map(lambda x:x[1]).filter(lambda x: check_row(x,copia)).take(5)\n"
      ],
      "id": "jm22mtPROAXc",
      "execution_count": null,
      "outputs": [
        {
          "output_type": "execute_result",
          "data": {
            "text/plain": [
              "[['nm0063086', 'nm0183823', 'nm1309758']]"
            ]
          },
          "metadata": {},
          "execution_count": 64
        }
      ]
    },
    {
      "cell_type": "markdown",
      "metadata": {
        "id": "dVckVsR_xDWP"
      },
      "source": [
        "Proviamo ora a cercare di far generare le copie possibili ad ogni singola riga. trick per evitare doppioni. flatmap direttamente almeno sono gia spacchettate"
      ],
      "id": "dVckVsR_xDWP"
    },
    {
      "cell_type": "code",
      "metadata": {
        "id": "Gk-9ihyWoxh_",
        "colab": {
          "base_uri": "https://localhost:8080/"
        },
        "outputId": "5d0605f5-bc2b-4cd6-a2d4-20619cdb2970"
      },
      "source": [
        "def generate_candidate(x):\n",
        "  candidates = []\n",
        "  for a, elemA in enumerate(x):\n",
        "    for b, elemB in enumerate(x):\n",
        "      if a < b:\n",
        "        candidates.append((elemA, elemB))\n",
        "  return candidates\n",
        "\n",
        "data.map(lambda x: x[1]).flatMap(lambda x: generate_candidate(x)).take(10)"
      ],
      "id": "Gk-9ihyWoxh_",
      "execution_count": null,
      "outputs": [
        {
          "output_type": "execute_result",
          "data": {
            "text/plain": [
              "[('nm0063086', 'nm0183823'),\n",
              " ('nm0063086', 'nm1309758'),\n",
              " ('nm0183823', 'nm1309758'),\n",
              " ('nm1010955', 'nm1012612'),\n",
              " ('nm1010955', 'nm1011210'),\n",
              " ('nm1010955', 'nm1012621'),\n",
              " ('nm1010955', 'nm0675239'),\n",
              " ('nm1010955', 'nm0675260'),\n",
              " ('nm1012612', 'nm1011210'),\n",
              " ('nm1012612', 'nm1012621')]"
            ]
          },
          "metadata": {},
          "execution_count": 32
        }
      ]
    },
    {
      "cell_type": "markdown",
      "metadata": {
        "id": "PTp40IkixO4x"
      },
      "source": [
        "Aggiungiamo poi un controllo che la copia generata sia in quelle di interesse"
      ],
      "id": "PTp40IkixO4x"
    },
    {
      "cell_type": "code",
      "metadata": {
        "id": "w75-jNucwKwQ",
        "colab": {
          "base_uri": "https://localhost:8080/"
        },
        "outputId": "5c8255f7-ca09-422d-f0a3-1dd46db9139f"
      },
      "source": [
        "copia = [('nm0063086', 'nm0183823'), ('nm0846894', 'nm3002376')]\n",
        "\n",
        "def generate_candidate(x):\n",
        "  candidates = []\n",
        "  for a, elemA in enumerate(x):\n",
        "    for b, elemB in enumerate(x):\n",
        "      if a < b:\n",
        "        candidates.append((elemA, elemB))\n",
        "  return candidates\n",
        "\n",
        "data.map(lambda x: x[1]).flatMap(lambda x: generate_candidate(x)).filter(lambda x: x in copia).take(3)"
      ],
      "id": "w75-jNucwKwQ",
      "execution_count": null,
      "outputs": [
        {
          "output_type": "execute_result",
          "data": {
            "text/plain": [
              "[('nm0063086', 'nm0183823'), ('nm0846894', 'nm3002376')]"
            ]
          },
          "metadata": {},
          "execution_count": 34
        }
      ]
    },
    {
      "cell_type": "markdown",
      "metadata": {
        "id": "yxuUOII3xV_w"
      },
      "source": [
        "Vero proprio passo di map. Le tuple per qualche motivo sono hashabili"
      ],
      "id": "yxuUOII3xV_w"
    },
    {
      "cell_type": "code",
      "metadata": {
        "id": "cK5xVYz1xU2W",
        "colab": {
          "base_uri": "https://localhost:8080/"
        },
        "outputId": "4de1629b-cc07-408a-ec0d-f6bd88e69530"
      },
      "source": [
        "copia = [('nm0063086', 'nm0183823'), ('nm0846894', 'nm3002376')]\n",
        "\n",
        "def generate_candidate(x):\n",
        "  candidates = []\n",
        "  for a, elemA in enumerate(x):\n",
        "    for b, elemB in enumerate(x):\n",
        "      if a < b:\n",
        "        candidates.append((elemA, elemB))\n",
        "  return candidates\n",
        "\n",
        "data.map(lambda x: x[1]).flatMap(lambda x: generate_candidate(x)) \\\n",
        "    .filter(lambda x: x in copia).map(lambda x: (x,1)).take(3)"
      ],
      "id": "cK5xVYz1xU2W",
      "execution_count": null,
      "outputs": [
        {
          "output_type": "execute_result",
          "data": {
            "text/plain": [
              "[(('nm0063086', 'nm0183823'), 1), (('nm0846894', 'nm3002376'), 1)]"
            ]
          },
          "metadata": {},
          "execution_count": 35
        }
      ]
    },
    {
      "cell_type": "markdown",
      "metadata": {
        "id": "N-ykb2KwxVGu"
      },
      "source": [
        "Aggiungiamo reduce e il controllo del threshold"
      ],
      "id": "N-ykb2KwxVGu"
    },
    {
      "cell_type": "code",
      "metadata": {
        "id": "nOWrjKjYxCAG",
        "colab": {
          "base_uri": "https://localhost:8080/"
        },
        "outputId": "99efef2c-7128-4199-f8c1-98ff78f15a55"
      },
      "source": [
        "copia = [('nm0063086', 'nm0183823'), ('nm0846894', 'nm3002376')]\n",
        "\n",
        "def generate_candidate(x):\n",
        "  candidates = []\n",
        "  for a, elemA in enumerate(x):\n",
        "    for b, elemB in enumerate(x):\n",
        "      if a < b:\n",
        "        candidates.append((elemA, elemB))\n",
        "  return candidates\n",
        "\n",
        "data.map(lambda x: x[1]).flatMap(lambda x: generate_candidate(x)) \\\n",
        "    .filter(lambda x: x in copia) \\\n",
        "    .map(lambda x: (x,1)) \\\n",
        "    .reduceByKey(lambda a,b: a+b) \\\n",
        "    .filter(lambda x: x[1] >=1) \\\n",
        "    .take(3)\n",
        "          "
      ],
      "id": "nOWrjKjYxCAG",
      "execution_count": 29,
      "outputs": [
        {
          "output_type": "execute_result",
          "data": {
            "text/plain": [
              "[]"
            ]
          },
          "metadata": {},
          "execution_count": 29
        }
      ]
    },
    {
      "cell_type": "code",
      "metadata": {
        "id": "1z0pKUxbAgTF"
      },
      "source": [
        "def apriori(data, support_threshold):\n",
        "    singleton_counter = []\n",
        "    lookup_index_table = {}\n",
        "    reverse_lookup_index_table = {}\n",
        "\n",
        "    # count singletons in a map-reduce manner\n",
        "    singletons_count = data.flatMap(lambda row: (row[1])) \\\n",
        "          .map(lambda elem: (elem,1)) \\\n",
        "          .reduceByKey(lambda a,b: a+b) \\\n",
        "          .filter(lambda x: x[1] >= support_threshold) \\\n",
        "          .collect()\n",
        "\n",
        "    frequent_items = [elem[0] for elem in singletons_count]\n",
        "\n",
        "    couples_to_check = []\n",
        "    # trick con enumerate per evitare di fare due volte la stessa copia al contrario\n",
        "    for A, elemA in enumerate(frequent_items):\n",
        "      for B, elemB in enumerate(frequent_items):\n",
        "        if A < B:\n",
        "          couples_to_check.append((elemA, elemB))\n",
        "\n",
        "    def generate_candidate(x):\n",
        "      candidates = []\n",
        "      for a, elemA in enumerate(x):\n",
        "        for b, elemB in enumerate(x):\n",
        "          if a < b:\n",
        "            candidates.append((elemA, elemB))\n",
        "      return candidates\n",
        "\n",
        "    couples_count = data.map(lambda x: x[1]) \\\n",
        "      .flatMap(lambda x: generate_candidate(x)) \\\n",
        "      .filter(lambda x: x in couples_to_check) \\\n",
        "      .map(lambda x: (x,1)) \\\n",
        "      .reduceByKey(lambda a,b: a+b) \\\n",
        "      .filter(lambda x: x[1] >=1) \\\n",
        "      .collect()\n",
        "    \n",
        "    frequent_couples = [elem[0] for elem in couples_count]\n",
        "\n",
        "    return couples_count"
      ],
      "id": "1z0pKUxbAgTF",
      "execution_count": 27,
      "outputs": []
    },
    {
      "cell_type": "code",
      "metadata": {
        "id": "c-Ac0zO_BeYT",
        "outputId": "b7c0c745-b094-48ad-e53e-81d4b18f2f71",
        "colab": {
          "base_uri": "https://localhost:8080/"
        }
      },
      "source": [
        "rules = apriori(data, 1)\n",
        "rules"
      ],
      "id": "c-Ac0zO_BeYT",
      "execution_count": 28,
      "outputs": [
        {
          "output_type": "execute_result",
          "data": {
            "text/plain": [
              "[]"
            ]
          },
          "metadata": {},
          "execution_count": 28
        }
      ]
    },
    {
      "cell_type": "markdown",
      "metadata": {
        "id": "z3NcLCryldUa"
      },
      "source": [
        "# Demo FP Growht"
      ],
      "id": "z3NcLCryldUa"
    },
    {
      "cell_type": "code",
      "metadata": {
        "id": "Fz6FTwiSlgtB"
      },
      "source": [
        "from pyspark.ml.fpm import FPGrowth\n",
        "fpGrowth = FPGrowth(itemsCol=\"nconsts\", minSupport=0.0001, minConfidence=0.0001)\n",
        "model = fpGrowth.fit(basket_data)"
      ],
      "id": "Fz6FTwiSlgtB",
      "execution_count": null,
      "outputs": []
    },
    {
      "cell_type": "code",
      "metadata": {
        "id": "3oM56a8Jmjnb",
        "colab": {
          "base_uri": "https://localhost:8080/"
        },
        "outputId": "fea73ff3-9a02-4d1d-bb44-7bbd907c6fa3"
      },
      "source": [
        "# Display frequent itemsets.\n",
        "model.freqItemsets.show()\n",
        "items = model.freqItemsets"
      ],
      "id": "3oM56a8Jmjnb",
      "execution_count": null,
      "outputs": [
        {
          "output_type": "stream",
          "name": "stdout",
          "text": [
            "+--------------------+----+\n",
            "|               items|freq|\n",
            "+--------------------+----+\n",
            "|         [nm1388202]| 153|\n",
            "|         [nm1246350]|  46|\n",
            "|         [nm0430646]| 120|\n",
            "|[nm0430646, nm000...|  66|\n",
            "|         [nm1800631]| 104|\n",
            "|         [nm0260020]|  62|\n",
            "|         [nm0924307]|  59|\n",
            "|         [nm0870317]|  45|\n",
            "|         [nm0011964]|  57|\n",
            "|         [nm1066974]|  43|\n",
            "|         [nm0320760]|  92|\n",
            "|         [nm0575655]|  42|\n",
            "|         [nm0022081]|  84|\n",
            "|         [nm0576762]|  78|\n",
            "|         [nm0463590]|  55|\n",
            "|         [nm0350524]|  53|\n",
            "|         [nm0215260]|  41|\n",
            "|         [nm0457554]|  51|\n",
            "|         [nm0640307]|  40|\n",
            "|         [nm0007102]|  73|\n",
            "+--------------------+----+\n",
            "only showing top 20 rows\n",
            "\n"
          ]
        }
      ]
    },
    {
      "cell_type": "code",
      "metadata": {
        "id": "Ka2nZvdMmjzL",
        "colab": {
          "base_uri": "https://localhost:8080/"
        },
        "outputId": "98aafa8d-cbc7-47d3-fe22-260bc888c192"
      },
      "source": [
        "# Display generated association rules.\n",
        "model.associationRules.show()\n",
        "rules = model.associationRules"
      ],
      "id": "Ka2nZvdMmjzL",
      "execution_count": null,
      "outputs": [
        {
          "output_type": "stream",
          "name": "stdout",
          "text": [
            "+--------------------+-----------+-------------------+------------------+--------------------+\n",
            "|          antecedent| consequent|         confidence|              lift|             support|\n",
            "+--------------------+-----------+-------------------+------------------+--------------------+\n",
            "|[nm1467390, nm062...|[nm0006982]| 0.7333333333333333| 493.4719088319088|1.117727152640884...|\n",
            "|         [nm1720239]|[nm0628736]|          0.3359375| 905.7795376712329|1.092324262808137...|\n",
            "|         [nm1720239]|[nm1908630]|              0.375| 1190.491935483871|1.219338711971873...|\n",
            "|         [nm0103977]|[nm0019382]|0.10150375939849623|175.25247328848437|2.057634076452537...|\n",
            "|         [nm0103977]|[nm0004469]|0.06892230576441102|150.73155109997214|1.397158940801105...|\n",
            "|         [nm0103977]|[nm0080238]|0.06140350877192982| 137.3401116427432|1.244741601804621...|\n",
            "|         [nm0103977]|[nm0707399]|0.06766917293233082|163.42561926288113|1.371756050968358...|\n",
            "|         [nm0620630]|[nm0707901]| 0.2903225806451613| 828.1683029453017|1.371756050968358...|\n",
            "|         [nm0620630]|[nm0304262]| 0.2903225806451613|353.83042045341057|1.371756050968358...|\n",
            "|         [nm0620630]|[nm0619309]|0.23655913978494625|297.51733140952973|1.117727152640884...|\n",
            "|         [nm7390393]|[nm0304262]|0.17746478873239438|216.28507391095803|1.600382059463084...|\n",
            "|         [nm7390393]|[nm0619309]|0.17746478873239438|223.19514017009408|1.600382059463084...|\n",
            "|         [nm2384746]|[nm2367854]| 0.4025974025974026|2058.2452352841965|1.574979169630337E-4|\n",
            "|         [nm2384746]|[nm2366585]| 0.6233766233766234|1185.4876717485413|2.438677423943747...|\n",
            "|         [nm2384746]|[nm1698868]|  0.538961038961039|1205.4843565525384|2.108439856118032E-4|\n",
            "|         [nm0007123]|[nm0482320]|0.10761154855643044|123.14515046084355|1.041518483142642...|\n",
            "|         [nm0619758]|[nm0619779]| 0.3333333333333333|504.68717948717944|1.041518483142642...|\n",
            "|         [nm0619758]|[nm0623427]| 0.3252032520325203|292.27902142035117|1.016115593309895E-4|\n",
            "|         [nm0619758]|[nm0006982]| 0.3902439024390244| 262.6014592453617|1.219338711971873...|\n",
            "|         [nm0246703]|[nm1047761]|0.10485933503836317|352.80774695608454|1.041518483142642...|\n",
            "+--------------------+-----------+-------------------+------------------+--------------------+\n",
            "only showing top 20 rows\n",
            "\n"
          ]
        }
      ]
    },
    {
      "cell_type": "code",
      "metadata": {
        "id": "Hnnm_GJMmj4h",
        "colab": {
          "base_uri": "https://localhost:8080/"
        },
        "outputId": "502b7d98-4148-4a24-8c34-1c3448ffd75c"
      },
      "source": [
        "# transform examines the input items against all the association rules and summarize the consequents as prediction\n",
        "model.transform(basket_data).show()\n",
        "transformed = model.transform(basket_data)"
      ],
      "id": "Hnnm_GJMmj4h",
      "execution_count": null,
      "outputs": [
        {
          "output_type": "stream",
          "name": "stdout",
          "text": [
            "+---------+--------------------+----------+\n",
            "|   tconst|             nconsts|prediction|\n",
            "+---------+--------------------+----------+\n",
            "|tt0000009|[nm0063086, nm018...|        []|\n",
            "|tt0000335|[nm1010955, nm101...|        []|\n",
            "|tt0000502|[nm0215752, nm025...|        []|\n",
            "|tt0000574|[nm0846887, nm084...|        []|\n",
            "|tt0000615|[nm3071427, nm058...|        []|\n",
            "|tt0000630|         [nm0624446]|        []|\n",
            "|tt0000676|[nm0097421, nm014...|        []|\n",
            "|tt0000679|[nm0000875, nm012...|        []|\n",
            "|tt0000793|         [nm0691995]|        []|\n",
            "|tt0000862|[nm5289318, nm528...|        []|\n",
            "|tt0000886|         [nm0609814]|        []|\n",
            "|tt0000891|[nm0727622, nm081...|        []|\n",
            "|tt0000941|[nm0034453, nm014...|        []|\n",
            "|tt0000947|[nm0488932, nm081...|        []|\n",
            "|tt0000992|         [nm0119164]|        []|\n",
            "|tt0001049|[nm1834127, nm010...|        []|\n",
            "|tt0001101|         [nm0923594]|        []|\n",
            "|tt0001112|[nm0135493, nm014...|        []|\n",
            "|tt0001115|[nm0630641, nm006...|        []|\n",
            "|tt0001116|[nm0736379, nm006...|        []|\n",
            "+---------+--------------------+----------+\n",
            "only showing top 20 rows\n",
            "\n"
          ]
        }
      ]
    },
    {
      "cell_type": "code",
      "metadata": {
        "id": "y6IRRQKJ2rF7"
      },
      "source": [
        ""
      ],
      "id": "y6IRRQKJ2rF7",
      "execution_count": null,
      "outputs": []
    },
    {
      "cell_type": "markdown",
      "metadata": {
        "id": "Acn29Pgj2rY3"
      },
      "source": [
        "# Demo Antonio"
      ],
      "id": "Acn29Pgj2rY3"
    },
    {
      "cell_type": "code",
      "metadata": {
        "id": "yhiddpa3kiQR"
      },
      "source": [
        "import pandas as pd"
      ],
      "id": "yhiddpa3kiQR",
      "execution_count": null,
      "outputs": []
    },
    {
      "cell_type": "markdown",
      "metadata": {
        "id": "QDn6fZxXA6Fs"
      },
      "source": [
        "Lets try to load some data in a Pandas Dataframe"
      ],
      "id": "QDn6fZxXA6Fs"
    },
    {
      "cell_type": "code",
      "metadata": {
        "id": "EB6Fpgfa1El1"
      },
      "source": [
        "actors_cols = {\n",
        "    \"original\": [\n",
        "        \"nconst\",  # actor unique id\n",
        "        \"knownForTitles\"  # move he/she is in\n",
        "    ],\n",
        "    \"renamed\": [\"actorId\", \"titles\"]\n",
        "}\n",
        "\n",
        "actors_df = pd.read_csv(\n",
        "    \"name.basics.tsv.gz\",\n",
        "    compression=\"gzip\",\n",
        "    sep='\\t',\n",
        "    usecols=actors_cols[\"original\"]\n",
        ")\n",
        "\n",
        "# clean and pre-process\n",
        "actors_df.columns = actors_cols[\"renamed\"]\n",
        "actors_df.drop(actors_df[actors_df.titles == \"\\\\N\"].index, inplace=True)\n",
        "actors_df.titles = actors_df.titles.apply(lambda x: x.split(\",\"))"
      ],
      "id": "EB6Fpgfa1El1",
      "execution_count": null,
      "outputs": []
    },
    {
      "cell_type": "code",
      "metadata": {
        "id": "lqBeMA_JqHQS",
        "colab": {
          "base_uri": "https://localhost:8080/",
          "height": 414
        },
        "outputId": "e1474d06-6dcd-4ffd-c805-b99fd815e00a"
      },
      "source": [
        "actors_df"
      ],
      "id": "lqBeMA_JqHQS",
      "execution_count": null,
      "outputs": [
        {
          "output_type": "execute_result",
          "data": {
            "text/html": [
              "<div>\n",
              "<style scoped>\n",
              "    .dataframe tbody tr th:only-of-type {\n",
              "        vertical-align: middle;\n",
              "    }\n",
              "\n",
              "    .dataframe tbody tr th {\n",
              "        vertical-align: top;\n",
              "    }\n",
              "\n",
              "    .dataframe thead th {\n",
              "        text-align: right;\n",
              "    }\n",
              "</style>\n",
              "<table border=\"1\" class=\"dataframe\">\n",
              "  <thead>\n",
              "    <tr style=\"text-align: right;\">\n",
              "      <th></th>\n",
              "      <th>actorId</th>\n",
              "      <th>titles</th>\n",
              "    </tr>\n",
              "  </thead>\n",
              "  <tbody>\n",
              "    <tr>\n",
              "      <th>0</th>\n",
              "      <td>nm0000001</td>\n",
              "      <td>[tt0050419, tt0053137, tt0043044, tt0072308]</td>\n",
              "    </tr>\n",
              "    <tr>\n",
              "      <th>1</th>\n",
              "      <td>nm0000002</td>\n",
              "      <td>[tt0117057, tt0037382, tt0071877, tt0038355]</td>\n",
              "    </tr>\n",
              "    <tr>\n",
              "      <th>2</th>\n",
              "      <td>nm0000003</td>\n",
              "      <td>[tt0049189, tt0059956, tt0054452, tt0057345]</td>\n",
              "    </tr>\n",
              "    <tr>\n",
              "      <th>3</th>\n",
              "      <td>nm0000004</td>\n",
              "      <td>[tt0078723, tt0080455, tt0072562, tt0077975]</td>\n",
              "    </tr>\n",
              "    <tr>\n",
              "      <th>4</th>\n",
              "      <td>nm0000005</td>\n",
              "      <td>[tt0050986, tt0083922, tt0069467, tt0050976]</td>\n",
              "    </tr>\n",
              "    <tr>\n",
              "      <th>...</th>\n",
              "      <td>...</td>\n",
              "      <td>...</td>\n",
              "    </tr>\n",
              "    <tr>\n",
              "      <th>9711011</th>\n",
              "      <td>nm9993708</td>\n",
              "      <td>[tt9046122, tt8744286]</td>\n",
              "    </tr>\n",
              "    <tr>\n",
              "      <th>9711012</th>\n",
              "      <td>nm9993709</td>\n",
              "      <td>[tt8744286]</td>\n",
              "    </tr>\n",
              "    <tr>\n",
              "      <th>9711016</th>\n",
              "      <td>nm9993713</td>\n",
              "      <td>[tt8325250]</td>\n",
              "    </tr>\n",
              "    <tr>\n",
              "      <th>9711017</th>\n",
              "      <td>nm9993714</td>\n",
              "      <td>[tt2455546]</td>\n",
              "    </tr>\n",
              "    <tr>\n",
              "      <th>9711019</th>\n",
              "      <td>nm9993717</td>\n",
              "      <td>[tt8736744]</td>\n",
              "    </tr>\n",
              "  </tbody>\n",
              "</table>\n",
              "<p>8019620 rows × 2 columns</p>\n",
              "</div>"
            ],
            "text/plain": [
              "           actorId                                        titles\n",
              "0        nm0000001  [tt0050419, tt0053137, tt0043044, tt0072308]\n",
              "1        nm0000002  [tt0117057, tt0037382, tt0071877, tt0038355]\n",
              "2        nm0000003  [tt0049189, tt0059956, tt0054452, tt0057345]\n",
              "3        nm0000004  [tt0078723, tt0080455, tt0072562, tt0077975]\n",
              "4        nm0000005  [tt0050986, tt0083922, tt0069467, tt0050976]\n",
              "...            ...                                           ...\n",
              "9711011  nm9993708                        [tt9046122, tt8744286]\n",
              "9711012  nm9993709                                   [tt8744286]\n",
              "9711016  nm9993713                                   [tt8325250]\n",
              "9711017  nm9993714                                   [tt2455546]\n",
              "9711019  nm9993717                                   [tt8736744]\n",
              "\n",
              "[8019620 rows x 2 columns]"
            ]
          },
          "metadata": {},
          "execution_count": 9
        }
      ]
    },
    {
      "cell_type": "code",
      "metadata": {
        "id": "4Ddwv9h4kiQR"
      },
      "source": [
        "def apriori(transactions, support_threshold):\n",
        "    singleton_counter = []\n",
        "    lookup_index_table = {}\n",
        "    reverse_lookup_index_table = {}\n",
        "\n",
        "    # count singletons\n",
        "    for bucket in transactions:\n",
        "        for elem in bucket:\n",
        "            if elem not in lookup_index_table:\n",
        "                # The newly discovered element is appended on the tail of the array counter\n",
        "                lookup_index_table[elem] = len(singleton_counter)\n",
        "                reverse_lookup_index_table[len(singleton_counter)] = elem\n",
        "                singleton_counter.append(0)\n",
        "\n",
        "            idx = lookup_index_table[elem]\n",
        "            singleton_counter[idx] += 1\n",
        "\n",
        "    frequent_items_table = [i for i,v in enumerate(singleton_counter) if v > support_threshold]\n",
        "\n",
        "    # count pairs\n",
        "    pair_counter = {}\n",
        "    for bucket in transactions:\n",
        "        frequent_items = [lookup_index_table[item] for item in bucket \n",
        "                          if lookup_index_table[item] in frequent_items_table]\n",
        "\n",
        "        for x in frequent_items:\n",
        "            for y in frequent_items:\n",
        "                if x<y:\n",
        "                    pair_counter[(x,y)] = pair_counter.get((x,y), 0) +1 \n",
        "\n",
        "    return [list(map(lambda x: reverse_lookup_index_table[x], i)) for i,c in pair_counter.items() \n",
        "            if c > support_threshold] "
      ],
      "id": "4Ddwv9h4kiQR",
      "execution_count": null,
      "outputs": []
    },
    {
      "cell_type": "code",
      "metadata": {
        "id": "CIQAUaiDkiQS",
        "outputId": "2d384a26-1075-40a4-9059-f8ddd57ec56f"
      },
      "source": [
        "# test\n",
        "rules = apriori(actors_df.titles, 300)\n",
        "\n",
        "movies_df = pd.read_csv(\"title.basics.tsv.gz\", compression='gzip', sep='\\t')\n",
        "from IPython.display import display\n",
        "\n",
        "for x,y in rules:\n",
        "    display(movies_df.loc[((movies_df.tconst == x) | (movies_df.tconst == y))])"
      ],
      "id": "CIQAUaiDkiQS",
      "execution_count": null,
      "outputs": [
        {
          "name": "stderr",
          "output_type": "stream",
          "text": [
            "/home/anto/anaconda3/lib/python3.8/site-packages/IPython/core/interactiveshell.py:3146: DtypeWarning: Columns (5) have mixed types.Specify dtype option on import or set low_memory=False.\n",
            "  has_raised = await self.run_ast_nodes(code_ast.body, cell_name,\n"
          ]
        },
        {
          "data": {
            "text/html": [
              "<div>\n",
              "<style scoped>\n",
              "    .dataframe tbody tr th:only-of-type {\n",
              "        vertical-align: middle;\n",
              "    }\n",
              "\n",
              "    .dataframe tbody tr th {\n",
              "        vertical-align: top;\n",
              "    }\n",
              "\n",
              "    .dataframe thead th {\n",
              "        text-align: right;\n",
              "    }\n",
              "</style>\n",
              "<table border=\"1\" class=\"dataframe\">\n",
              "  <thead>\n",
              "    <tr style=\"text-align: right;\">\n",
              "      <th></th>\n",
              "      <th>tconst</th>\n",
              "      <th>titleType</th>\n",
              "      <th>primaryTitle</th>\n",
              "      <th>originalTitle</th>\n",
              "      <th>isAdult</th>\n",
              "      <th>startYear</th>\n",
              "      <th>endYear</th>\n",
              "      <th>runtimeMinutes</th>\n",
              "      <th>genres</th>\n",
              "    </tr>\n",
              "  </thead>\n",
              "  <tbody>\n",
              "    <tr>\n",
              "      <th>117965</th>\n",
              "      <td>tt0120737</td>\n",
              "      <td>movie</td>\n",
              "      <td>The Lord of the Rings: The Fellowship of the Ring</td>\n",
              "      <td>The Lord of the Rings: The Fellowship of the Ring</td>\n",
              "      <td>0</td>\n",
              "      <td>2001</td>\n",
              "      <td>\\N</td>\n",
              "      <td>178</td>\n",
              "      <td>Adventure,Drama,Fantasy</td>\n",
              "    </tr>\n",
              "    <tr>\n",
              "      <th>161829</th>\n",
              "      <td>tt0167260</td>\n",
              "      <td>movie</td>\n",
              "      <td>The Lord of the Rings: The Return of the King</td>\n",
              "      <td>The Lord of the Rings: The Return of the King</td>\n",
              "      <td>0</td>\n",
              "      <td>2003</td>\n",
              "      <td>\\N</td>\n",
              "      <td>201</td>\n",
              "      <td>Adventure,Drama,Fantasy</td>\n",
              "    </tr>\n",
              "  </tbody>\n",
              "</table>\n",
              "</div>"
            ],
            "text/plain": [
              "           tconst titleType  \\\n",
              "117965  tt0120737     movie   \n",
              "161829  tt0167260     movie   \n",
              "\n",
              "                                             primaryTitle  \\\n",
              "117965  The Lord of the Rings: The Fellowship of the Ring   \n",
              "161829      The Lord of the Rings: The Return of the King   \n",
              "\n",
              "                                            originalTitle  isAdult startYear  \\\n",
              "117965  The Lord of the Rings: The Fellowship of the Ring        0      2001   \n",
              "161829      The Lord of the Rings: The Return of the King        0      2003   \n",
              "\n",
              "       endYear runtimeMinutes                   genres  \n",
              "117965      \\N            178  Adventure,Drama,Fantasy  \n",
              "161829      \\N            201  Adventure,Drama,Fantasy  "
            ]
          },
          "metadata": {},
          "output_type": "display_data"
        },
        {
          "data": {
            "text/html": [
              "<div>\n",
              "<style scoped>\n",
              "    .dataframe tbody tr th:only-of-type {\n",
              "        vertical-align: middle;\n",
              "    }\n",
              "\n",
              "    .dataframe tbody tr th {\n",
              "        vertical-align: top;\n",
              "    }\n",
              "\n",
              "    .dataframe thead th {\n",
              "        text-align: right;\n",
              "    }\n",
              "</style>\n",
              "<table border=\"1\" class=\"dataframe\">\n",
              "  <thead>\n",
              "    <tr style=\"text-align: right;\">\n",
              "      <th></th>\n",
              "      <th>tconst</th>\n",
              "      <th>titleType</th>\n",
              "      <th>primaryTitle</th>\n",
              "      <th>originalTitle</th>\n",
              "      <th>isAdult</th>\n",
              "      <th>startYear</th>\n",
              "      <th>endYear</th>\n",
              "      <th>runtimeMinutes</th>\n",
              "      <th>genres</th>\n",
              "    </tr>\n",
              "  </thead>\n",
              "  <tbody>\n",
              "    <tr>\n",
              "      <th>161829</th>\n",
              "      <td>tt0167260</td>\n",
              "      <td>movie</td>\n",
              "      <td>The Lord of the Rings: The Return of the King</td>\n",
              "      <td>The Lord of the Rings: The Return of the King</td>\n",
              "      <td>0</td>\n",
              "      <td>2003</td>\n",
              "      <td>\\N</td>\n",
              "      <td>201</td>\n",
              "      <td>Adventure,Drama,Fantasy</td>\n",
              "    </tr>\n",
              "    <tr>\n",
              "      <th>161830</th>\n",
              "      <td>tt0167261</td>\n",
              "      <td>movie</td>\n",
              "      <td>The Lord of the Rings: The Two Towers</td>\n",
              "      <td>The Lord of the Rings: The Two Towers</td>\n",
              "      <td>0</td>\n",
              "      <td>2002</td>\n",
              "      <td>\\N</td>\n",
              "      <td>179</td>\n",
              "      <td>Adventure,Drama,Fantasy</td>\n",
              "    </tr>\n",
              "  </tbody>\n",
              "</table>\n",
              "</div>"
            ],
            "text/plain": [
              "           tconst titleType                                   primaryTitle  \\\n",
              "161829  tt0167260     movie  The Lord of the Rings: The Return of the King   \n",
              "161830  tt0167261     movie          The Lord of the Rings: The Two Towers   \n",
              "\n",
              "                                        originalTitle  isAdult startYear  \\\n",
              "161829  The Lord of the Rings: The Return of the King        0      2003   \n",
              "161830          The Lord of the Rings: The Two Towers        0      2002   \n",
              "\n",
              "       endYear runtimeMinutes                   genres  \n",
              "161829      \\N            201  Adventure,Drama,Fantasy  \n",
              "161830      \\N            179  Adventure,Drama,Fantasy  "
            ]
          },
          "metadata": {},
          "output_type": "display_data"
        },
        {
          "data": {
            "text/html": [
              "<div>\n",
              "<style scoped>\n",
              "    .dataframe tbody tr th:only-of-type {\n",
              "        vertical-align: middle;\n",
              "    }\n",
              "\n",
              "    .dataframe tbody tr th {\n",
              "        vertical-align: top;\n",
              "    }\n",
              "\n",
              "    .dataframe thead th {\n",
              "        text-align: right;\n",
              "    }\n",
              "</style>\n",
              "<table border=\"1\" class=\"dataframe\">\n",
              "  <thead>\n",
              "    <tr style=\"text-align: right;\">\n",
              "      <th></th>\n",
              "      <th>tconst</th>\n",
              "      <th>titleType</th>\n",
              "      <th>primaryTitle</th>\n",
              "      <th>originalTitle</th>\n",
              "      <th>isAdult</th>\n",
              "      <th>startYear</th>\n",
              "      <th>endYear</th>\n",
              "      <th>runtimeMinutes</th>\n",
              "      <th>genres</th>\n",
              "    </tr>\n",
              "  </thead>\n",
              "  <tbody>\n",
              "    <tr>\n",
              "      <th>117965</th>\n",
              "      <td>tt0120737</td>\n",
              "      <td>movie</td>\n",
              "      <td>The Lord of the Rings: The Fellowship of the Ring</td>\n",
              "      <td>The Lord of the Rings: The Fellowship of the Ring</td>\n",
              "      <td>0</td>\n",
              "      <td>2001</td>\n",
              "      <td>\\N</td>\n",
              "      <td>178</td>\n",
              "      <td>Adventure,Drama,Fantasy</td>\n",
              "    </tr>\n",
              "    <tr>\n",
              "      <th>161830</th>\n",
              "      <td>tt0167261</td>\n",
              "      <td>movie</td>\n",
              "      <td>The Lord of the Rings: The Two Towers</td>\n",
              "      <td>The Lord of the Rings: The Two Towers</td>\n",
              "      <td>0</td>\n",
              "      <td>2002</td>\n",
              "      <td>\\N</td>\n",
              "      <td>179</td>\n",
              "      <td>Adventure,Drama,Fantasy</td>\n",
              "    </tr>\n",
              "  </tbody>\n",
              "</table>\n",
              "</div>"
            ],
            "text/plain": [
              "           tconst titleType  \\\n",
              "117965  tt0120737     movie   \n",
              "161830  tt0167261     movie   \n",
              "\n",
              "                                             primaryTitle  \\\n",
              "117965  The Lord of the Rings: The Fellowship of the Ring   \n",
              "161830              The Lord of the Rings: The Two Towers   \n",
              "\n",
              "                                            originalTitle  isAdult startYear  \\\n",
              "117965  The Lord of the Rings: The Fellowship of the Ring        0      2001   \n",
              "161830              The Lord of the Rings: The Two Towers        0      2002   \n",
              "\n",
              "       endYear runtimeMinutes                   genres  \n",
              "117965      \\N            178  Adventure,Drama,Fantasy  \n",
              "161830      \\N            179  Adventure,Drama,Fantasy  "
            ]
          },
          "metadata": {},
          "output_type": "display_data"
        },
        {
          "data": {
            "text/html": [
              "<div>\n",
              "<style scoped>\n",
              "    .dataframe tbody tr th:only-of-type {\n",
              "        vertical-align: middle;\n",
              "    }\n",
              "\n",
              "    .dataframe tbody tr th {\n",
              "        vertical-align: top;\n",
              "    }\n",
              "\n",
              "    .dataframe thead th {\n",
              "        text-align: right;\n",
              "    }\n",
              "</style>\n",
              "<table border=\"1\" class=\"dataframe\">\n",
              "  <thead>\n",
              "    <tr style=\"text-align: right;\">\n",
              "      <th></th>\n",
              "      <th>tconst</th>\n",
              "      <th>titleType</th>\n",
              "      <th>primaryTitle</th>\n",
              "      <th>originalTitle</th>\n",
              "      <th>isAdult</th>\n",
              "      <th>startYear</th>\n",
              "      <th>endYear</th>\n",
              "      <th>runtimeMinutes</th>\n",
              "      <th>genres</th>\n",
              "    </tr>\n",
              "  </thead>\n",
              "  <tbody>\n",
              "    <tr>\n",
              "      <th>3674370</th>\n",
              "      <td>tt4154756</td>\n",
              "      <td>movie</td>\n",
              "      <td>Avengers: Infinity War</td>\n",
              "      <td>Avengers: Infinity War</td>\n",
              "      <td>0</td>\n",
              "      <td>2018</td>\n",
              "      <td>\\N</td>\n",
              "      <td>149</td>\n",
              "      <td>Action,Adventure,Sci-Fi</td>\n",
              "    </tr>\n",
              "    <tr>\n",
              "      <th>3674389</th>\n",
              "      <td>tt4154796</td>\n",
              "      <td>movie</td>\n",
              "      <td>Avengers: Endgame</td>\n",
              "      <td>Avengers: Endgame</td>\n",
              "      <td>0</td>\n",
              "      <td>2019</td>\n",
              "      <td>\\N</td>\n",
              "      <td>181</td>\n",
              "      <td>Action,Adventure,Drama</td>\n",
              "    </tr>\n",
              "  </tbody>\n",
              "</table>\n",
              "</div>"
            ],
            "text/plain": [
              "            tconst titleType            primaryTitle           originalTitle  \\\n",
              "3674370  tt4154756     movie  Avengers: Infinity War  Avengers: Infinity War   \n",
              "3674389  tt4154796     movie       Avengers: Endgame       Avengers: Endgame   \n",
              "\n",
              "         isAdult startYear endYear runtimeMinutes                   genres  \n",
              "3674370        0      2018      \\N            149  Action,Adventure,Sci-Fi  \n",
              "3674389        0      2019      \\N            181   Action,Adventure,Drama  "
            ]
          },
          "metadata": {},
          "output_type": "display_data"
        },
        {
          "data": {
            "text/html": [
              "<div>\n",
              "<style scoped>\n",
              "    .dataframe tbody tr th:only-of-type {\n",
              "        vertical-align: middle;\n",
              "    }\n",
              "\n",
              "    .dataframe tbody tr th {\n",
              "        vertical-align: top;\n",
              "    }\n",
              "\n",
              "    .dataframe thead th {\n",
              "        text-align: right;\n",
              "    }\n",
              "</style>\n",
              "<table border=\"1\" class=\"dataframe\">\n",
              "  <thead>\n",
              "    <tr style=\"text-align: right;\">\n",
              "      <th></th>\n",
              "      <th>tconst</th>\n",
              "      <th>titleType</th>\n",
              "      <th>primaryTitle</th>\n",
              "      <th>originalTitle</th>\n",
              "      <th>isAdult</th>\n",
              "      <th>startYear</th>\n",
              "      <th>endYear</th>\n",
              "      <th>runtimeMinutes</th>\n",
              "      <th>genres</th>\n",
              "    </tr>\n",
              "  </thead>\n",
              "  <tbody>\n",
              "    <tr>\n",
              "      <th>806227</th>\n",
              "      <td>tt0831387</td>\n",
              "      <td>movie</td>\n",
              "      <td>Godzilla</td>\n",
              "      <td>Godzilla</td>\n",
              "      <td>0</td>\n",
              "      <td>2014</td>\n",
              "      <td>\\N</td>\n",
              "      <td>123</td>\n",
              "      <td>Action,Adventure,Sci-Fi</td>\n",
              "    </tr>\n",
              "    <tr>\n",
              "      <th>2570231</th>\n",
              "      <td>tt2015381</td>\n",
              "      <td>movie</td>\n",
              "      <td>Guardians of the Galaxy</td>\n",
              "      <td>Guardians of the Galaxy</td>\n",
              "      <td>0</td>\n",
              "      <td>2014</td>\n",
              "      <td>\\N</td>\n",
              "      <td>121</td>\n",
              "      <td>Action,Adventure,Comedy</td>\n",
              "    </tr>\n",
              "  </tbody>\n",
              "</table>\n",
              "</div>"
            ],
            "text/plain": [
              "            tconst titleType             primaryTitle  \\\n",
              "806227   tt0831387     movie                 Godzilla   \n",
              "2570231  tt2015381     movie  Guardians of the Galaxy   \n",
              "\n",
              "                   originalTitle  isAdult startYear endYear runtimeMinutes  \\\n",
              "806227                  Godzilla        0      2014      \\N            123   \n",
              "2570231  Guardians of the Galaxy        0      2014      \\N            121   \n",
              "\n",
              "                          genres  \n",
              "806227   Action,Adventure,Sci-Fi  \n",
              "2570231  Action,Adventure,Comedy  "
            ]
          },
          "metadata": {},
          "output_type": "display_data"
        },
        {
          "data": {
            "text/html": [
              "<div>\n",
              "<style scoped>\n",
              "    .dataframe tbody tr th:only-of-type {\n",
              "        vertical-align: middle;\n",
              "    }\n",
              "\n",
              "    .dataframe tbody tr th {\n",
              "        vertical-align: top;\n",
              "    }\n",
              "\n",
              "    .dataframe thead th {\n",
              "        text-align: right;\n",
              "    }\n",
              "</style>\n",
              "<table border=\"1\" class=\"dataframe\">\n",
              "  <thead>\n",
              "    <tr style=\"text-align: right;\">\n",
              "      <th></th>\n",
              "      <th>tconst</th>\n",
              "      <th>titleType</th>\n",
              "      <th>primaryTitle</th>\n",
              "      <th>originalTitle</th>\n",
              "      <th>isAdult</th>\n",
              "      <th>startYear</th>\n",
              "      <th>endYear</th>\n",
              "      <th>runtimeMinutes</th>\n",
              "      <th>genres</th>\n",
              "    </tr>\n",
              "  </thead>\n",
              "  <tbody>\n",
              "    <tr>\n",
              "      <th>2973307</th>\n",
              "      <td>tt2527336</td>\n",
              "      <td>movie</td>\n",
              "      <td>Star Wars: Episode VIII - The Last Jedi</td>\n",
              "      <td>Star Wars: Episode VIII - The Last Jedi</td>\n",
              "      <td>0</td>\n",
              "      <td>2017</td>\n",
              "      <td>\\N</td>\n",
              "      <td>152</td>\n",
              "      <td>Action,Adventure,Fantasy</td>\n",
              "    </tr>\n",
              "    <tr>\n",
              "      <th>3492744</th>\n",
              "      <td>tt3748528</td>\n",
              "      <td>movie</td>\n",
              "      <td>Rogue One: A Star Wars Story</td>\n",
              "      <td>Rogue One</td>\n",
              "      <td>0</td>\n",
              "      <td>2016</td>\n",
              "      <td>\\N</td>\n",
              "      <td>133</td>\n",
              "      <td>Action,Adventure,Sci-Fi</td>\n",
              "    </tr>\n",
              "  </tbody>\n",
              "</table>\n",
              "</div>"
            ],
            "text/plain": [
              "            tconst titleType                             primaryTitle  \\\n",
              "2973307  tt2527336     movie  Star Wars: Episode VIII - The Last Jedi   \n",
              "3492744  tt3748528     movie             Rogue One: A Star Wars Story   \n",
              "\n",
              "                                   originalTitle  isAdult startYear endYear  \\\n",
              "2973307  Star Wars: Episode VIII - The Last Jedi        0      2017      \\N   \n",
              "3492744                                Rogue One        0      2016      \\N   \n",
              "\n",
              "        runtimeMinutes                    genres  \n",
              "2973307            152  Action,Adventure,Fantasy  \n",
              "3492744            133   Action,Adventure,Sci-Fi  "
            ]
          },
          "metadata": {},
          "output_type": "display_data"
        },
        {
          "data": {
            "text/html": [
              "<div>\n",
              "<style scoped>\n",
              "    .dataframe tbody tr th:only-of-type {\n",
              "        vertical-align: middle;\n",
              "    }\n",
              "\n",
              "    .dataframe tbody tr th {\n",
              "        vertical-align: top;\n",
              "    }\n",
              "\n",
              "    .dataframe thead th {\n",
              "        text-align: right;\n",
              "    }\n",
              "</style>\n",
              "<table border=\"1\" class=\"dataframe\">\n",
              "  <thead>\n",
              "    <tr style=\"text-align: right;\">\n",
              "      <th></th>\n",
              "      <th>tconst</th>\n",
              "      <th>titleType</th>\n",
              "      <th>primaryTitle</th>\n",
              "      <th>originalTitle</th>\n",
              "      <th>isAdult</th>\n",
              "      <th>startYear</th>\n",
              "      <th>endYear</th>\n",
              "      <th>runtimeMinutes</th>\n",
              "      <th>genres</th>\n",
              "    </tr>\n",
              "  </thead>\n",
              "  <tbody>\n",
              "    <tr>\n",
              "      <th>2958034</th>\n",
              "      <td>tt2488496</td>\n",
              "      <td>movie</td>\n",
              "      <td>Star Wars: Episode VII - The Force Awakens</td>\n",
              "      <td>Star Wars: Episode VII - The Force Awakens</td>\n",
              "      <td>0</td>\n",
              "      <td>2015</td>\n",
              "      <td>\\N</td>\n",
              "      <td>138</td>\n",
              "      <td>Action,Adventure,Sci-Fi</td>\n",
              "    </tr>\n",
              "    <tr>\n",
              "      <th>3492744</th>\n",
              "      <td>tt3748528</td>\n",
              "      <td>movie</td>\n",
              "      <td>Rogue One: A Star Wars Story</td>\n",
              "      <td>Rogue One</td>\n",
              "      <td>0</td>\n",
              "      <td>2016</td>\n",
              "      <td>\\N</td>\n",
              "      <td>133</td>\n",
              "      <td>Action,Adventure,Sci-Fi</td>\n",
              "    </tr>\n",
              "  </tbody>\n",
              "</table>\n",
              "</div>"
            ],
            "text/plain": [
              "            tconst titleType                                primaryTitle  \\\n",
              "2958034  tt2488496     movie  Star Wars: Episode VII - The Force Awakens   \n",
              "3492744  tt3748528     movie                Rogue One: A Star Wars Story   \n",
              "\n",
              "                                      originalTitle  isAdult startYear  \\\n",
              "2958034  Star Wars: Episode VII - The Force Awakens        0      2015   \n",
              "3492744                                   Rogue One        0      2016   \n",
              "\n",
              "        endYear runtimeMinutes                   genres  \n",
              "2958034      \\N            138  Action,Adventure,Sci-Fi  \n",
              "3492744      \\N            133  Action,Adventure,Sci-Fi  "
            ]
          },
          "metadata": {},
          "output_type": "display_data"
        },
        {
          "data": {
            "text/html": [
              "<div>\n",
              "<style scoped>\n",
              "    .dataframe tbody tr th:only-of-type {\n",
              "        vertical-align: middle;\n",
              "    }\n",
              "\n",
              "    .dataframe tbody tr th {\n",
              "        vertical-align: top;\n",
              "    }\n",
              "\n",
              "    .dataframe thead th {\n",
              "        text-align: right;\n",
              "    }\n",
              "</style>\n",
              "<table border=\"1\" class=\"dataframe\">\n",
              "  <thead>\n",
              "    <tr style=\"text-align: right;\">\n",
              "      <th></th>\n",
              "      <th>tconst</th>\n",
              "      <th>titleType</th>\n",
              "      <th>primaryTitle</th>\n",
              "      <th>originalTitle</th>\n",
              "      <th>isAdult</th>\n",
              "      <th>startYear</th>\n",
              "      <th>endYear</th>\n",
              "      <th>runtimeMinutes</th>\n",
              "      <th>genres</th>\n",
              "    </tr>\n",
              "  </thead>\n",
              "  <tbody>\n",
              "    <tr>\n",
              "      <th>3492744</th>\n",
              "      <td>tt3748528</td>\n",
              "      <td>movie</td>\n",
              "      <td>Rogue One: A Star Wars Story</td>\n",
              "      <td>Rogue One</td>\n",
              "      <td>0</td>\n",
              "      <td>2016</td>\n",
              "      <td>\\N</td>\n",
              "      <td>133</td>\n",
              "      <td>Action,Adventure,Sci-Fi</td>\n",
              "    </tr>\n",
              "    <tr>\n",
              "      <th>3505845</th>\n",
              "      <td>tt3778644</td>\n",
              "      <td>movie</td>\n",
              "      <td>Solo: A Star Wars Story</td>\n",
              "      <td>Solo: A Star Wars Story</td>\n",
              "      <td>0</td>\n",
              "      <td>2018</td>\n",
              "      <td>\\N</td>\n",
              "      <td>135</td>\n",
              "      <td>Action,Adventure,Sci-Fi</td>\n",
              "    </tr>\n",
              "  </tbody>\n",
              "</table>\n",
              "</div>"
            ],
            "text/plain": [
              "            tconst titleType                  primaryTitle  \\\n",
              "3492744  tt3748528     movie  Rogue One: A Star Wars Story   \n",
              "3505845  tt3778644     movie       Solo: A Star Wars Story   \n",
              "\n",
              "                   originalTitle  isAdult startYear endYear runtimeMinutes  \\\n",
              "3492744                Rogue One        0      2016      \\N            133   \n",
              "3505845  Solo: A Star Wars Story        0      2018      \\N            135   \n",
              "\n",
              "                          genres  \n",
              "3492744  Action,Adventure,Sci-Fi  \n",
              "3505845  Action,Adventure,Sci-Fi  "
            ]
          },
          "metadata": {},
          "output_type": "display_data"
        },
        {
          "data": {
            "text/html": [
              "<div>\n",
              "<style scoped>\n",
              "    .dataframe tbody tr th:only-of-type {\n",
              "        vertical-align: middle;\n",
              "    }\n",
              "\n",
              "    .dataframe tbody tr th {\n",
              "        vertical-align: top;\n",
              "    }\n",
              "\n",
              "    .dataframe thead th {\n",
              "        text-align: right;\n",
              "    }\n",
              "</style>\n",
              "<table border=\"1\" class=\"dataframe\">\n",
              "  <thead>\n",
              "    <tr style=\"text-align: right;\">\n",
              "      <th></th>\n",
              "      <th>tconst</th>\n",
              "      <th>titleType</th>\n",
              "      <th>primaryTitle</th>\n",
              "      <th>originalTitle</th>\n",
              "      <th>isAdult</th>\n",
              "      <th>startYear</th>\n",
              "      <th>endYear</th>\n",
              "      <th>runtimeMinutes</th>\n",
              "      <th>genres</th>\n",
              "    </tr>\n",
              "  </thead>\n",
              "  <tbody>\n",
              "    <tr>\n",
              "      <th>2973307</th>\n",
              "      <td>tt2527336</td>\n",
              "      <td>movie</td>\n",
              "      <td>Star Wars: Episode VIII - The Last Jedi</td>\n",
              "      <td>Star Wars: Episode VIII - The Last Jedi</td>\n",
              "      <td>0</td>\n",
              "      <td>2017</td>\n",
              "      <td>\\N</td>\n",
              "      <td>152</td>\n",
              "      <td>Action,Adventure,Fantasy</td>\n",
              "    </tr>\n",
              "    <tr>\n",
              "      <th>3505845</th>\n",
              "      <td>tt3778644</td>\n",
              "      <td>movie</td>\n",
              "      <td>Solo: A Star Wars Story</td>\n",
              "      <td>Solo: A Star Wars Story</td>\n",
              "      <td>0</td>\n",
              "      <td>2018</td>\n",
              "      <td>\\N</td>\n",
              "      <td>135</td>\n",
              "      <td>Action,Adventure,Sci-Fi</td>\n",
              "    </tr>\n",
              "  </tbody>\n",
              "</table>\n",
              "</div>"
            ],
            "text/plain": [
              "            tconst titleType                             primaryTitle  \\\n",
              "2973307  tt2527336     movie  Star Wars: Episode VIII - The Last Jedi   \n",
              "3505845  tt3778644     movie                  Solo: A Star Wars Story   \n",
              "\n",
              "                                   originalTitle  isAdult startYear endYear  \\\n",
              "2973307  Star Wars: Episode VIII - The Last Jedi        0      2017      \\N   \n",
              "3505845                  Solo: A Star Wars Story        0      2018      \\N   \n",
              "\n",
              "        runtimeMinutes                    genres  \n",
              "2973307            152  Action,Adventure,Fantasy  \n",
              "3505845            135   Action,Adventure,Sci-Fi  "
            ]
          },
          "metadata": {},
          "output_type": "display_data"
        },
        {
          "data": {
            "text/html": [
              "<div>\n",
              "<style scoped>\n",
              "    .dataframe tbody tr th:only-of-type {\n",
              "        vertical-align: middle;\n",
              "    }\n",
              "\n",
              "    .dataframe tbody tr th {\n",
              "        vertical-align: top;\n",
              "    }\n",
              "\n",
              "    .dataframe thead th {\n",
              "        text-align: right;\n",
              "    }\n",
              "</style>\n",
              "<table border=\"1\" class=\"dataframe\">\n",
              "  <thead>\n",
              "    <tr style=\"text-align: right;\">\n",
              "      <th></th>\n",
              "      <th>tconst</th>\n",
              "      <th>titleType</th>\n",
              "      <th>primaryTitle</th>\n",
              "      <th>originalTitle</th>\n",
              "      <th>isAdult</th>\n",
              "      <th>startYear</th>\n",
              "      <th>endYear</th>\n",
              "      <th>runtimeMinutes</th>\n",
              "      <th>genres</th>\n",
              "    </tr>\n",
              "  </thead>\n",
              "  <tbody>\n",
              "    <tr>\n",
              "      <th>2387413</th>\n",
              "      <td>tt1825683</td>\n",
              "      <td>movie</td>\n",
              "      <td>Black Panther</td>\n",
              "      <td>Black Panther</td>\n",
              "      <td>0</td>\n",
              "      <td>2018</td>\n",
              "      <td>\\N</td>\n",
              "      <td>134</td>\n",
              "      <td>Action,Adventure,Sci-Fi</td>\n",
              "    </tr>\n",
              "    <tr>\n",
              "      <th>3674389</th>\n",
              "      <td>tt4154796</td>\n",
              "      <td>movie</td>\n",
              "      <td>Avengers: Endgame</td>\n",
              "      <td>Avengers: Endgame</td>\n",
              "      <td>0</td>\n",
              "      <td>2019</td>\n",
              "      <td>\\N</td>\n",
              "      <td>181</td>\n",
              "      <td>Action,Adventure,Drama</td>\n",
              "    </tr>\n",
              "  </tbody>\n",
              "</table>\n",
              "</div>"
            ],
            "text/plain": [
              "            tconst titleType       primaryTitle      originalTitle  isAdult  \\\n",
              "2387413  tt1825683     movie      Black Panther      Black Panther        0   \n",
              "3674389  tt4154796     movie  Avengers: Endgame  Avengers: Endgame        0   \n",
              "\n",
              "        startYear endYear runtimeMinutes                   genres  \n",
              "2387413      2018      \\N            134  Action,Adventure,Sci-Fi  \n",
              "3674389      2019      \\N            181   Action,Adventure,Drama  "
            ]
          },
          "metadata": {},
          "output_type": "display_data"
        },
        {
          "data": {
            "text/html": [
              "<div>\n",
              "<style scoped>\n",
              "    .dataframe tbody tr th:only-of-type {\n",
              "        vertical-align: middle;\n",
              "    }\n",
              "\n",
              "    .dataframe tbody tr th {\n",
              "        vertical-align: top;\n",
              "    }\n",
              "\n",
              "    .dataframe thead th {\n",
              "        text-align: right;\n",
              "    }\n",
              "</style>\n",
              "<table border=\"1\" class=\"dataframe\">\n",
              "  <thead>\n",
              "    <tr style=\"text-align: right;\">\n",
              "      <th></th>\n",
              "      <th>tconst</th>\n",
              "      <th>titleType</th>\n",
              "      <th>primaryTitle</th>\n",
              "      <th>originalTitle</th>\n",
              "      <th>isAdult</th>\n",
              "      <th>startYear</th>\n",
              "      <th>endYear</th>\n",
              "      <th>runtimeMinutes</th>\n",
              "      <th>genres</th>\n",
              "    </tr>\n",
              "  </thead>\n",
              "  <tbody>\n",
              "    <tr>\n",
              "      <th>2508312</th>\n",
              "      <td>tt1951265</td>\n",
              "      <td>movie</td>\n",
              "      <td>The Hunger Games: Mockingjay - Part 1</td>\n",
              "      <td>The Hunger Games: Mockingjay - Part 1</td>\n",
              "      <td>0</td>\n",
              "      <td>2014</td>\n",
              "      <td>\\N</td>\n",
              "      <td>123</td>\n",
              "      <td>Action,Adventure,Sci-Fi</td>\n",
              "    </tr>\n",
              "    <tr>\n",
              "      <th>2508313</th>\n",
              "      <td>tt1951266</td>\n",
              "      <td>movie</td>\n",
              "      <td>The Hunger Games: Mockingjay - Part 2</td>\n",
              "      <td>The Hunger Games: Mockingjay - Part 2</td>\n",
              "      <td>0</td>\n",
              "      <td>2015</td>\n",
              "      <td>\\N</td>\n",
              "      <td>137</td>\n",
              "      <td>Action,Adventure,Sci-Fi</td>\n",
              "    </tr>\n",
              "  </tbody>\n",
              "</table>\n",
              "</div>"
            ],
            "text/plain": [
              "            tconst titleType                           primaryTitle  \\\n",
              "2508312  tt1951265     movie  The Hunger Games: Mockingjay - Part 1   \n",
              "2508313  tt1951266     movie  The Hunger Games: Mockingjay - Part 2   \n",
              "\n",
              "                                 originalTitle  isAdult startYear endYear  \\\n",
              "2508312  The Hunger Games: Mockingjay - Part 1        0      2014      \\N   \n",
              "2508313  The Hunger Games: Mockingjay - Part 2        0      2015      \\N   \n",
              "\n",
              "        runtimeMinutes                   genres  \n",
              "2508312            123  Action,Adventure,Sci-Fi  \n",
              "2508313            137  Action,Adventure,Sci-Fi  "
            ]
          },
          "metadata": {},
          "output_type": "display_data"
        },
        {
          "data": {
            "text/html": [
              "<div>\n",
              "<style scoped>\n",
              "    .dataframe tbody tr th:only-of-type {\n",
              "        vertical-align: middle;\n",
              "    }\n",
              "\n",
              "    .dataframe tbody tr th {\n",
              "        vertical-align: top;\n",
              "    }\n",
              "\n",
              "    .dataframe thead th {\n",
              "        text-align: right;\n",
              "    }\n",
              "</style>\n",
              "<table border=\"1\" class=\"dataframe\">\n",
              "  <thead>\n",
              "    <tr style=\"text-align: right;\">\n",
              "      <th></th>\n",
              "      <th>tconst</th>\n",
              "      <th>titleType</th>\n",
              "      <th>primaryTitle</th>\n",
              "      <th>originalTitle</th>\n",
              "      <th>isAdult</th>\n",
              "      <th>startYear</th>\n",
              "      <th>endYear</th>\n",
              "      <th>runtimeMinutes</th>\n",
              "      <th>genres</th>\n",
              "    </tr>\n",
              "  </thead>\n",
              "  <tbody>\n",
              "    <tr>\n",
              "      <th>460904</th>\n",
              "      <td>tt0478970</td>\n",
              "      <td>movie</td>\n",
              "      <td>Ant-Man</td>\n",
              "      <td>Ant-Man</td>\n",
              "      <td>0</td>\n",
              "      <td>2015</td>\n",
              "      <td>\\N</td>\n",
              "      <td>117</td>\n",
              "      <td>Action,Adventure,Comedy</td>\n",
              "    </tr>\n",
              "    <tr>\n",
              "      <th>2570231</th>\n",
              "      <td>tt2015381</td>\n",
              "      <td>movie</td>\n",
              "      <td>Guardians of the Galaxy</td>\n",
              "      <td>Guardians of the Galaxy</td>\n",
              "      <td>0</td>\n",
              "      <td>2014</td>\n",
              "      <td>\\N</td>\n",
              "      <td>121</td>\n",
              "      <td>Action,Adventure,Comedy</td>\n",
              "    </tr>\n",
              "  </tbody>\n",
              "</table>\n",
              "</div>"
            ],
            "text/plain": [
              "            tconst titleType             primaryTitle  \\\n",
              "460904   tt0478970     movie                  Ant-Man   \n",
              "2570231  tt2015381     movie  Guardians of the Galaxy   \n",
              "\n",
              "                   originalTitle  isAdult startYear endYear runtimeMinutes  \\\n",
              "460904                   Ant-Man        0      2015      \\N            117   \n",
              "2570231  Guardians of the Galaxy        0      2014      \\N            121   \n",
              "\n",
              "                          genres  \n",
              "460904   Action,Adventure,Comedy  \n",
              "2570231  Action,Adventure,Comedy  "
            ]
          },
          "metadata": {},
          "output_type": "display_data"
        },
        {
          "data": {
            "text/html": [
              "<div>\n",
              "<style scoped>\n",
              "    .dataframe tbody tr th:only-of-type {\n",
              "        vertical-align: middle;\n",
              "    }\n",
              "\n",
              "    .dataframe tbody tr th {\n",
              "        vertical-align: top;\n",
              "    }\n",
              "\n",
              "    .dataframe thead th {\n",
              "        text-align: right;\n",
              "    }\n",
              "</style>\n",
              "<table border=\"1\" class=\"dataframe\">\n",
              "  <thead>\n",
              "    <tr style=\"text-align: right;\">\n",
              "      <th></th>\n",
              "      <th>tconst</th>\n",
              "      <th>titleType</th>\n",
              "      <th>primaryTitle</th>\n",
              "      <th>originalTitle</th>\n",
              "      <th>isAdult</th>\n",
              "      <th>startYear</th>\n",
              "      <th>endYear</th>\n",
              "      <th>runtimeMinutes</th>\n",
              "      <th>genres</th>\n",
              "    </tr>\n",
              "  </thead>\n",
              "  <tbody>\n",
              "    <tr>\n",
              "      <th>190776</th>\n",
              "      <td>tt0198093</td>\n",
              "      <td>tvSeries</td>\n",
              "      <td>El comisario</td>\n",
              "      <td>El comisario</td>\n",
              "      <td>0</td>\n",
              "      <td>1999</td>\n",
              "      <td>2009</td>\n",
              "      <td>60</td>\n",
              "      <td>Action,Adventure,Crime</td>\n",
              "    </tr>\n",
              "    <tr>\n",
              "      <th>284942</th>\n",
              "      <td>tt0297174</td>\n",
              "      <td>tvSeries</td>\n",
              "      <td>Hospital Central</td>\n",
              "      <td>Hospital Central</td>\n",
              "      <td>0</td>\n",
              "      <td>2000</td>\n",
              "      <td>2012</td>\n",
              "      <td>60</td>\n",
              "      <td>Action,Adventure,Drama</td>\n",
              "    </tr>\n",
              "  </tbody>\n",
              "</table>\n",
              "</div>"
            ],
            "text/plain": [
              "           tconst titleType      primaryTitle     originalTitle  isAdult  \\\n",
              "190776  tt0198093  tvSeries      El comisario      El comisario        0   \n",
              "284942  tt0297174  tvSeries  Hospital Central  Hospital Central        0   \n",
              "\n",
              "       startYear endYear runtimeMinutes                  genres  \n",
              "190776      1999    2009             60  Action,Adventure,Crime  \n",
              "284942      2000    2012             60  Action,Adventure,Drama  "
            ]
          },
          "metadata": {},
          "output_type": "display_data"
        },
        {
          "data": {
            "text/html": [
              "<div>\n",
              "<style scoped>\n",
              "    .dataframe tbody tr th:only-of-type {\n",
              "        vertical-align: middle;\n",
              "    }\n",
              "\n",
              "    .dataframe tbody tr th {\n",
              "        vertical-align: top;\n",
              "    }\n",
              "\n",
              "    .dataframe thead th {\n",
              "        text-align: right;\n",
              "    }\n",
              "</style>\n",
              "<table border=\"1\" class=\"dataframe\">\n",
              "  <thead>\n",
              "    <tr style=\"text-align: right;\">\n",
              "      <th></th>\n",
              "      <th>tconst</th>\n",
              "      <th>titleType</th>\n",
              "      <th>primaryTitle</th>\n",
              "      <th>originalTitle</th>\n",
              "      <th>isAdult</th>\n",
              "      <th>startYear</th>\n",
              "      <th>endYear</th>\n",
              "      <th>runtimeMinutes</th>\n",
              "      <th>genres</th>\n",
              "    </tr>\n",
              "  </thead>\n",
              "  <tbody>\n",
              "    <tr>\n",
              "      <th>116610</th>\n",
              "      <td>tt0119282</td>\n",
              "      <td>movie</td>\n",
              "      <td>Hercules</td>\n",
              "      <td>Hercules</td>\n",
              "      <td>0</td>\n",
              "      <td>1997</td>\n",
              "      <td>\\N</td>\n",
              "      <td>93</td>\n",
              "      <td>Adventure,Animation,Comedy</td>\n",
              "    </tr>\n",
              "    <tr>\n",
              "      <th>220626</th>\n",
              "      <td>tt0230011</td>\n",
              "      <td>movie</td>\n",
              "      <td>Atlantis: The Lost Empire</td>\n",
              "      <td>Atlantis: The Lost Empire</td>\n",
              "      <td>0</td>\n",
              "      <td>2001</td>\n",
              "      <td>\\N</td>\n",
              "      <td>95</td>\n",
              "      <td>Action,Adventure,Animation</td>\n",
              "    </tr>\n",
              "  </tbody>\n",
              "</table>\n",
              "</div>"
            ],
            "text/plain": [
              "           tconst titleType               primaryTitle  \\\n",
              "116610  tt0119282     movie                   Hercules   \n",
              "220626  tt0230011     movie  Atlantis: The Lost Empire   \n",
              "\n",
              "                    originalTitle  isAdult startYear endYear runtimeMinutes  \\\n",
              "116610                   Hercules        0      1997      \\N             93   \n",
              "220626  Atlantis: The Lost Empire        0      2001      \\N             95   \n",
              "\n",
              "                            genres  \n",
              "116610  Adventure,Animation,Comedy  \n",
              "220626  Action,Adventure,Animation  "
            ]
          },
          "metadata": {},
          "output_type": "display_data"
        },
        {
          "data": {
            "text/html": [
              "<div>\n",
              "<style scoped>\n",
              "    .dataframe tbody tr th:only-of-type {\n",
              "        vertical-align: middle;\n",
              "    }\n",
              "\n",
              "    .dataframe tbody tr th {\n",
              "        vertical-align: top;\n",
              "    }\n",
              "\n",
              "    .dataframe thead th {\n",
              "        text-align: right;\n",
              "    }\n",
              "</style>\n",
              "<table border=\"1\" class=\"dataframe\">\n",
              "  <thead>\n",
              "    <tr style=\"text-align: right;\">\n",
              "      <th></th>\n",
              "      <th>tconst</th>\n",
              "      <th>titleType</th>\n",
              "      <th>primaryTitle</th>\n",
              "      <th>originalTitle</th>\n",
              "      <th>isAdult</th>\n",
              "      <th>startYear</th>\n",
              "      <th>endYear</th>\n",
              "      <th>runtimeMinutes</th>\n",
              "      <th>genres</th>\n",
              "    </tr>\n",
              "  </thead>\n",
              "  <tbody>\n",
              "    <tr>\n",
              "      <th>52506</th>\n",
              "      <td>tt0053494</td>\n",
              "      <td>tvSeries</td>\n",
              "      <td>Coronation Street</td>\n",
              "      <td>Coronation Street</td>\n",
              "      <td>0</td>\n",
              "      <td>1960</td>\n",
              "      <td>\\N</td>\n",
              "      <td>30</td>\n",
              "      <td>Drama,Romance</td>\n",
              "    </tr>\n",
              "    <tr>\n",
              "      <th>66734</th>\n",
              "      <td>tt0068069</td>\n",
              "      <td>tvSeries</td>\n",
              "      <td>Emmerdale</td>\n",
              "      <td>Emmerdale Farm</td>\n",
              "      <td>0</td>\n",
              "      <td>1972</td>\n",
              "      <td>\\N</td>\n",
              "      <td>30</td>\n",
              "      <td>Drama,Romance</td>\n",
              "    </tr>\n",
              "  </tbody>\n",
              "</table>\n",
              "</div>"
            ],
            "text/plain": [
              "          tconst titleType       primaryTitle      originalTitle  isAdult  \\\n",
              "52506  tt0053494  tvSeries  Coronation Street  Coronation Street        0   \n",
              "66734  tt0068069  tvSeries          Emmerdale     Emmerdale Farm        0   \n",
              "\n",
              "      startYear endYear runtimeMinutes         genres  \n",
              "52506      1960      \\N             30  Drama,Romance  \n",
              "66734      1972      \\N             30  Drama,Romance  "
            ]
          },
          "metadata": {},
          "output_type": "display_data"
        },
        {
          "data": {
            "text/html": [
              "<div>\n",
              "<style scoped>\n",
              "    .dataframe tbody tr th:only-of-type {\n",
              "        vertical-align: middle;\n",
              "    }\n",
              "\n",
              "    .dataframe tbody tr th {\n",
              "        vertical-align: top;\n",
              "    }\n",
              "\n",
              "    .dataframe thead th {\n",
              "        text-align: right;\n",
              "    }\n",
              "</style>\n",
              "<table border=\"1\" class=\"dataframe\">\n",
              "  <thead>\n",
              "    <tr style=\"text-align: right;\">\n",
              "      <th></th>\n",
              "      <th>tconst</th>\n",
              "      <th>titleType</th>\n",
              "      <th>primaryTitle</th>\n",
              "      <th>originalTitle</th>\n",
              "      <th>isAdult</th>\n",
              "      <th>startYear</th>\n",
              "      <th>endYear</th>\n",
              "      <th>runtimeMinutes</th>\n",
              "      <th>genres</th>\n",
              "    </tr>\n",
              "  </thead>\n",
              "  <tbody>\n",
              "    <tr>\n",
              "      <th>64045</th>\n",
              "      <td>tt0065323</td>\n",
              "      <td>tvSeries</td>\n",
              "      <td>NFL Monday Night Football</td>\n",
              "      <td>NFL Monday Night Football</td>\n",
              "      <td>0</td>\n",
              "      <td>1970</td>\n",
              "      <td>\\N</td>\n",
              "      <td>\\N</td>\n",
              "      <td>Sport</td>\n",
              "    </tr>\n",
              "    <tr>\n",
              "      <th>869574</th>\n",
              "      <td>tt0896893</td>\n",
              "      <td>tvSeries</td>\n",
              "      <td>NFL on FOX</td>\n",
              "      <td>NFL on FOX</td>\n",
              "      <td>0</td>\n",
              "      <td>1994</td>\n",
              "      <td>\\N</td>\n",
              "      <td>\\N</td>\n",
              "      <td>Sport</td>\n",
              "    </tr>\n",
              "  </tbody>\n",
              "</table>\n",
              "</div>"
            ],
            "text/plain": [
              "           tconst titleType               primaryTitle  \\\n",
              "64045   tt0065323  tvSeries  NFL Monday Night Football   \n",
              "869574  tt0896893  tvSeries                 NFL on FOX   \n",
              "\n",
              "                    originalTitle  isAdult startYear endYear runtimeMinutes  \\\n",
              "64045   NFL Monday Night Football        0      1970      \\N             \\N   \n",
              "869574                 NFL on FOX        0      1994      \\N             \\N   \n",
              "\n",
              "       genres  \n",
              "64045   Sport  \n",
              "869574  Sport  "
            ]
          },
          "metadata": {},
          "output_type": "display_data"
        },
        {
          "data": {
            "text/html": [
              "<div>\n",
              "<style scoped>\n",
              "    .dataframe tbody tr th:only-of-type {\n",
              "        vertical-align: middle;\n",
              "    }\n",
              "\n",
              "    .dataframe tbody tr th {\n",
              "        vertical-align: top;\n",
              "    }\n",
              "\n",
              "    .dataframe thead th {\n",
              "        text-align: right;\n",
              "    }\n",
              "</style>\n",
              "<table border=\"1\" class=\"dataframe\">\n",
              "  <thead>\n",
              "    <tr style=\"text-align: right;\">\n",
              "      <th></th>\n",
              "      <th>tconst</th>\n",
              "      <th>titleType</th>\n",
              "      <th>primaryTitle</th>\n",
              "      <th>originalTitle</th>\n",
              "      <th>isAdult</th>\n",
              "      <th>startYear</th>\n",
              "      <th>endYear</th>\n",
              "      <th>runtimeMinutes</th>\n",
              "      <th>genres</th>\n",
              "    </tr>\n",
              "  </thead>\n",
              "  <tbody>\n",
              "    <tr>\n",
              "      <th>273009</th>\n",
              "      <td>tt0284702</td>\n",
              "      <td>tvSeries</td>\n",
              "      <td>Big Brother Uncut</td>\n",
              "      <td>Big Brother Uncut</td>\n",
              "      <td>0</td>\n",
              "      <td>2001</td>\n",
              "      <td>2013</td>\n",
              "      <td>60</td>\n",
              "      <td>Reality-TV</td>\n",
              "    </tr>\n",
              "    <tr>\n",
              "      <th>275403</th>\n",
              "      <td>tt0287196</td>\n",
              "      <td>tvSeries</td>\n",
              "      <td>Big Brother: Australia</td>\n",
              "      <td>Big Brother</td>\n",
              "      <td>0</td>\n",
              "      <td>2001</td>\n",
              "      <td>2014</td>\n",
              "      <td>25</td>\n",
              "      <td>Game-Show,Music,Reality-TV</td>\n",
              "    </tr>\n",
              "  </tbody>\n",
              "</table>\n",
              "</div>"
            ],
            "text/plain": [
              "           tconst titleType            primaryTitle      originalTitle  \\\n",
              "273009  tt0284702  tvSeries       Big Brother Uncut  Big Brother Uncut   \n",
              "275403  tt0287196  tvSeries  Big Brother: Australia        Big Brother   \n",
              "\n",
              "        isAdult startYear endYear runtimeMinutes                      genres  \n",
              "273009        0      2001    2013             60                  Reality-TV  \n",
              "275403        0      2001    2014             25  Game-Show,Music,Reality-TV  "
            ]
          },
          "metadata": {},
          "output_type": "display_data"
        },
        {
          "data": {
            "text/html": [
              "<div>\n",
              "<style scoped>\n",
              "    .dataframe tbody tr th:only-of-type {\n",
              "        vertical-align: middle;\n",
              "    }\n",
              "\n",
              "    .dataframe tbody tr th {\n",
              "        vertical-align: top;\n",
              "    }\n",
              "\n",
              "    .dataframe thead th {\n",
              "        text-align: right;\n",
              "    }\n",
              "</style>\n",
              "<table border=\"1\" class=\"dataframe\">\n",
              "  <thead>\n",
              "    <tr style=\"text-align: right;\">\n",
              "      <th></th>\n",
              "      <th>tconst</th>\n",
              "      <th>titleType</th>\n",
              "      <th>primaryTitle</th>\n",
              "      <th>originalTitle</th>\n",
              "      <th>isAdult</th>\n",
              "      <th>startYear</th>\n",
              "      <th>endYear</th>\n",
              "      <th>runtimeMinutes</th>\n",
              "      <th>genres</th>\n",
              "    </tr>\n",
              "  </thead>\n",
              "  <tbody>\n",
              "    <tr>\n",
              "      <th>86667</th>\n",
              "      <td>tt0088580</td>\n",
              "      <td>tvSeries</td>\n",
              "      <td>Neighbours</td>\n",
              "      <td>Neighbours</td>\n",
              "      <td>0</td>\n",
              "      <td>1985</td>\n",
              "      <td>\\N</td>\n",
              "      <td>22</td>\n",
              "      <td>Drama,Romance</td>\n",
              "    </tr>\n",
              "    <tr>\n",
              "      <th>106362</th>\n",
              "      <td>tt0108709</td>\n",
              "      <td>tvSeries</td>\n",
              "      <td>Blue Heelers</td>\n",
              "      <td>Blue Heelers</td>\n",
              "      <td>0</td>\n",
              "      <td>1994</td>\n",
              "      <td>2006</td>\n",
              "      <td>60</td>\n",
              "      <td>Action,Crime,Drama</td>\n",
              "    </tr>\n",
              "  </tbody>\n",
              "</table>\n",
              "</div>"
            ],
            "text/plain": [
              "           tconst titleType  primaryTitle originalTitle  isAdult startYear  \\\n",
              "86667   tt0088580  tvSeries    Neighbours    Neighbours        0      1985   \n",
              "106362  tt0108709  tvSeries  Blue Heelers  Blue Heelers        0      1994   \n",
              "\n",
              "       endYear runtimeMinutes              genres  \n",
              "86667       \\N             22       Drama,Romance  \n",
              "106362    2006             60  Action,Crime,Drama  "
            ]
          },
          "metadata": {},
          "output_type": "display_data"
        },
        {
          "data": {
            "text/html": [
              "<div>\n",
              "<style scoped>\n",
              "    .dataframe tbody tr th:only-of-type {\n",
              "        vertical-align: middle;\n",
              "    }\n",
              "\n",
              "    .dataframe tbody tr th {\n",
              "        vertical-align: top;\n",
              "    }\n",
              "\n",
              "    .dataframe thead th {\n",
              "        text-align: right;\n",
              "    }\n",
              "</style>\n",
              "<table border=\"1\" class=\"dataframe\">\n",
              "  <thead>\n",
              "    <tr style=\"text-align: right;\">\n",
              "      <th></th>\n",
              "      <th>tconst</th>\n",
              "      <th>titleType</th>\n",
              "      <th>primaryTitle</th>\n",
              "      <th>originalTitle</th>\n",
              "      <th>isAdult</th>\n",
              "      <th>startYear</th>\n",
              "      <th>endYear</th>\n",
              "      <th>runtimeMinutes</th>\n",
              "      <th>genres</th>\n",
              "    </tr>\n",
              "  </thead>\n",
              "  <tbody>\n",
              "    <tr>\n",
              "      <th>64045</th>\n",
              "      <td>tt0065323</td>\n",
              "      <td>tvSeries</td>\n",
              "      <td>NFL Monday Night Football</td>\n",
              "      <td>NFL Monday Night Football</td>\n",
              "      <td>0</td>\n",
              "      <td>1970</td>\n",
              "      <td>\\N</td>\n",
              "      <td>\\N</td>\n",
              "      <td>Sport</td>\n",
              "    </tr>\n",
              "    <tr>\n",
              "      <th>391224</th>\n",
              "      <td>tt0407424</td>\n",
              "      <td>tvSeries</td>\n",
              "      <td>The NFL on NBC</td>\n",
              "      <td>The NFL on NBC</td>\n",
              "      <td>0</td>\n",
              "      <td>1965</td>\n",
              "      <td>1998</td>\n",
              "      <td>\\N</td>\n",
              "      <td>Sport</td>\n",
              "    </tr>\n",
              "  </tbody>\n",
              "</table>\n",
              "</div>"
            ],
            "text/plain": [
              "           tconst titleType               primaryTitle  \\\n",
              "64045   tt0065323  tvSeries  NFL Monday Night Football   \n",
              "391224  tt0407424  tvSeries             The NFL on NBC   \n",
              "\n",
              "                    originalTitle  isAdult startYear endYear runtimeMinutes  \\\n",
              "64045   NFL Monday Night Football        0      1970      \\N             \\N   \n",
              "391224             The NFL on NBC        0      1965    1998             \\N   \n",
              "\n",
              "       genres  \n",
              "64045   Sport  \n",
              "391224  Sport  "
            ]
          },
          "metadata": {},
          "output_type": "display_data"
        },
        {
          "data": {
            "text/html": [
              "<div>\n",
              "<style scoped>\n",
              "    .dataframe tbody tr th:only-of-type {\n",
              "        vertical-align: middle;\n",
              "    }\n",
              "\n",
              "    .dataframe tbody tr th {\n",
              "        vertical-align: top;\n",
              "    }\n",
              "\n",
              "    .dataframe thead th {\n",
              "        text-align: right;\n",
              "    }\n",
              "</style>\n",
              "<table border=\"1\" class=\"dataframe\">\n",
              "  <thead>\n",
              "    <tr style=\"text-align: right;\">\n",
              "      <th></th>\n",
              "      <th>tconst</th>\n",
              "      <th>titleType</th>\n",
              "      <th>primaryTitle</th>\n",
              "      <th>originalTitle</th>\n",
              "      <th>isAdult</th>\n",
              "      <th>startYear</th>\n",
              "      <th>endYear</th>\n",
              "      <th>runtimeMinutes</th>\n",
              "      <th>genres</th>\n",
              "    </tr>\n",
              "  </thead>\n",
              "  <tbody>\n",
              "    <tr>\n",
              "      <th>3160174</th>\n",
              "      <td>tt2974350</td>\n",
              "      <td>videoGame</td>\n",
              "      <td>Super Smash Bros. for Wii U</td>\n",
              "      <td>Dairantou sumasshu burazâzu for Wii U</td>\n",
              "      <td>0</td>\n",
              "      <td>2014</td>\n",
              "      <td>\\N</td>\n",
              "      <td>\\N</td>\n",
              "      <td>Action,Adventure,Family</td>\n",
              "    </tr>\n",
              "    <tr>\n",
              "      <th>3345498</th>\n",
              "      <td>tt3408266</td>\n",
              "      <td>videoGame</td>\n",
              "      <td>Super Smash Bros. for Nintendo 3DS</td>\n",
              "      <td>Dairantou sumasshu burazâzu for Nintendo 3DS</td>\n",
              "      <td>0</td>\n",
              "      <td>2014</td>\n",
              "      <td>\\N</td>\n",
              "      <td>\\N</td>\n",
              "      <td>Action,Family,Fantasy</td>\n",
              "    </tr>\n",
              "  </tbody>\n",
              "</table>\n",
              "</div>"
            ],
            "text/plain": [
              "            tconst  titleType                        primaryTitle  \\\n",
              "3160174  tt2974350  videoGame         Super Smash Bros. for Wii U   \n",
              "3345498  tt3408266  videoGame  Super Smash Bros. for Nintendo 3DS   \n",
              "\n",
              "                                        originalTitle  isAdult startYear  \\\n",
              "3160174         Dairantou sumasshu burazâzu for Wii U        0      2014   \n",
              "3345498  Dairantou sumasshu burazâzu for Nintendo 3DS        0      2014   \n",
              "\n",
              "        endYear runtimeMinutes                   genres  \n",
              "3160174      \\N             \\N  Action,Adventure,Family  \n",
              "3345498      \\N             \\N    Action,Family,Fantasy  "
            ]
          },
          "metadata": {},
          "output_type": "display_data"
        },
        {
          "data": {
            "text/html": [
              "<div>\n",
              "<style scoped>\n",
              "    .dataframe tbody tr th:only-of-type {\n",
              "        vertical-align: middle;\n",
              "    }\n",
              "\n",
              "    .dataframe tbody tr th {\n",
              "        vertical-align: top;\n",
              "    }\n",
              "\n",
              "    .dataframe thead th {\n",
              "        text-align: right;\n",
              "    }\n",
              "</style>\n",
              "<table border=\"1\" class=\"dataframe\">\n",
              "  <thead>\n",
              "    <tr style=\"text-align: right;\">\n",
              "      <th></th>\n",
              "      <th>tconst</th>\n",
              "      <th>titleType</th>\n",
              "      <th>primaryTitle</th>\n",
              "      <th>originalTitle</th>\n",
              "      <th>isAdult</th>\n",
              "      <th>startYear</th>\n",
              "      <th>endYear</th>\n",
              "      <th>runtimeMinutes</th>\n",
              "      <th>genres</th>\n",
              "    </tr>\n",
              "  </thead>\n",
              "  <tbody>\n",
              "    <tr>\n",
              "      <th>64045</th>\n",
              "      <td>tt0065323</td>\n",
              "      <td>tvSeries</td>\n",
              "      <td>NFL Monday Night Football</td>\n",
              "      <td>NFL Monday Night Football</td>\n",
              "      <td>0</td>\n",
              "      <td>1970</td>\n",
              "      <td>\\N</td>\n",
              "      <td>\\N</td>\n",
              "      <td>Sport</td>\n",
              "    </tr>\n",
              "    <tr>\n",
              "      <th>391223</th>\n",
              "      <td>tt0407423</td>\n",
              "      <td>tvSeries</td>\n",
              "      <td>The NFL on CBS</td>\n",
              "      <td>The NFL on CBS</td>\n",
              "      <td>0</td>\n",
              "      <td>1956</td>\n",
              "      <td>\\N</td>\n",
              "      <td>\\N</td>\n",
              "      <td>Sport</td>\n",
              "    </tr>\n",
              "  </tbody>\n",
              "</table>\n",
              "</div>"
            ],
            "text/plain": [
              "           tconst titleType               primaryTitle  \\\n",
              "64045   tt0065323  tvSeries  NFL Monday Night Football   \n",
              "391223  tt0407423  tvSeries             The NFL on CBS   \n",
              "\n",
              "                    originalTitle  isAdult startYear endYear runtimeMinutes  \\\n",
              "64045   NFL Monday Night Football        0      1970      \\N             \\N   \n",
              "391223             The NFL on CBS        0      1956      \\N             \\N   \n",
              "\n",
              "       genres  \n",
              "64045   Sport  \n",
              "391223  Sport  "
            ]
          },
          "metadata": {},
          "output_type": "display_data"
        }
      ]
    }
  ]
}