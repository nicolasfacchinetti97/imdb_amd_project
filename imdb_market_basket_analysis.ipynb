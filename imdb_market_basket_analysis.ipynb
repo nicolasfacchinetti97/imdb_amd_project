{
  "cells": [
    {
      "cell_type": "markdown",
      "metadata": {
        "id": "protecting-prague"
      },
      "source": [
        "# Project 2: Market-basket analysis - IMDB dataset"
      ],
      "id": "protecting-prague"
    },
    {
      "cell_type": "markdown",
      "metadata": {
        "id": "tough-romance"
      },
      "source": [
        "Project for the course of Algorithms for Massive Dataset <br> Nicolas Facchinetti 961648 <br> Antonio Belotti 960822"
      ],
      "id": "tough-romance"
    },
    {
      "cell_type": "markdown",
      "metadata": {
        "id": "lGRAllgArUcg"
      },
      "source": [
        "# Set up the Spark enviorment"
      ],
      "id": "lGRAllgArUcg"
    },
    {
      "cell_type": "markdown",
      "metadata": {
        "id": "G1-A43y-raCw"
      },
      "source": [
        "We start by dowloading and installing all the needed tool to deal with Spark. In particular we are interested in obtainig a Java enviorment since Spark in written in Scala and so it need a JVM to run. Then we can download Apache Spark 3.1.2 with Hadoop 3.2 by the Apache CDN and uncompress it. Finally we can get and install PySpark, an interface for Apache Spark in Python"
      ],
      "id": "G1-A43y-raCw"
    },
    {
      "cell_type": "code",
      "execution_count": 1,
      "metadata": {
        "colab": {
          "base_uri": "https://localhost:8080/"
        },
        "id": "ylCDuP_tsDRB",
        "outputId": "135e9351-9f68-4e83-f798-70772404de1b"
      },
      "outputs": [
        {
          "output_type": "stream",
          "name": "stdout",
          "text": [
            "--2022-02-20 12:54:45--  https://dlcdn.apache.org/spark/spark-3.1.2/spark-3.1.2-bin-hadoop3.2.tgz\n",
            "Resolving dlcdn.apache.org (dlcdn.apache.org)... 151.101.2.132, 2a04:4e42::644\n",
            "Connecting to dlcdn.apache.org (dlcdn.apache.org)|151.101.2.132|:443... connected.\n",
            "HTTP request sent, awaiting response... 200 OK\n",
            "Length: 228834641 (218M) [application/x-gzip]\n",
            "Saving to: ‘spark-3.1.2-bin-hadoop3.2.tgz’\n",
            "\n",
            "spark-3.1.2-bin-had 100%[===================>] 218.23M   179MB/s    in 1.2s    \n",
            "\n",
            "2022-02-20 12:54:47 (179 MB/s) - ‘spark-3.1.2-bin-hadoop3.2.tgz’ saved [228834641/228834641]\n",
            "\n"
          ]
        }
      ],
      "source": [
        "!apt-get install openjdk-8-jdk-headless -qq > /dev/null\n",
        "!wget https://dlcdn.apache.org/spark/spark-3.1.2/spark-3.1.2-bin-hadoop3.2.tgz\n",
        "!tar xf spark-3.1.2-bin-hadoop3.2.tgz\n",
        "!rm spark-3.1.2-bin-hadoop3.2.tgz\n",
        "!pip install -q findspark"
      ],
      "id": "ylCDuP_tsDRB"
    },
    {
      "cell_type": "markdown",
      "metadata": {
        "id": "3amH6p0nwb7I"
      },
      "source": [
        "The next step is to correctly set the path in our remote enviorment to use the obtained tools."
      ],
      "id": "3amH6p0nwb7I"
    },
    {
      "cell_type": "code",
      "execution_count": 2,
      "metadata": {
        "id": "EXdPB9pQvM6Y"
      },
      "outputs": [],
      "source": [
        "import os\n",
        "os.environ[\"JAVA_HOME\"] = \"/usr/lib/jvm/java-8-openjdk-amd64\"\n",
        "os.environ[\"SPARK_HOME\"] = \"/content/spark-3.1.2-bin-hadoop3.2\""
      ],
      "id": "EXdPB9pQvM6Y"
    },
    {
      "cell_type": "markdown",
      "metadata": {
        "id": "IMGP-hYawvcv"
      },
      "source": [
        "Finally we can import PySpark in the project"
      ],
      "id": "IMGP-hYawvcv"
    },
    {
      "cell_type": "code",
      "execution_count": 3,
      "metadata": {
        "id": "2Imf5XE-w84G"
      },
      "outputs": [],
      "source": [
        "import findspark\n",
        "findspark.init(\"spark-3.1.2-bin-hadoop3.2\")# SPARK_HOME\n",
        "from pyspark.sql import SparkSession\n",
        "spark = SparkSession.builder.master(\"local[*]\").getOrCreate()"
      ],
      "id": "2Imf5XE-w84G"
    },
    {
      "cell_type": "markdown",
      "metadata": {
        "id": "arabic-forwarding"
      },
      "source": [
        "# Download the dataset from Kaggle"
      ],
      "id": "arabic-forwarding"
    },
    {
      "cell_type": "markdown",
      "metadata": {
        "id": "cardiac-significance"
      },
      "source": [
        "First install the Python module of Kaggle to download the dataset from its datacenter"
      ],
      "id": "cardiac-significance"
    },
    {
      "cell_type": "code",
      "execution_count": 4,
      "metadata": {
        "colab": {
          "base_uri": "https://localhost:8080/"
        },
        "id": "third-confidence",
        "outputId": "46fc979e-8b39-4eb6-f209-a63609625c76"
      },
      "outputs": [
        {
          "output_type": "stream",
          "name": "stdout",
          "text": [
            "Requirement already satisfied: kaggle in /usr/local/lib/python3.7/dist-packages (1.5.12)\n",
            "Requirement already satisfied: certifi in /usr/local/lib/python3.7/dist-packages (from kaggle) (2021.10.8)\n",
            "Requirement already satisfied: requests in /usr/local/lib/python3.7/dist-packages (from kaggle) (2.23.0)\n",
            "Requirement already satisfied: tqdm in /usr/local/lib/python3.7/dist-packages (from kaggle) (4.62.3)\n",
            "Requirement already satisfied: python-slugify in /usr/local/lib/python3.7/dist-packages (from kaggle) (5.0.2)\n",
            "Requirement already satisfied: urllib3 in /usr/local/lib/python3.7/dist-packages (from kaggle) (1.24.3)\n",
            "Requirement already satisfied: python-dateutil in /usr/local/lib/python3.7/dist-packages (from kaggle) (2.8.2)\n",
            "Requirement already satisfied: six>=1.10 in /usr/local/lib/python3.7/dist-packages (from kaggle) (1.15.0)\n",
            "Requirement already satisfied: text-unidecode>=1.3 in /usr/local/lib/python3.7/dist-packages (from python-slugify->kaggle) (1.3)\n",
            "Requirement already satisfied: chardet<4,>=3.0.2 in /usr/local/lib/python3.7/dist-packages (from requests->kaggle) (3.0.4)\n",
            "Requirement already satisfied: idna<3,>=2.5 in /usr/local/lib/python3.7/dist-packages (from requests->kaggle) (2.10)\n"
          ]
        }
      ],
      "source": [
        "!pip install kaggle"
      ],
      "id": "third-confidence"
    },
    {
      "cell_type": "markdown",
      "metadata": {
        "id": "attractive-recall"
      },
      "source": [
        "Then load kaggle.json, a file containing your API credentials to be able to use the services offered by Kaggle"
      ],
      "id": "attractive-recall"
    },
    {
      "cell_type": "code",
      "execution_count": 5,
      "metadata": {
        "colab": {
          "base_uri": "https://localhost:8080/",
          "height": 72,
          "resources": {
            "http://localhost:8080/nbextensions/google.colab/files.js": {
              "data": "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",
              "headers": [
                [
                  "content-type",
                  "application/javascript"
                ]
              ],
              "ok": true,
              "status": 200,
              "status_text": ""
            }
          }
        },
        "id": "narrow-future",
        "outputId": "3f520333-cc33-4029-915b-2d8be6d83ad2"
      },
      "outputs": [
        {
          "output_type": "display_data",
          "data": {
            "text/html": [
              "\n",
              "     <input type=\"file\" id=\"files-862a6fde-9d3d-431f-9fea-e3f9758909d5\" name=\"files[]\" multiple disabled\n",
              "        style=\"border:none\" />\n",
              "     <output id=\"result-862a6fde-9d3d-431f-9fea-e3f9758909d5\">\n",
              "      Upload widget is only available when the cell has been executed in the\n",
              "      current browser session. Please rerun this cell to enable.\n",
              "      </output>\n",
              "      <script src=\"/nbextensions/google.colab/files.js\"></script> "
            ],
            "text/plain": [
              "<IPython.core.display.HTML object>"
            ]
          },
          "metadata": {}
        },
        {
          "output_type": "stream",
          "name": "stdout",
          "text": [
            "Saving kaggle.json to kaggle.json\n"
          ]
        }
      ],
      "source": [
        "from google.colab import files\n",
        "\n",
        "uploaded = files.upload()\n",
        "  \n",
        "# Move kaggle.json into the folder where the API expects to find it.\n",
        "!mkdir -p ~/.kaggle/ && mv kaggle.json ~/.kaggle/ && chmod 600 ~/.kaggle/kaggle.json"
      ],
      "id": "narrow-future"
    },
    {
      "cell_type": "markdown",
      "metadata": {
        "id": "entitled-stanley"
      },
      "source": [
        "Now we can download the dataset"
      ],
      "id": "entitled-stanley"
    },
    {
      "cell_type": "code",
      "execution_count": 6,
      "metadata": {
        "colab": {
          "base_uri": "https://localhost:8080/"
        },
        "id": "built-indianapolis",
        "outputId": "91490e88-3417-4b97-c98b-879a78f327bf"
      },
      "outputs": [
        {
          "output_type": "stream",
          "name": "stdout",
          "text": [
            "Downloading imdb-dataset.zip to /content\n",
            " 99% 1.43G/1.44G [00:13<00:00, 108MB/s]\n",
            "100% 1.44G/1.44G [00:13<00:00, 118MB/s]\n"
          ]
        }
      ],
      "source": [
        "!kaggle datasets download 'ashirwadsangwan/imdb-dataset'"
      ],
      "id": "built-indianapolis"
    },
    {
      "cell_type": "markdown",
      "metadata": {
        "id": "naked-dinner"
      },
      "source": [
        "We now must unzip the compressed archive to use it. Once done we can also remove it."
      ],
      "id": "naked-dinner"
    },
    {
      "cell_type": "code",
      "execution_count": 7,
      "metadata": {
        "colab": {
          "base_uri": "https://localhost:8080/"
        },
        "id": "every-homework",
        "outputId": "b918da3f-9833-4a72-e32c-f77e68ac3866"
      },
      "outputs": [
        {
          "output_type": "stream",
          "name": "stdout",
          "text": [
            "Archive:  imdb-dataset.zip\n",
            "  inflating: name.basics.tsv.gz      \n",
            "  inflating: name.basics.tsv/name.basics.tsv  \n",
            "  inflating: title.akas.tsv.gz       \n",
            "  inflating: title.akas.tsv/title.akas.tsv  \n",
            "  inflating: title.basics.tsv.gz     \n",
            "  inflating: title.basics.tsv/title.basics.tsv  \n",
            "  inflating: title.principals.tsv.gz  \n",
            "  inflating: title.principals.tsv/title.principals.tsv  \n",
            "  inflating: title.ratings.tsv.gz    \n",
            "  inflating: title.ratings.tsv/title.ratings.tsv  \n"
          ]
        }
      ],
      "source": [
        "!unzip imdb-dataset.zip && rm imdb-dataset.zip"
      ],
      "id": "every-homework"
    },
    {
      "cell_type": "markdown",
      "metadata": {
        "id": "B2wchK4S6FSd"
      },
      "source": [
        "# Preapare the data for Spark"
      ],
      "id": "B2wchK4S6FSd"
    },
    {
      "cell_type": "markdown",
      "metadata": {
        "id": "vkCLCyVf6P81"
      },
      "source": [
        "We can directly load the downloaded and extracted .tsv file in a Spark DataFrame by using the command read.csv(). We directly pass to the method the columns in which we are interested."
      ],
      "id": "vkCLCyVf6P81"
    },
    {
      "cell_type": "code",
      "execution_count": 8,
      "metadata": {
        "id": "o9yN4DYO5rA9",
        "outputId": "91f6862d-3762-4ecf-d6e2-8ed0df6531e1",
        "colab": {
          "base_uri": "https://localhost:8080/"
        }
      },
      "outputs": [
        {
          "output_type": "stream",
          "name": "stdout",
          "text": [
            "+---------+---------+---------------+\n",
            "|   tconst|   nconst|       category|\n",
            "+---------+---------+---------------+\n",
            "|tt0000001|nm1588970|           self|\n",
            "|tt0000001|nm0005690|       director|\n",
            "|tt0000001|nm0374658|cinematographer|\n",
            "|tt0000002|nm0721526|       director|\n",
            "|tt0000002|nm1335271|       composer|\n",
            "|tt0000003|nm0721526|       director|\n",
            "|tt0000003|nm5442194|       producer|\n",
            "|tt0000003|nm1335271|       composer|\n",
            "|tt0000003|nm5442200|         editor|\n",
            "|tt0000004|nm0721526|       director|\n",
            "+---------+---------+---------------+\n",
            "only showing top 10 rows\n",
            "\n"
          ]
        }
      ],
      "source": [
        "df_principals = spark.read.csv(\"/content/title.principals.tsv/title.principals.tsv\", sep=r'\\t', header=True).select('tconst','nconst','category')\n",
        "df_principals.show(10)"
      ],
      "id": "o9yN4DYO5rA9"
    },
    {
      "cell_type": "code",
      "execution_count": 9,
      "metadata": {
        "id": "biVqVaIO6rm1",
        "outputId": "c5db457f-d84f-44e4-ce93-4c4918121cd5",
        "colab": {
          "base_uri": "https://localhost:8080/"
        }
      },
      "outputs": [
        {
          "output_type": "stream",
          "name": "stdout",
          "text": [
            "+---------+---------+\n",
            "|   tconst|titleType|\n",
            "+---------+---------+\n",
            "|tt0000001|    short|\n",
            "|tt0000002|    short|\n",
            "|tt0000003|    short|\n",
            "|tt0000004|    short|\n",
            "|tt0000005|    short|\n",
            "|tt0000006|    short|\n",
            "|tt0000007|    short|\n",
            "|tt0000008|    short|\n",
            "|tt0000009|    movie|\n",
            "|tt0000010|    short|\n",
            "+---------+---------+\n",
            "only showing top 10 rows\n",
            "\n"
          ]
        }
      ],
      "source": [
        "df_basics = spark.read.csv(\"/content/title.basics.tsv/title.basics.tsv\", sep=r'\\t', header=True).select('tconst','titleType')\n",
        "df_basics.show(10)"
      ],
      "id": "biVqVaIO6rm1"
    },
    {
      "cell_type": "markdown",
      "metadata": {
        "id": "jYEMZq6g8V8r"
      },
      "source": [
        "By inspecting the content of the column 'category' of df_principlas we can see that there are many jobs other than actors and actress (which are the two we are interested in)"
      ],
      "id": "jYEMZq6g8V8r"
    },
    {
      "cell_type": "code",
      "execution_count": 10,
      "metadata": {
        "id": "_ANddVhG7dOM",
        "outputId": "d0082c10-1dcf-4b90-85a9-04f561e2f30c",
        "colab": {
          "base_uri": "https://localhost:8080/"
        }
      },
      "outputs": [
        {
          "output_type": "stream",
          "name": "stdout",
          "text": [
            "+-------------------+\n",
            "|           category|\n",
            "+-------------------+\n",
            "|            actress|\n",
            "|           producer|\n",
            "|             writer|\n",
            "|           composer|\n",
            "|           director|\n",
            "|               self|\n",
            "|              actor|\n",
            "|             editor|\n",
            "|    cinematographer|\n",
            "|      archive_sound|\n",
            "|production_designer|\n",
            "|    archive_footage|\n",
            "+-------------------+\n",
            "\n"
          ]
        }
      ],
      "source": [
        "df_principals.select(\"category\").distinct().show()"
      ],
      "id": "_ANddVhG7dOM"
    },
    {
      "cell_type": "markdown",
      "metadata": {
        "id": "chgrEDU181jc"
      },
      "source": [
        "Similarly we can do the same thing with df_basics and the column 'titleType' to see how many categories a title can have."
      ],
      "id": "chgrEDU181jc"
    },
    {
      "cell_type": "code",
      "execution_count": 11,
      "metadata": {
        "id": "H0k9A__I8uop",
        "outputId": "036d5e36-87b9-4e49-8cbf-b1e0e590bf5b",
        "colab": {
          "base_uri": "https://localhost:8080/"
        }
      },
      "outputs": [
        {
          "output_type": "stream",
          "name": "stdout",
          "text": [
            "+------------+\n",
            "|   titleType|\n",
            "+------------+\n",
            "|    tvSeries|\n",
            "|tvMiniSeries|\n",
            "|     tvMovie|\n",
            "|   tvEpisode|\n",
            "|       movie|\n",
            "|   tvSpecial|\n",
            "|       video|\n",
            "|   videoGame|\n",
            "|     tvShort|\n",
            "|       short|\n",
            "+------------+\n",
            "\n"
          ]
        }
      ],
      "source": [
        "df_basics.select(\"titleType\").distinct().show()"
      ],
      "id": "H0k9A__I8uop"
    },
    {
      "cell_type": "markdown",
      "metadata": {
        "id": "WRGTAAFK7QJ0"
      },
      "source": [
        "Once the data is loaded in a Spark DataFrame we can use the PySpark SQL module for processing the data. We start by exctracting only actors and actress from df_principals"
      ],
      "id": "WRGTAAFK7QJ0"
    },
    {
      "cell_type": "code",
      "execution_count": 12,
      "metadata": {
        "id": "0wrOWYKr8UC3",
        "outputId": "e3986cd5-9b6e-4a81-d0ea-5cd7228fdb63",
        "colab": {
          "base_uri": "https://localhost:8080/"
        }
      },
      "outputs": [
        {
          "output_type": "stream",
          "name": "stdout",
          "text": [
            "We reduced the number of row from 36468817 to 14818798\n"
          ]
        }
      ],
      "source": [
        "pre = df_principals.count()\n",
        "df_principals.createOrReplaceTempView(\"PRINCIPALS\") # create a temporary table on DataFrame\n",
        "df_principals = spark.sql(\"SELECT * from PRINCIPALS WHERE category ='actor' OR category='actress'\")\n",
        "print(\"We reduced the number of row from {} to {}\".format(pre, df_principals.count()))"
      ],
      "id": "0wrOWYKr8UC3"
    },
    {
      "cell_type": "markdown",
      "metadata": {
        "id": "QFE8PdWZ9UAa"
      },
      "source": [
        " And then we do the same thing with movies in df_basics"
      ],
      "id": "QFE8PdWZ9UAa"
    },
    {
      "cell_type": "code",
      "execution_count": 13,
      "metadata": {
        "id": "_7idYi-s9ZlZ",
        "outputId": "896c599c-8179-474a-b5e4-a5db8518d1a0",
        "colab": {
          "base_uri": "https://localhost:8080/"
        }
      },
      "outputs": [
        {
          "output_type": "stream",
          "name": "stdout",
          "text": [
            "We reduced the number of row from 6321302 to 536034\n"
          ]
        }
      ],
      "source": [
        "pre = df_basics.count()\n",
        "df_basics.createOrReplaceTempView(\"BASICS\") # create a temporary table on DataFrame\n",
        "df_basics = spark.sql(\"SELECT * from BASICS WHERE titleType ='movie'\")\n",
        "print(\"We reduced the number of row from {} to {}\".format(pre, df_basics.count()))"
      ],
      "id": "_7idYi-s9ZlZ"
    },
    {
      "cell_type": "markdown",
      "metadata": {
        "id": "AhZYta_8TBU1"
      },
      "source": [
        "We can now see that we have two DataFrame, one containing only the movies and the other only the people which play as actor/actress in a title. To do the desired maket-basket analysis we have to pivot our tconst as rows, so each row stands for one titleId, and then including a list of nconst identifiers of the actors that played in it."
      ],
      "id": "AhZYta_8TBU1"
    },
    {
      "cell_type": "code",
      "execution_count": 14,
      "metadata": {
        "id": "Gg5cCJD1Swlg",
        "outputId": "ddfd181c-8e2d-4d7f-86c4-a28e1bd6f090",
        "colab": {
          "base_uri": "https://localhost:8080/"
        }
      },
      "outputs": [
        {
          "output_type": "stream",
          "name": "stdout",
          "text": [
            "+---------+---------+\n",
            "|   tconst|titleType|\n",
            "+---------+---------+\n",
            "|tt0000009|    movie|\n",
            "|tt0000147|    movie|\n",
            "|tt0000335|    movie|\n",
            "|tt0000502|    movie|\n",
            "|tt0000574|    movie|\n",
            "|tt0000615|    movie|\n",
            "|tt0000630|    movie|\n",
            "|tt0000675|    movie|\n",
            "|tt0000676|    movie|\n",
            "|tt0000679|    movie|\n",
            "+---------+---------+\n",
            "only showing top 10 rows\n",
            "\n"
          ]
        }
      ],
      "source": [
        "df_basics.show(10)"
      ],
      "id": "Gg5cCJD1Swlg"
    },
    {
      "cell_type": "code",
      "execution_count": 15,
      "metadata": {
        "id": "7BnEuTc0S9Xm",
        "outputId": "dd4c6af8-7482-4052-d202-662e76419fa3",
        "colab": {
          "base_uri": "https://localhost:8080/"
        }
      },
      "outputs": [
        {
          "output_type": "stream",
          "name": "stdout",
          "text": [
            "+---------+---------+--------+\n",
            "|   tconst|   nconst|category|\n",
            "+---------+---------+--------+\n",
            "|tt0000005|nm0443482|   actor|\n",
            "|tt0000005|nm0653042|   actor|\n",
            "|tt0000007|nm0179163|   actor|\n",
            "|tt0000007|nm0183947|   actor|\n",
            "|tt0000008|nm0653028|   actor|\n",
            "|tt0000009|nm0063086| actress|\n",
            "|tt0000009|nm0183823|   actor|\n",
            "|tt0000009|nm1309758|   actor|\n",
            "|tt0000011|nm3692297|   actor|\n",
            "|tt0000014|nm0166380|   actor|\n",
            "+---------+---------+--------+\n",
            "only showing top 10 rows\n",
            "\n"
          ]
        }
      ],
      "source": [
        "df_principals.show(10)"
      ],
      "id": "7BnEuTc0S9Xm"
    },
    {
      "cell_type": "markdown",
      "metadata": {
        "id": "QuwFSQN1VyCV"
      },
      "source": [
        "So we start by joining the two dataframe to extract from df_principals only the records with tconst related to a movie. We can also discard the category column since is no longer useful."
      ],
      "id": "QuwFSQN1VyCV"
    },
    {
      "cell_type": "code",
      "execution_count": 16,
      "metadata": {
        "id": "81uUuBOVVj3a",
        "outputId": "a97452da-5f5e-4730-f781-062fb3e3a70e",
        "colab": {
          "base_uri": "https://localhost:8080/"
        }
      },
      "outputs": [
        {
          "output_type": "stream",
          "name": "stdout",
          "text": [
            "+---------+---------+\n",
            "|   tconst|   nconst|\n",
            "+---------+---------+\n",
            "|tt0000009|nm0183823|\n",
            "|tt0000009|nm1309758|\n",
            "|tt0000009|nm0063086|\n",
            "|tt0000335|nm0675239|\n",
            "|tt0000335|nm1010955|\n",
            "|tt0000335|nm0675260|\n",
            "|tt0000335|nm1012612|\n",
            "|tt0000335|nm1012621|\n",
            "|tt0000335|nm1011210|\n",
            "|tt0000502|nm0215752|\n",
            "+---------+---------+\n",
            "only showing top 10 rows\n",
            "\n"
          ]
        }
      ],
      "source": [
        "basket_data = df_principals.join(df_basics, \"tconst\").select(df_principals.tconst, df_principals.nconst).sort(\"tconst\")\n",
        "basket_data.show(10)"
      ],
      "id": "81uUuBOVVj3a"
    },
    {
      "cell_type": "markdown",
      "metadata": {
        "id": "xHywTOMEZbgu"
      },
      "source": [
        "Then we can remove hypothetical duplicated row and then aggregate the data using tconst identifier."
      ],
      "id": "xHywTOMEZbgu"
    },
    {
      "cell_type": "code",
      "execution_count": 17,
      "metadata": {
        "id": "IYN6WQg5Vj4x"
      },
      "outputs": [],
      "source": [
        "from pyspark.sql import functions as F\n",
        "basket_data = basket_data.dropDuplicates()\n",
        "basket_data = basket_data.groupBy(\"tconst\").agg(F.collect_list(\"nconst\").alias(\"nconsts\")).sort('tconst')"
      ],
      "id": "IYN6WQg5Vj4x"
    },
    {
      "cell_type": "markdown",
      "metadata": {
        "id": "vDg_yzzrgF2K"
      },
      "source": [
        "We then sort the transaction data in order to simplify candidates generation."
      ],
      "id": "vDg_yzzrgF2K"
    },
    {
      "cell_type": "code",
      "execution_count": 18,
      "metadata": {
        "id": "836FXaOtgUiA"
      },
      "outputs": [],
      "source": [
        "basket_data = basket_data.withColumn('nconsts', F.sort_array('nconsts'))"
      ],
      "id": "836FXaOtgUiA"
    },
    {
      "cell_type": "code",
      "execution_count": 19,
      "metadata": {
        "id": "IZzSHEsFaa0G",
        "outputId": "204d20dd-828e-4a8b-8c96-1b499f96a4c8",
        "colab": {
          "base_uri": "https://localhost:8080/"
        }
      },
      "outputs": [
        {
          "output_type": "stream",
          "name": "stdout",
          "text": [
            "There are 393656 titleId buckets\n",
            "+---------+------------------------------------------------------------------+\n",
            "|tconst   |nconsts                                                           |\n",
            "+---------+------------------------------------------------------------------+\n",
            "|tt0000009|[nm0063086, nm0183823, nm1309758]                                 |\n",
            "|tt0000335|[nm0675239, nm0675260, nm1010955, nm1011210, nm1012612, nm1012621]|\n",
            "|tt0000502|[nm0215752, nm0252720]                                            |\n",
            "|tt0000574|[nm0170118, nm0846887, nm0846894, nm3002376]                      |\n",
            "|tt0000615|[nm0218953, nm0240418, nm0346387, nm0581353, nm0888988, nm3071427]|\n",
            "|tt0000630|[nm0624446]                                                       |\n",
            "|tt0000676|[nm0097421, nm0140054]                                            |\n",
            "|tt0000679|[nm0000875, nm0122665, nm0933446, nm2924919]                      |\n",
            "|tt0000793|[nm0691995]                                                       |\n",
            "|tt0000862|[nm0264569, nm0386036, nm0511080, nm5188470, nm5289318, nm5289829]|\n",
            "+---------+------------------------------------------------------------------+\n",
            "only showing top 10 rows\n",
            "\n"
          ]
        }
      ],
      "source": [
        "print(\"There are {} titleId buckets\".format(basket_data.count()))\n",
        "basket_data.show(10, False)"
      ],
      "id": "IZzSHEsFaa0G"
    },
    {
      "cell_type": "markdown",
      "metadata": {
        "id": "JOFUnUEZclPs"
      },
      "source": [
        "As we can see above we now have the data in the correct format to do our analysis: in each row we have the identifier of a movie and in the second column the list of the idenfiers of the actors that played in it.\n",
        "Since we have done all the needed pre-processing computation on the data we can transform our DataFrame in a RDD to apply map-reduce functions."
      ],
      "id": "JOFUnUEZclPs"
    },
    {
      "cell_type": "code",
      "source": [
        "basket_data = basket_data.rdd"
      ],
      "metadata": {
        "id": "JIivyDnxQMUq"
      },
      "id": "JIivyDnxQMUq",
      "execution_count": 43,
      "outputs": []
    },
    {
      "cell_type": "markdown",
      "metadata": {
        "id": "ti7KSSed4h34"
      },
      "source": [
        "# Apriori classic"
      ],
      "id": "ti7KSSed4h34"
    },
    {
      "cell_type": "markdown",
      "metadata": {
        "id": "UTGVInR_j-Fu"
      },
      "source": [
        "We start by implementing the classic Apriori algorithm. In particular we search until no more k-itemsets are found."
      ],
      "id": "UTGVInR_j-Fu"
    },
    {
      "cell_type": "code",
      "execution_count": 20,
      "metadata": {
        "id": "zUn2HchZukHA"
      },
      "outputs": [],
      "source": [
        "def generate_candidate_k_set(frequent_kmin1_set, k):\n",
        "  \"\"\"\n",
        "  frequent_kmin1_set: list\n",
        "  k: int\n",
        "\n",
        "  return: list\n",
        "\n",
        "  Take as input an integer k and a frequent k-1 itemset. Return as output the candidate k itemset obtained from frequent_kmin1_set\n",
        "  \"\"\"\n",
        "  if k < 2:\n",
        "    raise ValueError(\"k must be >= 2\")\n",
        "  \n",
        "  candidates = []\n",
        "\n",
        "  # cast singleton itemset into list\n",
        "  if type(frequent_kmin1_set[0]) != tuple:\n",
        "    frequent_kmin1_set = [[x] for x in frequent_kmin1_set]\n",
        "\n",
        "  for x in frequent_kmin1_set:\n",
        "    for y in frequent_kmin1_set:\n",
        "      if x[:k - 2] == y[:k - 2] and x[k - 2] < y[k - 2]:\n",
        "        candidates.append((*x[:k - 2], x[k - 2], y[k - 2]))\n",
        "  return candidates"
      ],
      "id": "zUn2HchZukHA"
    },
    {
      "cell_type": "code",
      "execution_count": 21,
      "metadata": {
        "id": "F7SMmiPiiQrQ"
      },
      "outputs": [],
      "source": [
        "import functools\n",
        "from itertools import tee\n",
        "                    \n",
        "def apriori_unlimited_k(transactions, support_threshold):\n",
        "  \"\"\"\n",
        "  transactions: list [(key, [elements]), ...]\n",
        "  support_threshold: int\n",
        "\n",
        "  return: list [(itemset, support), ...]\n",
        "  \"\"\"\n",
        "  useIterator,copyIterator = tee(transactions)\n",
        "\n",
        "  frequent_elements = {}\n",
        "\n",
        "  # count singletons\n",
        "  counter = {}\n",
        "  for _, transaction in useIterator:\n",
        "    for x in transaction:\n",
        "      # if is not present in counter set return 0 and add 1, otherwise add 1 to entry x\n",
        "      counter[x] = counter.get(x,0) + 1\n",
        "\n",
        "  # filter out imtesets with count >= the threshold\n",
        "  frequent_elements[1] = [(k, v) for k, v in counter.items() if v >= support_threshold]\n",
        "  \n",
        "  k = 2\n",
        "  while frequent_elements[k - 1]:\n",
        "    all_candidate_sets = generate_candidate_k_set([e[0] for e in frequent_elements[k - 1]], k)\n",
        "\n",
        "    useIterator, copyIterator = tee(copyIterator)\n",
        "    counter = {}\n",
        "    for _, transaction in useIterator:\n",
        "      for candidate_set in all_candidate_sets:\n",
        "        # check that all the element in the candidate set are in transaction\n",
        "        if all([candidate_element in transaction for candidate_element in candidate_set]):\n",
        "          counter[candidate_set] = counter.get(candidate_set, 0) + 1\n",
        "    # keep only the itemsets with counter >= the threshold\n",
        "    frequent_elements[k] = [(itemset, occ) for itemset, occ in counter.items() if occ >= support_threshold]\n",
        "    k += 1\n",
        "  return functools.reduce(lambda a, b: a + b, frequent_elements.values())"
      ],
      "id": "F7SMmiPiiQrQ"
    },
    {
      "cell_type": "code",
      "execution_count": 22,
      "metadata": {
        "colab": {
          "base_uri": "https://localhost:8080/"
        },
        "id": "1rQVnV3xoz7p",
        "outputId": "84cac8fe-3686-4a31-dc9d-1eacf826e1b3"
      },
      "outputs": [
        {
          "output_type": "execute_result",
          "data": {
            "text/plain": [
              "[('I1', 2),\n",
              " ('I3', 3),\n",
              " ('I2', 3),\n",
              " ('I5', 3),\n",
              " (('I1', 'I3'), 2),\n",
              " (('I3', 'I5'), 2),\n",
              " (('I2', 'I3'), 2),\n",
              " (('I2', 'I5'), 3),\n",
              " (('I2', 'I3', 'I5'), 2)]"
            ]
          },
          "metadata": {},
          "execution_count": 22
        }
      ],
      "source": [
        "test = [\n",
        "        (\"t1\", [\"I1\", \"I3\", \"I4\"]),\n",
        "        (\"t2\", [\"I2\", \"I3\", \"I5\"]),\n",
        "        (\"t3\", [\"I1\", \"I2\", \"I3\", \"I5\"]),\n",
        "        (\"t4\", [\"I2\", \"I5\"]),\n",
        "  ]\n",
        "\n",
        "apriori_unlimited_k(test, 2)"
      ],
      "id": "1rQVnV3xoz7p"
    },
    {
      "cell_type": "markdown",
      "metadata": {
        "id": "I7dZSxBd1hWQ"
      },
      "source": [
        "# Apriori with MAP-REDUCE"
      ],
      "id": "I7dZSxBd1hWQ"
    },
    {
      "cell_type": "markdown",
      "metadata": {
        "id": "YYDq3kNh5aql"
      },
      "source": [
        "Follow an implementatio of the Apriori algorithm using a map-reduce approach."
      ],
      "id": "YYDq3kNh5aql"
    },
    {
      "cell_type": "code",
      "execution_count": 23,
      "metadata": {
        "id": "2AlYVXPwD2yv"
      },
      "outputs": [],
      "source": [
        "def filter_candidate(transaction, all_candidate_sets):\n",
        "  \"\"\"\n",
        "  transaction: list\n",
        "  all_candidate_set: list\n",
        "\n",
        "  return: list\n",
        "  return only the candidate set which are in the transaction\n",
        "  \"\"\"\n",
        "  exist = []\n",
        "  for candidate_set in all_candidate_sets:\n",
        "    if all([candidate_element in transaction for candidate_element in candidate_set]):\n",
        "      exist.append(candidate_set)\n",
        "  return exist"
      ],
      "id": "2AlYVXPwD2yv"
    },
    {
      "cell_type": "code",
      "execution_count": 24,
      "metadata": {
        "id": "qdt80B7guQcy"
      },
      "outputs": [],
      "source": [
        "def apriorihmap_unlimited_k(data, support_threshold):\n",
        "  \"\"\" \n",
        "  data: Pyspark.rdd \n",
        "    [\n",
        "      [tconst, [nconst,]],\n",
        "    ]\n",
        "  support_threshold: int\n",
        "\n",
        "  return: Pyspark.rdd\n",
        "  \"\"\"\n",
        "  nconst_rdd = data.map(lambda x: x[1])\n",
        "\n",
        "  # find singletone\n",
        "  frequent_items_rdd = nconst_rdd.flatMap(lambda x: x) \\\n",
        "        .map(lambda elem: (elem,1)) \\\n",
        "        .reduceByKey(lambda a,b: a+b) \\\n",
        "        .filter(lambda x: x[1] >= support_threshold)\n",
        "\n",
        "  # to save frequent itemsets for each k iteration\n",
        "  frequent_elements = frequent_items_rdd.map(lambda x: x[0]).collect()\n",
        "  k = 2\n",
        "  # until there are no more frequent itemesets with support >= threshold\n",
        "  while frequent_elements:\n",
        "    # generate all the candidate k itemset from frequent_elements (k - 1)\n",
        "    all_candidate_sets = generate_candidate_k_set(frequent_elements, k) \n",
        "    \n",
        "    frequent_k_rdd = nconst_rdd.flatMap(lambda x: filter_candidate(x, all_candidate_sets)) \\\n",
        "              .map(lambda x: (x,1)) \\\n",
        "              .reduceByKey(lambda a,b: a+b) \\\n",
        "              .filter(lambda x: x[1] >= support_threshold)\n",
        "    frequent_items_rdd = frequent_items_rdd.union(frequent_k_rdd)\n",
        "\n",
        "    # add new frequent element\n",
        "    frequent_elements = frequent_k_rdd.map(lambda x: x[0]).collect()\n",
        "    k += 1\n",
        "  return frequent_items_rdd"
      ],
      "id": "qdt80B7guQcy"
    },
    {
      "cell_type": "markdown",
      "metadata": {
        "id": "0KsAA5w_21g1"
      },
      "source": [
        "# SON"
      ],
      "id": "0KsAA5w_21g1"
    },
    {
      "cell_type": "markdown",
      "metadata": {
        "id": "eJwtNWu9mNL3"
      },
      "source": [
        "We must define a function for the second step to properly count the number of occurrence of frequent itemsets in a partition."
      ],
      "id": "eJwtNWu9mNL3"
    },
    {
      "cell_type": "code",
      "execution_count": 25,
      "metadata": {
        "id": "eGizCiVdI01u"
      },
      "outputs": [],
      "source": [
        "def count_in_partition(data, frequent):\n",
        "  \"\"\"\n",
        "  data: iterable\n",
        "  frequent:  pyspark.Broadcast\n",
        "\n",
        "  return: list \n",
        "  \n",
        "  count the occurence of each itemeset in frequent in the partion data\n",
        "  \"\"\"\n",
        "  # prepare data for processing\n",
        "  frequent = frequent.value   # extract broadcasted values\n",
        "  data = list(data)\n",
        "\n",
        "  # check foreach frequent itemset\n",
        "  for frequent_item in frequent:\n",
        "    # trick to cast single element to list → not remove in the str duplicate char using set()\n",
        "    if type(frequent_item) is not tuple:\n",
        "      to_check = [frequent_item]\n",
        "    else:\n",
        "      to_check = frequent_item\n",
        "      \n",
        "    c = 0     # counter\n",
        "    # and foreach row of the dataset\n",
        "    for itemset in data:\n",
        "      # check if the frequent itemset is subset of the items of the row\n",
        "      if set(to_check).issubset(itemset[1]):\n",
        "        c += 1\n",
        "    yield (frequent_item, c)"
      ],
      "id": "eGizCiVdI01u"
    },
    {
      "cell_type": "code",
      "execution_count": 26,
      "metadata": {
        "id": "ff6lKtG-gpYk"
      },
      "outputs": [],
      "source": [
        "def count_in_partition_v2(data, frequent):\n",
        "  frequent = frequent.value   # extract broadcasted values\n",
        "  data = list(data)\n",
        "\n",
        "  for frequent_itemset in frequent.keys():\n",
        "    # convert frequent singleton to list if needed. It will be converted to set later\n",
        "    freq_itemset_copy = frequent_itemset if type(frequent_itemset) is not str else [frequent_itemset]\n",
        "    \n",
        "    # count all the transactions that contain freq_itemset_copy\n",
        "    c = sum(1 for _,transaction in data if set(freq_itemset_copy).issubset(transaction))\n",
        "\n",
        "    yield (frequent_itemset, c)"
      ],
      "id": "ff6lKtG-gpYk"
    },
    {
      "cell_type": "markdown",
      "metadata": {
        "id": "565n3mcLm4vX"
      },
      "source": [
        "Then the implementation of SON with a two step map-reduce. The first finds out the frequent itemsets in the partition and the latter go to count them in the dataset and filters out the ones with support greater than threshold."
      ],
      "id": "565n3mcLm4vX"
    },
    {
      "cell_type": "code",
      "execution_count": 27,
      "metadata": {
        "id": "BwaMIM_AI33k"
      },
      "outputs": [],
      "source": [
        "def son_m_r(data, support):\n",
        "  \"\"\"\n",
        "  data: Pyspark.rdd \n",
        "    [\n",
        "      [tconst, [nconst,]],\n",
        "    ]\n",
        "  support: int\n",
        "\n",
        "  return: Pyspark.rdd\n",
        "  \"\"\"\n",
        "  reduced_support = support//data.getNumPartitions()\n",
        "  # use apriori on every partition\n",
        "  first_map = data.mapPartitions(lambda partition: apriori_unlimited_k(partition, reduced_support)).map(lambda x: (x[0], None))\n",
        "  first_reduce = first_map.reduceByKey(lambda a,b: a) # reduce just to remove duplicates\n",
        "  \n",
        "  # extract the frequent itemsets and broadcast them to worker nodes\n",
        "  frequent_items = [x[0] for x in first_reduce.collect()]\n",
        "\n",
        "  # same but using spark distinct()\n",
        "  # frequent_items = data.mapPartitions(lambda partition: apriori_unlimited_k(partition, reduced_support)).map(lambda x: x[0]).distinct().collect()\n",
        "\n",
        "  frequent_items = spark.sparkContext.broadcast(frequent_items)\n",
        "\n",
        "  second_map = data.mapPartitions(lambda partition: count_in_partition(partition, frequent_items))\n",
        "  second_reduce = second_map.reduceByKey(lambda a,b: a+b).filter(lambda x: x[1] >= support)\n",
        "  return second_reduce"
      ],
      "id": "BwaMIM_AI33k"
    },
    {
      "cell_type": "code",
      "execution_count": 28,
      "metadata": {
        "id": "ImC5plrpZ4wv"
      },
      "outputs": [],
      "source": [
        "def son_m_r_v2(data, support):\n",
        "  reduced_support = support/data.getNumPartitions()\n",
        "\n",
        "  candidate_frequent_itemsets_rdd = data.mapPartitions(lambda partition: apriori_unlimited_k(partition, reduced_support)).map(lambda x: x[0])\n",
        "\n",
        "  # broadcast the frequent items to worker nodes\n",
        "  candidate_frequent_itemsets_bv = spark.sparkContext.broadcast(\n",
        "      {x:True for x in candidate_frequent_itemsets_rdd.collect()}\n",
        "  )\n",
        "  \n",
        "  second_map = data.mapPartitions(lambda partition: count_in_partition_v2(partition, candidate_frequent_itemsets_bv))\n",
        "  frequent_itemsets = second_map.reduceByKey(lambda a,b: a+b).filter(lambda x: x[1] >= support)\n",
        "  return frequent_itemsets"
      ],
      "id": "ImC5plrpZ4wv"
    },
    {
      "cell_type": "markdown",
      "metadata": {
        "id": "6Y3eYwlUhklx"
      },
      "source": [
        "# Test of the algorithms"
      ],
      "id": "6Y3eYwlUhklx"
    },
    {
      "cell_type": "markdown",
      "metadata": {
        "id": "MAmmpjQxh37m"
      },
      "source": [
        "We extract a subset of 1000 rows from the dataset to test out that our algorithms work as expected. We define min_support as 1% of the count of the rows."
      ],
      "id": "MAmmpjQxh37m"
    },
    {
      "cell_type": "code",
      "execution_count": 29,
      "metadata": {
        "id": "DFU3nax7hwzB",
        "outputId": "1b2f2001-a7b9-4904-f4bb-d0c369fa2fd3",
        "colab": {
          "base_uri": "https://localhost:8080/"
        }
      },
      "outputs": [
        {
          "output_type": "execute_result",
          "data": {
            "text/plain": [
              "10.0"
            ]
          },
          "metadata": {},
          "execution_count": 29
        }
      ],
      "source": [
        "import pandas as pd\n",
        "minsup = 0.01\n",
        "num_rows = 1000\n",
        "sup = minsup*num_rows\n",
        "sup"
      ],
      "id": "DFU3nax7hwzB"
    },
    {
      "cell_type": "code",
      "execution_count": 30,
      "metadata": {
        "id": "Jzci8_QwRzuJ",
        "outputId": "4f85bb43-9bf9-4cea-b410-a684cf327672",
        "colab": {
          "base_uri": "https://localhost:8080/"
        }
      },
      "outputs": [
        {
          "output_type": "execute_result",
          "data": {
            "text/plain": [
              "[Row(tconst='tt0000009', nconsts=['nm0063086', 'nm0183823', 'nm1309758']),\n",
              " Row(tconst='tt0000335', nconsts=['nm0675239', 'nm0675260', 'nm1010955', 'nm1011210', 'nm1012612', 'nm1012621']),\n",
              " Row(tconst='tt0000502', nconsts=['nm0215752', 'nm0252720']),\n",
              " Row(tconst='tt0000574', nconsts=['nm0170118', 'nm0846887', 'nm0846894', 'nm3002376']),\n",
              " Row(tconst='tt0000615', nconsts=['nm0218953', 'nm0240418', 'nm0346387', 'nm0581353', 'nm0888988', 'nm3071427'])]"
            ]
          },
          "metadata": {},
          "execution_count": 30
        }
      ],
      "source": [
        "minid = basket_data.take(num_rows)\n",
        "minid = spark.sparkContext.parallelize(minid)\n",
        "minid.take(5)"
      ],
      "id": "Jzci8_QwRzuJ"
    },
    {
      "cell_type": "code",
      "execution_count": 31,
      "metadata": {
        "id": "sK_HFCKEcgz6"
      },
      "outputs": [],
      "source": [
        "import time\n",
        "execution_times = {}"
      ],
      "id": "sK_HFCKEcgz6"
    },
    {
      "cell_type": "markdown",
      "metadata": {
        "id": "UeweibBnjlt-"
      },
      "source": [
        "We start by exectuing the classic implementation of apriori. Is compulsory to  collect the data from the RDD since this is a non distributed implementation."
      ],
      "id": "UeweibBnjlt-"
    },
    {
      "cell_type": "code",
      "execution_count": 32,
      "metadata": {
        "id": "bvT1hHJejqx-"
      },
      "outputs": [],
      "source": [
        "before = time.time()\n",
        "\n",
        "apriori1 = list(apriori_unlimited_k(minid.collect(), sup))\n",
        "\n",
        "execution_times[\"apriori_seq\"] = time.time() - before"
      ],
      "id": "bvT1hHJejqx-"
    },
    {
      "cell_type": "markdown",
      "metadata": {
        "id": "uJQ80_vgj8GV"
      },
      "source": [
        "The we have the Apriori implementation with map-reduce"
      ],
      "id": "uJQ80_vgj8GV"
    },
    {
      "cell_type": "code",
      "execution_count": 33,
      "metadata": {
        "id": "TE7l29m1j7m9"
      },
      "outputs": [],
      "source": [
        "before = time.time()\n",
        "\n",
        "apriori2 = apriorihmap_unlimited_k(minid, sup).collect()\n",
        "\n",
        "execution_times[\"apriori_MR\"] = time.time() - before"
      ],
      "id": "TE7l29m1j7m9"
    },
    {
      "cell_type": "markdown",
      "metadata": {
        "id": "NLsmu3F9k71N"
      },
      "source": [
        "Follow the implementation with SON. The data must be repartioned on the finded sweet-spot number of partitions"
      ],
      "id": "NLsmu3F9k71N"
    },
    {
      "cell_type": "code",
      "execution_count": 35,
      "metadata": {
        "id": "y6IRRQKJ2rF7"
      },
      "outputs": [],
      "source": [
        "minid = minid.repartition(4)\n",
        "\n",
        "before = time.time()\n",
        "\n",
        "son = son_m_r(minid, sup).collect()\n",
        "\n",
        "execution_times[\"son\"] = time.time() - before"
      ],
      "id": "y6IRRQKJ2rF7"
    },
    {
      "cell_type": "code",
      "execution_count": 36,
      "metadata": {
        "id": "5BAUF1yUIrL9"
      },
      "outputs": [],
      "source": [
        "before = time.time()\n",
        "\n",
        "son_v2 = son_m_r_v2(minid, sup).collect()\n",
        "\n",
        "execution_times[\"son_dict\"] = time.time() - before"
      ],
      "id": "5BAUF1yUIrL9"
    },
    {
      "cell_type": "markdown",
      "metadata": {
        "id": "6Dl2cFhxoIp1"
      },
      "source": [
        "Then we also train the in-library implementation of FPGrowth to have a comparison with a correct algorithm"
      ],
      "id": "6Dl2cFhxoIp1"
    },
    {
      "cell_type": "code",
      "execution_count": 37,
      "metadata": {
        "id": "i-JGaLC6oIL2"
      },
      "outputs": [],
      "source": [
        "from pyspark.ml.fpm import FPGrowth\n",
        "fpGrowth = FPGrowth(itemsCol=\"nconsts\")\n",
        "\n",
        "before = time.time()\n",
        "\n",
        "# initialize\n",
        "fpGrowth.setMinSupport(minsup)\n",
        "model = fpGrowth.fit(minid.toDF())\n",
        "\n",
        "# get itemsets\n",
        "fp_growth = model.freqItemsets.collect()\n",
        "\n",
        "execution_times[\"fpgrowth\"] = time.time() - before"
      ],
      "id": "i-JGaLC6oIL2"
    },
    {
      "cell_type": "code",
      "execution_count": 38,
      "metadata": {
        "id": "KdmS1h6zsGCd"
      },
      "outputs": [],
      "source": [
        "# trasform the output of FPGrowth to be the same as our implementations\n",
        "def trasform_format(data):\n",
        "  res = []\n",
        "  for d in data:\n",
        "    if len(d.items) == 1:\n",
        "      # (\"item\") -> \"item\"\n",
        "      itemset = d.items[0]\n",
        "    else:\n",
        "      # (\"z\", \"a\") -> (\"a\", \"z\")\n",
        "      itemset = tuple(sorted(d.items))\n",
        "\n",
        "    res.append((itemset, d.freq))\n",
        "  return res\n",
        "\n",
        "# convert result\n",
        "fp_growth = trasform_format(fp_growth)"
      ],
      "id": "KdmS1h6zsGCd"
    },
    {
      "cell_type": "markdown",
      "metadata": {
        "id": "aP1FgwrOwz5F"
      },
      "source": [
        "Let's put the obtained result in a tabular way."
      ],
      "id": "aP1FgwrOwz5F"
    },
    {
      "cell_type": "code",
      "execution_count": 39,
      "metadata": {
        "colab": {
          "base_uri": "https://localhost:8080/",
          "height": 707
        },
        "id": "lOfyQmTHiyfM",
        "outputId": "0a47322e-4b4c-4fa0-9e70-99bdb58b3fb2"
      },
      "outputs": [
        {
          "output_type": "execute_result",
          "data": {
            "text/html": [
              "\n",
              "  <div id=\"df-faf215cd-21ab-4175-91f7-4ed4190a03ca\">\n",
              "    <div class=\"colab-df-container\">\n",
              "      <div>\n",
              "<style scoped>\n",
              "    .dataframe tbody tr th:only-of-type {\n",
              "        vertical-align: middle;\n",
              "    }\n",
              "\n",
              "    .dataframe tbody tr th {\n",
              "        vertical-align: top;\n",
              "    }\n",
              "\n",
              "    .dataframe thead th {\n",
              "        text-align: right;\n",
              "    }\n",
              "</style>\n",
              "<table border=\"1\" class=\"dataframe\">\n",
              "  <thead>\n",
              "    <tr style=\"text-align: right;\">\n",
              "      <th></th>\n",
              "      <th>Apriori</th>\n",
              "      <th>Apriori MR</th>\n",
              "      <th>SON</th>\n",
              "      <th>SON_V2</th>\n",
              "      <th>FPGrowth</th>\n",
              "      <th>Equal</th>\n",
              "    </tr>\n",
              "  </thead>\n",
              "  <tbody>\n",
              "    <tr>\n",
              "      <th>nm0140054</th>\n",
              "      <td>14</td>\n",
              "      <td>14</td>\n",
              "      <td>14</td>\n",
              "      <td>14</td>\n",
              "      <td>14</td>\n",
              "      <td>True</td>\n",
              "    </tr>\n",
              "    <tr>\n",
              "      <th>nm0528022</th>\n",
              "      <td>10</td>\n",
              "      <td>10</td>\n",
              "      <td>10</td>\n",
              "      <td>10</td>\n",
              "      <td>10</td>\n",
              "      <td>True</td>\n",
              "    </tr>\n",
              "    <tr>\n",
              "      <th>nm0681933</th>\n",
              "      <td>16</td>\n",
              "      <td>16</td>\n",
              "      <td>16</td>\n",
              "      <td>16</td>\n",
              "      <td>16</td>\n",
              "      <td>True</td>\n",
              "    </tr>\n",
              "    <tr>\n",
              "      <th>nm0516974</th>\n",
              "      <td>20</td>\n",
              "      <td>20</td>\n",
              "      <td>20</td>\n",
              "      <td>20</td>\n",
              "      <td>20</td>\n",
              "      <td>True</td>\n",
              "    </tr>\n",
              "    <tr>\n",
              "      <th>nm0110838</th>\n",
              "      <td>11</td>\n",
              "      <td>11</td>\n",
              "      <td>11</td>\n",
              "      <td>11</td>\n",
              "      <td>11</td>\n",
              "      <td>True</td>\n",
              "    </tr>\n",
              "    <tr>\n",
              "      <th>nm0292407</th>\n",
              "      <td>16</td>\n",
              "      <td>16</td>\n",
              "      <td>16</td>\n",
              "      <td>16</td>\n",
              "      <td>16</td>\n",
              "      <td>True</td>\n",
              "    </tr>\n",
              "    <tr>\n",
              "      <th>nm0926280</th>\n",
              "      <td>18</td>\n",
              "      <td>18</td>\n",
              "      <td>18</td>\n",
              "      <td>18</td>\n",
              "      <td>18</td>\n",
              "      <td>True</td>\n",
              "    </tr>\n",
              "    <tr>\n",
              "      <th>nm0676473</th>\n",
              "      <td>14</td>\n",
              "      <td>14</td>\n",
              "      <td>14</td>\n",
              "      <td>14</td>\n",
              "      <td>14</td>\n",
              "      <td>True</td>\n",
              "    </tr>\n",
              "    <tr>\n",
              "      <th>nm0392059</th>\n",
              "      <td>14</td>\n",
              "      <td>14</td>\n",
              "      <td>14</td>\n",
              "      <td>14</td>\n",
              "      <td>14</td>\n",
              "      <td>True</td>\n",
              "    </tr>\n",
              "    <tr>\n",
              "      <th>nm0163540</th>\n",
              "      <td>14</td>\n",
              "      <td>14</td>\n",
              "      <td>14</td>\n",
              "      <td>14</td>\n",
              "      <td>14</td>\n",
              "      <td>True</td>\n",
              "    </tr>\n",
              "    <tr>\n",
              "      <th>nm0098376</th>\n",
              "      <td>12</td>\n",
              "      <td>12</td>\n",
              "      <td>12</td>\n",
              "      <td>12</td>\n",
              "      <td>12</td>\n",
              "      <td>True</td>\n",
              "    </tr>\n",
              "    <tr>\n",
              "      <th>nm0867469</th>\n",
              "      <td>10</td>\n",
              "      <td>10</td>\n",
              "      <td>10</td>\n",
              "      <td>10</td>\n",
              "      <td>10</td>\n",
              "      <td>True</td>\n",
              "    </tr>\n",
              "    <tr>\n",
              "      <th>nm0824332</th>\n",
              "      <td>11</td>\n",
              "      <td>11</td>\n",
              "      <td>11</td>\n",
              "      <td>11</td>\n",
              "      <td>11</td>\n",
              "      <td>True</td>\n",
              "    </tr>\n",
              "    <tr>\n",
              "      <th>nm0731623</th>\n",
              "      <td>11</td>\n",
              "      <td>11</td>\n",
              "      <td>11</td>\n",
              "      <td>11</td>\n",
              "      <td>11</td>\n",
              "      <td>True</td>\n",
              "    </tr>\n",
              "    <tr>\n",
              "      <th>nm0104197</th>\n",
              "      <td>10</td>\n",
              "      <td>10</td>\n",
              "      <td>10</td>\n",
              "      <td>10</td>\n",
              "      <td>10</td>\n",
              "      <td>True</td>\n",
              "    </tr>\n",
              "    <tr>\n",
              "      <th>nm0344059</th>\n",
              "      <td>10</td>\n",
              "      <td>10</td>\n",
              "      <td>10</td>\n",
              "      <td>10</td>\n",
              "      <td>10</td>\n",
              "      <td>True</td>\n",
              "    </tr>\n",
              "    <tr>\n",
              "      <th>nm0728230</th>\n",
              "      <td>10</td>\n",
              "      <td>10</td>\n",
              "      <td>10</td>\n",
              "      <td>10</td>\n",
              "      <td>10</td>\n",
              "      <td>True</td>\n",
              "    </tr>\n",
              "    <tr>\n",
              "      <th>nm0822059</th>\n",
              "      <td>10</td>\n",
              "      <td>10</td>\n",
              "      <td>10</td>\n",
              "      <td>10</td>\n",
              "      <td>10</td>\n",
              "      <td>True</td>\n",
              "    </tr>\n",
              "    <tr>\n",
              "      <th>nm0386893</th>\n",
              "      <td>10</td>\n",
              "      <td>10</td>\n",
              "      <td>10</td>\n",
              "      <td>10</td>\n",
              "      <td>10</td>\n",
              "      <td>True</td>\n",
              "    </tr>\n",
              "    <tr>\n",
              "      <th>(nm0292407, nm0926280)</th>\n",
              "      <td>10</td>\n",
              "      <td>10</td>\n",
              "      <td>10</td>\n",
              "      <td>10</td>\n",
              "      <td>10</td>\n",
              "      <td>True</td>\n",
              "    </tr>\n",
              "    <tr>\n",
              "      <th>(nm0344059, nm0728230)</th>\n",
              "      <td>10</td>\n",
              "      <td>10</td>\n",
              "      <td>10</td>\n",
              "      <td>10</td>\n",
              "      <td>10</td>\n",
              "      <td>True</td>\n",
              "    </tr>\n",
              "  </tbody>\n",
              "</table>\n",
              "</div>\n",
              "      <button class=\"colab-df-convert\" onclick=\"convertToInteractive('df-faf215cd-21ab-4175-91f7-4ed4190a03ca')\"\n",
              "              title=\"Convert this dataframe to an interactive table.\"\n",
              "              style=\"display:none;\">\n",
              "        \n",
              "  <svg xmlns=\"http://www.w3.org/2000/svg\" height=\"24px\"viewBox=\"0 0 24 24\"\n",
              "       width=\"24px\">\n",
              "    <path d=\"M0 0h24v24H0V0z\" fill=\"none\"/>\n",
              "    <path d=\"M18.56 5.44l.94 2.06.94-2.06 2.06-.94-2.06-.94-.94-2.06-.94 2.06-2.06.94zm-11 1L8.5 8.5l.94-2.06 2.06-.94-2.06-.94L8.5 2.5l-.94 2.06-2.06.94zm10 10l.94 2.06.94-2.06 2.06-.94-2.06-.94-.94-2.06-.94 2.06-2.06.94z\"/><path d=\"M17.41 7.96l-1.37-1.37c-.4-.4-.92-.59-1.43-.59-.52 0-1.04.2-1.43.59L10.3 9.45l-7.72 7.72c-.78.78-.78 2.05 0 2.83L4 21.41c.39.39.9.59 1.41.59.51 0 1.02-.2 1.41-.59l7.78-7.78 2.81-2.81c.8-.78.8-2.07 0-2.86zM5.41 20L4 18.59l7.72-7.72 1.47 1.35L5.41 20z\"/>\n",
              "  </svg>\n",
              "      </button>\n",
              "      \n",
              "  <style>\n",
              "    .colab-df-container {\n",
              "      display:flex;\n",
              "      flex-wrap:wrap;\n",
              "      gap: 12px;\n",
              "    }\n",
              "\n",
              "    .colab-df-convert {\n",
              "      background-color: #E8F0FE;\n",
              "      border: none;\n",
              "      border-radius: 50%;\n",
              "      cursor: pointer;\n",
              "      display: none;\n",
              "      fill: #1967D2;\n",
              "      height: 32px;\n",
              "      padding: 0 0 0 0;\n",
              "      width: 32px;\n",
              "    }\n",
              "\n",
              "    .colab-df-convert:hover {\n",
              "      background-color: #E2EBFA;\n",
              "      box-shadow: 0px 1px 2px rgba(60, 64, 67, 0.3), 0px 1px 3px 1px rgba(60, 64, 67, 0.15);\n",
              "      fill: #174EA6;\n",
              "    }\n",
              "\n",
              "    [theme=dark] .colab-df-convert {\n",
              "      background-color: #3B4455;\n",
              "      fill: #D2E3FC;\n",
              "    }\n",
              "\n",
              "    [theme=dark] .colab-df-convert:hover {\n",
              "      background-color: #434B5C;\n",
              "      box-shadow: 0px 1px 3px 1px rgba(0, 0, 0, 0.15);\n",
              "      filter: drop-shadow(0px 1px 2px rgba(0, 0, 0, 0.3));\n",
              "      fill: #FFFFFF;\n",
              "    }\n",
              "  </style>\n",
              "\n",
              "      <script>\n",
              "        const buttonEl =\n",
              "          document.querySelector('#df-faf215cd-21ab-4175-91f7-4ed4190a03ca button.colab-df-convert');\n",
              "        buttonEl.style.display =\n",
              "          google.colab.kernel.accessAllowed ? 'block' : 'none';\n",
              "\n",
              "        async function convertToInteractive(key) {\n",
              "          const element = document.querySelector('#df-faf215cd-21ab-4175-91f7-4ed4190a03ca');\n",
              "          const dataTable =\n",
              "            await google.colab.kernel.invokeFunction('convertToInteractive',\n",
              "                                                     [key], {});\n",
              "          if (!dataTable) return;\n",
              "\n",
              "          const docLinkHtml = 'Like what you see? Visit the ' +\n",
              "            '<a target=\"_blank\" href=https://colab.research.google.com/notebooks/data_table.ipynb>data table notebook</a>'\n",
              "            + ' to learn more about interactive tables.';\n",
              "          element.innerHTML = '';\n",
              "          dataTable['output_type'] = 'display_data';\n",
              "          await google.colab.output.renderOutput(dataTable, element);\n",
              "          const docLink = document.createElement('div');\n",
              "          docLink.innerHTML = docLinkHtml;\n",
              "          element.appendChild(docLink);\n",
              "        }\n",
              "      </script>\n",
              "    </div>\n",
              "  </div>\n",
              "  "
            ],
            "text/plain": [
              "                        Apriori  Apriori MR  SON  SON_V2  FPGrowth  Equal\n",
              "nm0140054                    14          14   14      14        14   True\n",
              "nm0528022                    10          10   10      10        10   True\n",
              "nm0681933                    16          16   16      16        16   True\n",
              "nm0516974                    20          20   20      20        20   True\n",
              "nm0110838                    11          11   11      11        11   True\n",
              "nm0292407                    16          16   16      16        16   True\n",
              "nm0926280                    18          18   18      18        18   True\n",
              "nm0676473                    14          14   14      14        14   True\n",
              "nm0392059                    14          14   14      14        14   True\n",
              "nm0163540                    14          14   14      14        14   True\n",
              "nm0098376                    12          12   12      12        12   True\n",
              "nm0867469                    10          10   10      10        10   True\n",
              "nm0824332                    11          11   11      11        11   True\n",
              "nm0731623                    11          11   11      11        11   True\n",
              "nm0104197                    10          10   10      10        10   True\n",
              "nm0344059                    10          10   10      10        10   True\n",
              "nm0728230                    10          10   10      10        10   True\n",
              "nm0822059                    10          10   10      10        10   True\n",
              "nm0386893                    10          10   10      10        10   True\n",
              "(nm0292407, nm0926280)       10          10   10      10        10   True\n",
              "(nm0344059, nm0728230)       10          10   10      10        10   True"
            ]
          },
          "metadata": {},
          "execution_count": 39
        }
      ],
      "source": [
        "df1 = pd.DataFrame([x[1] for x in apriori1], index=[x[0] for x in apriori1], columns =['Apriori'])\n",
        "df2 = pd.DataFrame([x[1] for x in apriori2], index=[x[0] for x in apriori2], columns =['Apriori MR'])\n",
        "df3 = pd.DataFrame([x[1] for x in son], index=[x[0] for x in son], columns =['SON'])\n",
        "df4 = pd.DataFrame([x[1] for x in fp_growth], index=[x[0] for x in fp_growth], columns =['FPGrowth'])\n",
        "df5 = pd.DataFrame([x[1] for x in son_v2], index=[x[0] for x in son_v2], columns =['SON_V2'])\n",
        "\n",
        "df = pd.concat([df1, df2, df3, df5, df4], axis=1)\n",
        "df[\"Equal\"] = df.nunique(axis = 1, dropna=False) == 1       \n",
        "df"
      ],
      "id": "lOfyQmTHiyfM"
    },
    {
      "cell_type": "code",
      "execution_count": 40,
      "metadata": {
        "colab": {
          "base_uri": "https://localhost:8080/"
        },
        "id": "gFfjKb49dhD-",
        "outputId": "8a147e88-1451-4984-806d-3641fa45345c"
      },
      "outputs": [
        {
          "output_type": "execute_result",
          "data": {
            "text/plain": [
              "{'apriori_MR': 2.0682215690612793,\n",
              " 'apriori_seq': 0.28475427627563477,\n",
              " 'fpgrowth': 2.2357470989227295,\n",
              " 'son': 12.718713521957397,\n",
              " 'son_dict': 1.4240660667419434}"
            ]
          },
          "metadata": {},
          "execution_count": 40
        }
      ],
      "source": [
        "execution_times"
      ],
      "id": "gFfjKb49dhD-"
    },
    {
      "cell_type": "markdown",
      "metadata": {
        "id": "-s6W5Y0DOKQ6"
      },
      "source": [
        "# Perfomance comparison"
      ],
      "id": "-s6W5Y0DOKQ6"
    },
    {
      "cell_type": "code",
      "source": [
        "import time\n",
        "\n",
        "def getOccPerLen(resultset):\n",
        "  singleton = 0\n",
        "  doubletons = 0\n",
        "  triplets = 0  \n",
        "  for itemset, support in resultset:\n",
        "    if type(itemset) == str:\n",
        "      singleton += 1\n",
        "    if len(itemset) == 2:\n",
        "      doubletons += 1\n",
        "    if len(itemset) == 3:\n",
        "      triplets +=1\n",
        "  return [singleton, doubletons, triplets]\n",
        "\n",
        "def timeit(method, *args):\n",
        "  before = time.time()\n",
        "  res = method(*args)\n",
        "\n",
        "  if type(res) != list:\n",
        "    res = res.collect()\n",
        "  \n",
        "  return time.time() - before, res"
      ],
      "metadata": {
        "id": "RPDMa_E65lI3"
      },
      "id": "RPDMa_E65lI3",
      "execution_count": 41,
      "outputs": []
    },
    {
      "cell_type": "code",
      "execution_count": 44,
      "metadata": {
        "colab": {
          "base_uri": "https://localhost:8080/"
        },
        "id": "st7zQDD1jHcs",
        "outputId": "c8c29781-8a0d-41e1-dc44-6d1cc20f57b5"
      },
      "outputs": [
        {
          "output_type": "stream",
          "name": "stdout",
          "text": [
            "Benchmark on 393656 rows\n",
            "  st: 0.0005%\n",
            "  st: 0.0006000000000000001%\n",
            "  st: 0.0007000000000000001%\n",
            "  st: 0.0008000000000000001%\n",
            "  st: 0.0009000000000000002%\n",
            "  st: 0.0010000000000000002%\n",
            "  st: 0.0012000000000000003%\n",
            "  st: 0.0014000000000000004%\n",
            "  st: 0.0016000000000000005%\n",
            "  st: 0.0018000000000000006%\n",
            "  st: 0.0020000000000000005%\n"
          ]
        }
      ],
      "source": [
        "import pandas as pd\n",
        "\n",
        "st_perc = .0005\n",
        "nrows = 393656 # basket_data.count()\n",
        "\n",
        "exectime = {}\n",
        "singletons = {}\n",
        "doubletons = {}\n",
        "triplets = {}\n",
        "\n",
        "num_partitions = spark.sparkContext._jsc.sc().getExecutorMemoryStatus().size() * 4\n",
        "basket_data = basket_data.repartition(num_partitions)\n",
        "\n",
        "print(f\"Benchmark on {nrows} rows\")\n",
        "while st_perc < .0022:\n",
        "  print(f\"  st: {st_perc}%\")\n",
        "  st = nrows * st_perc\n",
        "\n",
        "  ex1, its1 = timeit(apriori_unlimited_k, basket_data.collect(), st)\n",
        "  s1,d1,t1 = getOccPerLen(its1)\n",
        "  #print(f\"   apriori \\t{ex1}\")\n",
        "\n",
        "  ex2, its2 = timeit(apriorihmap_unlimited_k, basket_data, st)\n",
        "  s2,d2,t2 = getOccPerLen(its2)\n",
        "  #print(f\"   apriori hm\\t{ex2}\")\n",
        "\n",
        "  ex4, its4 = timeit(son_m_r_v2, basket_data, st)\n",
        "  s4,d4,t4 = getOccPerLen(its4)\n",
        "  #print(f\"   son hm\\t{ex4}\")\n",
        "\n",
        "  exectime[st_perc] = [ex1,ex2,ex4]\n",
        "  singletons[st_perc] = [s1,s2,s4]\n",
        "  doubletons[st_perc] = [d1,d2,d4]\n",
        "  triplets[st_perc] = [t1,t2,t4]\n",
        "\n",
        "  if st_perc >= 0.0010:\n",
        "    st_perc += .0002\n",
        "  else:\n",
        "    st_perc += .0001\n",
        "\n",
        "exectimeDF = pd.DataFrame(exectime, index=[\"Apriori\", \"Apriori MR\", \"SON HM\"])\n",
        "singletonsDF = pd.DataFrame(singletons, index=[\"Apriori\", \"Apriori MR\", \"SON HM\"])\n",
        "doubletonsDF = pd.DataFrame(doubletons, index=[\"Apriori\", \"Apriori MR\", \"SON HM\"])\n",
        "tripletsDF = pd.DataFrame(triplets, index=[\"Apriori\", \"Apriori MR\", \"SON HM\"])"
      ],
      "id": "st7zQDD1jHcs"
    },
    {
      "cell_type": "code",
      "execution_count": 45,
      "metadata": {
        "id": "-BQzPZtjOVIC"
      },
      "outputs": [],
      "source": [
        "# Check for consistent result\n",
        "singletonsDF = singletonsDF.transpose()\n",
        "singletonsDF[\"Equal\"] = singletonsDF.nunique(axis = 1, dropna=False) == 1\n",
        "assert singletonsDF[\"Equal\"].all()\n",
        "\n",
        "doubletonsDF = doubletonsDF.transpose()\n",
        "doubletonsDF[\"Equal\"] = doubletonsDF.nunique(axis = 1, dropna=False) == 1\n",
        "assert doubletonsDF[\"Equal\"].all()\n",
        "\n",
        "tripletsDF = tripletsDF.transpose()\n",
        "tripletsDF[\"Equal\"] = tripletsDF.nunique(axis = 1, dropna=False) == 1\n",
        "assert tripletsDF[\"Equal\"].all()"
      ],
      "id": "-BQzPZtjOVIC"
    },
    {
      "cell_type": "code",
      "source": [
        "itemsetCountDF = pd.DataFrame()\n",
        "itemsetCountDF[\"# Singletons\"] = singletonsDF.drop([\"Apriori MR\", \"SON HM\", \"Equal\"], axis = 1)\n",
        "itemsetCountDF[\"# Doubletons\"] = doubletonsDF.drop([\"Apriori MR\", \"SON HM\", \"Equal\"], axis = 1)\n",
        "itemsetCountDF[\"# Triplets\"] = tripletsDF.drop([\"Apriori MR\", \"SON HM\", \"Equal\"], axis = 1)"
      ],
      "metadata": {
        "id": "zoh0UpjiESm8"
      },
      "id": "zoh0UpjiESm8",
      "execution_count": 46,
      "outputs": []
    },
    {
      "cell_type": "code",
      "source": [
        "itemsetCountDF.transpose()"
      ],
      "metadata": {
        "id": "UHmPrzflGM1B",
        "outputId": "9642740c-1760-49da-f9e4-b356c97f7f8e",
        "colab": {
          "base_uri": "https://localhost:8080/",
          "height": 144
        }
      },
      "id": "UHmPrzflGM1B",
      "execution_count": 47,
      "outputs": [
        {
          "output_type": "execute_result",
          "data": {
            "text/html": [
              "\n",
              "  <div id=\"df-102ae9a4-b88b-47c4-8abb-a691c7ba9f7e\">\n",
              "    <div class=\"colab-df-container\">\n",
              "      <div>\n",
              "<style scoped>\n",
              "    .dataframe tbody tr th:only-of-type {\n",
              "        vertical-align: middle;\n",
              "    }\n",
              "\n",
              "    .dataframe tbody tr th {\n",
              "        vertical-align: top;\n",
              "    }\n",
              "\n",
              "    .dataframe thead th {\n",
              "        text-align: right;\n",
              "    }\n",
              "</style>\n",
              "<table border=\"1\" class=\"dataframe\">\n",
              "  <thead>\n",
              "    <tr style=\"text-align: right;\">\n",
              "      <th></th>\n",
              "      <th>0.0005</th>\n",
              "      <th>0.0006</th>\n",
              "      <th>0.0007</th>\n",
              "      <th>0.0008</th>\n",
              "      <th>0.0009</th>\n",
              "      <th>0.0010</th>\n",
              "      <th>0.0012</th>\n",
              "      <th>0.0014</th>\n",
              "      <th>0.0016</th>\n",
              "      <th>0.0018</th>\n",
              "      <th>0.0020</th>\n",
              "    </tr>\n",
              "  </thead>\n",
              "  <tbody>\n",
              "    <tr>\n",
              "      <th># Singletons</th>\n",
              "      <td>89</td>\n",
              "      <td>48</td>\n",
              "      <td>28</td>\n",
              "      <td>15</td>\n",
              "      <td>10</td>\n",
              "      <td>6</td>\n",
              "      <td>4</td>\n",
              "      <td>3</td>\n",
              "      <td>1</td>\n",
              "      <td>1</td>\n",
              "      <td>1</td>\n",
              "    </tr>\n",
              "    <tr>\n",
              "      <th># Doubletons</th>\n",
              "      <td>1</td>\n",
              "      <td>1</td>\n",
              "      <td>0</td>\n",
              "      <td>0</td>\n",
              "      <td>0</td>\n",
              "      <td>0</td>\n",
              "      <td>0</td>\n",
              "      <td>0</td>\n",
              "      <td>0</td>\n",
              "      <td>0</td>\n",
              "      <td>0</td>\n",
              "    </tr>\n",
              "    <tr>\n",
              "      <th># Triplets</th>\n",
              "      <td>0</td>\n",
              "      <td>0</td>\n",
              "      <td>0</td>\n",
              "      <td>0</td>\n",
              "      <td>0</td>\n",
              "      <td>0</td>\n",
              "      <td>0</td>\n",
              "      <td>0</td>\n",
              "      <td>0</td>\n",
              "      <td>0</td>\n",
              "      <td>0</td>\n",
              "    </tr>\n",
              "  </tbody>\n",
              "</table>\n",
              "</div>\n",
              "      <button class=\"colab-df-convert\" onclick=\"convertToInteractive('df-102ae9a4-b88b-47c4-8abb-a691c7ba9f7e')\"\n",
              "              title=\"Convert this dataframe to an interactive table.\"\n",
              "              style=\"display:none;\">\n",
              "        \n",
              "  <svg xmlns=\"http://www.w3.org/2000/svg\" height=\"24px\"viewBox=\"0 0 24 24\"\n",
              "       width=\"24px\">\n",
              "    <path d=\"M0 0h24v24H0V0z\" fill=\"none\"/>\n",
              "    <path d=\"M18.56 5.44l.94 2.06.94-2.06 2.06-.94-2.06-.94-.94-2.06-.94 2.06-2.06.94zm-11 1L8.5 8.5l.94-2.06 2.06-.94-2.06-.94L8.5 2.5l-.94 2.06-2.06.94zm10 10l.94 2.06.94-2.06 2.06-.94-2.06-.94-.94-2.06-.94 2.06-2.06.94z\"/><path d=\"M17.41 7.96l-1.37-1.37c-.4-.4-.92-.59-1.43-.59-.52 0-1.04.2-1.43.59L10.3 9.45l-7.72 7.72c-.78.78-.78 2.05 0 2.83L4 21.41c.39.39.9.59 1.41.59.51 0 1.02-.2 1.41-.59l7.78-7.78 2.81-2.81c.8-.78.8-2.07 0-2.86zM5.41 20L4 18.59l7.72-7.72 1.47 1.35L5.41 20z\"/>\n",
              "  </svg>\n",
              "      </button>\n",
              "      \n",
              "  <style>\n",
              "    .colab-df-container {\n",
              "      display:flex;\n",
              "      flex-wrap:wrap;\n",
              "      gap: 12px;\n",
              "    }\n",
              "\n",
              "    .colab-df-convert {\n",
              "      background-color: #E8F0FE;\n",
              "      border: none;\n",
              "      border-radius: 50%;\n",
              "      cursor: pointer;\n",
              "      display: none;\n",
              "      fill: #1967D2;\n",
              "      height: 32px;\n",
              "      padding: 0 0 0 0;\n",
              "      width: 32px;\n",
              "    }\n",
              "\n",
              "    .colab-df-convert:hover {\n",
              "      background-color: #E2EBFA;\n",
              "      box-shadow: 0px 1px 2px rgba(60, 64, 67, 0.3), 0px 1px 3px 1px rgba(60, 64, 67, 0.15);\n",
              "      fill: #174EA6;\n",
              "    }\n",
              "\n",
              "    [theme=dark] .colab-df-convert {\n",
              "      background-color: #3B4455;\n",
              "      fill: #D2E3FC;\n",
              "    }\n",
              "\n",
              "    [theme=dark] .colab-df-convert:hover {\n",
              "      background-color: #434B5C;\n",
              "      box-shadow: 0px 1px 3px 1px rgba(0, 0, 0, 0.15);\n",
              "      filter: drop-shadow(0px 1px 2px rgba(0, 0, 0, 0.3));\n",
              "      fill: #FFFFFF;\n",
              "    }\n",
              "  </style>\n",
              "\n",
              "      <script>\n",
              "        const buttonEl =\n",
              "          document.querySelector('#df-102ae9a4-b88b-47c4-8abb-a691c7ba9f7e button.colab-df-convert');\n",
              "        buttonEl.style.display =\n",
              "          google.colab.kernel.accessAllowed ? 'block' : 'none';\n",
              "\n",
              "        async function convertToInteractive(key) {\n",
              "          const element = document.querySelector('#df-102ae9a4-b88b-47c4-8abb-a691c7ba9f7e');\n",
              "          const dataTable =\n",
              "            await google.colab.kernel.invokeFunction('convertToInteractive',\n",
              "                                                     [key], {});\n",
              "          if (!dataTable) return;\n",
              "\n",
              "          const docLinkHtml = 'Like what you see? Visit the ' +\n",
              "            '<a target=\"_blank\" href=https://colab.research.google.com/notebooks/data_table.ipynb>data table notebook</a>'\n",
              "            + ' to learn more about interactive tables.';\n",
              "          element.innerHTML = '';\n",
              "          dataTable['output_type'] = 'display_data';\n",
              "          await google.colab.output.renderOutput(dataTable, element);\n",
              "          const docLink = document.createElement('div');\n",
              "          docLink.innerHTML = docLinkHtml;\n",
              "          element.appendChild(docLink);\n",
              "        }\n",
              "      </script>\n",
              "    </div>\n",
              "  </div>\n",
              "  "
            ],
            "text/plain": [
              "              0.0005  0.0006  0.0007  0.0008  ...  0.0014  0.0016  0.0018  0.0020\n",
              "# Singletons      89      48      28      15  ...       3       1       1       1\n",
              "# Doubletons       1       1       0       0  ...       0       0       0       0\n",
              "# Triplets         0       0       0       0  ...       0       0       0       0\n",
              "\n",
              "[3 rows x 11 columns]"
            ]
          },
          "metadata": {},
          "execution_count": 47
        }
      ]
    },
    {
      "cell_type": "code",
      "source": [
        "import matplotlib.pyplot as plt\n",
        "\n",
        "fig = exectimeDF.T.sort_index(ascending=False).plot().get_figure()\n",
        "plt.gca().invert_xaxis()\n",
        "fig.savefig('exectime.png')\n",
        "\n",
        "#from google.colab import files\n",
        "#files.download('exectime.png')"
      ],
      "metadata": {
        "id": "bs5QHgQCI3dQ",
        "outputId": "022f2173-2c7d-4517-e1a3-89862ec73d81",
        "colab": {
          "base_uri": "https://localhost:8080/",
          "height": 265
        }
      },
      "id": "bs5QHgQCI3dQ",
      "execution_count": 48,
      "outputs": [
        {
          "output_type": "display_data",
          "data": {
            "application/javascript": [
              "\n",
              "    async function download(id, filename, size) {\n",
              "      if (!google.colab.kernel.accessAllowed) {\n",
              "        return;\n",
              "      }\n",
              "      const div = document.createElement('div');\n",
              "      const label = document.createElement('label');\n",
              "      label.textContent = `Downloading \"${filename}\": `;\n",
              "      div.appendChild(label);\n",
              "      const progress = document.createElement('progress');\n",
              "      progress.max = size;\n",
              "      div.appendChild(progress);\n",
              "      document.body.appendChild(div);\n",
              "\n",
              "      const buffers = [];\n",
              "      let downloaded = 0;\n",
              "\n",
              "      const channel = await google.colab.kernel.comms.open(id);\n",
              "      // Send a message to notify the kernel that we're ready.\n",
              "      channel.send({})\n",
              "\n",
              "      for await (const message of channel.messages) {\n",
              "        // Send a message to notify the kernel that we're ready.\n",
              "        channel.send({})\n",
              "        if (message.buffers) {\n",
              "          for (const buffer of message.buffers) {\n",
              "            buffers.push(buffer);\n",
              "            downloaded += buffer.byteLength;\n",
              "            progress.value = downloaded;\n",
              "          }\n",
              "        }\n",
              "      }\n",
              "      const blob = new Blob(buffers, {type: 'application/binary'});\n",
              "      const a = document.createElement('a');\n",
              "      a.href = window.URL.createObjectURL(blob);\n",
              "      a.download = filename;\n",
              "      div.appendChild(a);\n",
              "      a.click();\n",
              "      div.remove();\n",
              "    }\n",
              "  "
            ],
            "text/plain": [
              "<IPython.core.display.Javascript object>"
            ]
          },
          "metadata": {}
        },
        {
          "output_type": "display_data",
          "data": {
            "application/javascript": [
              "download(\"download_c1362ed8-37b3-4423-a62d-c0f39a285aff\", \"exectime.png\", 13351)"
            ],
            "text/plain": [
              "<IPython.core.display.Javascript object>"
            ]
          },
          "metadata": {}
        },
        {
          "output_type": "display_data",
          "data": {
            "image/png": "[encoded data removed]",
            "text/plain": [
              "<Figure size 432x288 with 1 Axes>"
            ]
          },
          "metadata": {
            "needs_background": "light"
          }
        }
      ]
    },
    {
      "cell_type": "code",
      "source": [
        "print(exectimeDF.T.to_latex())\n",
        "print(itemsetCountDF.to_latex())"
      ],
      "metadata": {
        "colab": {
          "base_uri": "https://localhost:8080/"
        },
        "id": "j5E4_Or35ier",
        "outputId": "9c9a0e5b-70eb-4870-b881-51d552024eb4"
      },
      "id": "j5E4_Or35ier",
      "execution_count": 51,
      "outputs": [
        {
          "output_type": "stream",
          "name": "stdout",
          "text": [
            "\\begin{tabular}{lrrr}\n",
            "\\toprule\n",
            "{} &     Apriori &  Apriori MR &       SON HM \\\\\n",
            "\\midrule\n",
            "0.0005 &  970.065916 &  904.597095 &  1089.687631 \\\\\n",
            "0.0006 &  280.070612 &  267.718065 &   322.889096 \\\\\n",
            "0.0007 &   94.992104 &   95.566126 &   110.739193 \\\\\n",
            "0.0008 &   27.663077 &   33.943501 &    46.756983 \\\\\n",
            "0.0009 &   12.765596 &   20.111274 &    22.532161 \\\\\n",
            "0.0010 &    5.505735 &   13.194169 &    11.593682 \\\\\n",
            "0.0012 &    3.253653 &   11.070552 &     7.043262 \\\\\n",
            "0.0014 &    2.472198 &   10.589934 &     6.245012 \\\\\n",
            "0.0016 &    1.722727 &    9.662168 &     4.982123 \\\\\n",
            "0.0018 &    1.758922 &    9.475686 &     5.060649 \\\\\n",
            "0.0020 &    1.754561 &   10.397350 &     5.160399 \\\\\n",
            "\\bottomrule\n",
            "\\end{tabular}\n",
            "\n",
            "\\begin{tabular}{lrrr}\n",
            "\\toprule\n",
            "{} &  \\# Singletons &  \\# Doubletons &  \\# Triplets \\\\\n",
            "\\midrule\n",
            "0.0005 &            89 &             1 &           0 \\\\\n",
            "0.0006 &            48 &             1 &           0 \\\\\n",
            "0.0007 &            28 &             0 &           0 \\\\\n",
            "0.0008 &            15 &             0 &           0 \\\\\n",
            "0.0009 &            10 &             0 &           0 \\\\\n",
            "0.0010 &             6 &             0 &           0 \\\\\n",
            "0.0012 &             4 &             0 &           0 \\\\\n",
            "0.0014 &             3 &             0 &           0 \\\\\n",
            "0.0016 &             1 &             0 &           0 \\\\\n",
            "0.0018 &             1 &             0 &           0 \\\\\n",
            "0.0020 &             1 &             0 &           0 \\\\\n",
            "\\bottomrule\n",
            "\\end{tabular}\n",
            "\n"
          ]
        }
      ]
    }
  ],
  "metadata": {
    "colab": {
      "collapsed_sections": [
        "lGRAllgArUcg",
        "arabic-forwarding",
        "B2wchK4S6FSd",
        "I7dZSxBd1hWQ",
        "0KsAA5w_21g1",
        "z3NcLCryldUa"
      ],
      "name": "imdb_market_basket_analysis.ipynb",
      "provenance": []
    },
    "kernelspec": {
      "display_name": "Python 3",
      "language": "python",
      "name": "python3"
    },
    "language_info": {
      "codemirror_mode": {
        "name": "ipython",
        "version": 3
      },
      "file_extension": ".py",
      "mimetype": "text/x-python",
      "name": "python",
      "nbconvert_exporter": "python",
      "pygments_lexer": "ipython3",
      "version": "3.8.5"
    }
  },
  "nbformat": 4,
  "nbformat_minor": 5
}
