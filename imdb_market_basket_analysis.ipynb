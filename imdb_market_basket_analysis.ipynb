{
 "cells": [
  {
   "cell_type": "markdown",
   "id": "protecting-prague",
   "metadata": {},
   "source": [
    "# Project 2: Market-basket analysis - IMDB dataset"
   ]
  },
  {
   "cell_type": "markdown",
   "id": "ordered-filename",
   "metadata": {},
   "source": [
    "Project for the course of Algorithms for Massive Dataset <br> Nicolas Facchinetti 961648 <br> Antonio Belotti xxxxxx"
   ]
  },
  {
   "cell_type": "markdown",
   "id": "vietnamese-garage",
   "metadata": {},
   "source": [
    "# Download the dataset from Kaggle"
   ]
  },
  {
   "cell_type": "markdown",
   "id": "civilian-ridge",
   "metadata": {},
   "source": [
    "First install the Python module of Kaggle to download the dataset from its datacenter"
   ]
  },
  {
   "cell_type": "code",
   "execution_count": 1,
   "id": "imported-attendance",
   "metadata": {},
   "outputs": [
    {
     "name": "stdout",
     "output_type": "stream",
     "text": [
      "Collecting kaggle\n",
      "  Downloading kaggle-1.5.12.tar.gz (58 kB)\n",
      "Requirement already satisfied: six>=1.10 in c:\\users\\nicolas facchinetti\\.conda\\envs\\tf-gpu\\lib\\site-packages (from kaggle) (1.15.0)\n",
      "Requirement already satisfied: certifi in c:\\users\\nicolas facchinetti\\.conda\\envs\\tf-gpu\\lib\\site-packages (from kaggle) (2020.4.5.2)\n",
      "Requirement already satisfied: python-dateutil in c:\\users\\nicolas facchinetti\\appdata\\roaming\\python\\python37\\site-packages (from kaggle) (2.8.1)\n",
      "Requirement already satisfied: requests in c:\\users\\nicolas facchinetti\\.conda\\envs\\tf-gpu\\lib\\site-packages (from kaggle) (2.23.0)\n",
      "Requirement already satisfied: tqdm in c:\\users\\nicolas facchinetti\\.conda\\envs\\tf-gpu\\lib\\site-packages (from kaggle) (4.46.1)\n",
      "Collecting python-slugify\n",
      "  Downloading python_slugify-5.0.2-py2.py3-none-any.whl (6.7 kB)\n",
      "Requirement already satisfied: urllib3 in c:\\users\\nicolas facchinetti\\.conda\\envs\\tf-gpu\\lib\\site-packages (from kaggle) (1.25.9)\n",
      "Requirement already satisfied: chardet<4,>=3.0.2 in c:\\users\\nicolas facchinetti\\.conda\\envs\\tf-gpu\\lib\\site-packages (from requests->kaggle) (3.0.4)\n",
      "Requirement already satisfied: idna<3,>=2.5 in c:\\users\\nicolas facchinetti\\.conda\\envs\\tf-gpu\\lib\\site-packages (from requests->kaggle) (2.9)\n",
      "Collecting text-unidecode>=1.3\n",
      "  Downloading text_unidecode-1.3-py2.py3-none-any.whl (78 kB)\n",
      "Building wheels for collected packages: kaggle\n",
      "  Building wheel for kaggle (setup.py): started\n",
      "  Building wheel for kaggle (setup.py): finished with status 'done'\n",
      "  Created wheel for kaggle: filename=kaggle-1.5.12-py3-none-any.whl size=73058 sha256=c3bec3be5cbe76ad62a0d970ec66e8c13081865252b8c4a464d480712f0b1aed\n",
      "  Stored in directory: c:\\users\\nicolas facchinetti\\appdata\\local\\pip\\cache\\wheels\\62\\d6\\58\\5853130f941e75b2177d281eb7e44b4a98ed46dd155f556dc5\n",
      "Successfully built kaggle\n",
      "Installing collected packages: text-unidecode, python-slugify, kaggle\n",
      "Successfully installed kaggle-1.5.12 python-slugify-5.0.2 text-unidecode-1.3\n"
     ]
    }
   ],
   "source": [
    "!pip install kaggle"
   ]
  },
  {
   "cell_type": "markdown",
   "id": "olive-frequency",
   "metadata": {},
   "source": [
    "Then load kaggle.json, a file containing your API credentials to be able to use the services offered by Kaggle"
   ]
  },
  {
   "cell_type": "code",
   "execution_count": null,
   "id": "worse-twelve",
   "metadata": {},
   "outputs": [],
   "source": [
    "from google.colab import files\n",
    "\n",
    "uploaded = files.upload()\n"
   ]
  }
 ],
 "metadata": {
  "kernelspec": {
   "display_name": "Python 3.7.7 64-bit ('tf-gpu': conda)",
   "language": "python",
   "name": "python37764bittfgpuconda69e5dcd644e74d2bbdb17a00c65db70c"
  },
  "language_info": {
   "codemirror_mode": {
    "name": "ipython",
    "version": 3
   },
   "file_extension": ".py",
   "mimetype": "text/x-python",
   "name": "python",
   "nbconvert_exporter": "python",
   "pygments_lexer": "ipython3",
   "version": "3.7.7"
  }
 },
 "nbformat": 4,
 "nbformat_minor": 5
}
